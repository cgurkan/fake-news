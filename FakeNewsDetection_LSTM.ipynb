{
  "nbformat": 4,
  "nbformat_minor": 0,
  "metadata": {
    "colab": {
      "provenance": [],
      "collapsed_sections": [
        "qbWTO5ZJfLNJ",
        "zVxDSdbCf7gq",
        "cAlegceihafU",
        "pCYEY5QTpCAx",
        "b1L6X8ULrbXJ"
      ],
      "toc_visible": true,
      "gpuType": "T4",
      "authorship_tag": "ABX9TyMYUI6JEoHk4pZW9zg4TvRh",
      "include_colab_link": true
    },
    "kernelspec": {
      "name": "python3",
      "display_name": "Python 3"
    },
    "language_info": {
      "name": "python"
    },
    "widgets": {
      "application/vnd.jupyter.widget-state+json": {
        "72751e9d6e06406690de26487f004641": {
          "model_module": "@jupyter-widgets/controls",
          "model_name": "HBoxModel",
          "model_module_version": "1.5.0",
          "state": {
            "_dom_classes": [],
            "_model_module": "@jupyter-widgets/controls",
            "_model_module_version": "1.5.0",
            "_model_name": "HBoxModel",
            "_view_count": null,
            "_view_module": "@jupyter-widgets/controls",
            "_view_module_version": "1.5.0",
            "_view_name": "HBoxView",
            "box_style": "",
            "children": [
              "IPY_MODEL_ec10628037a448c6a503e38cc266a5ac",
              "IPY_MODEL_8bfdcca51a744b68a3a1fa153e459ae5",
              "IPY_MODEL_e07eeb7271844ddbac839db85ae67bce"
            ],
            "layout": "IPY_MODEL_7c20e8c3d7374ddcb0d1a4411bed2b6e"
          }
        },
        "ec10628037a448c6a503e38cc266a5ac": {
          "model_module": "@jupyter-widgets/controls",
          "model_name": "HTMLModel",
          "model_module_version": "1.5.0",
          "state": {
            "_dom_classes": [],
            "_model_module": "@jupyter-widgets/controls",
            "_model_module_version": "1.5.0",
            "_model_name": "HTMLModel",
            "_view_count": null,
            "_view_module": "@jupyter-widgets/controls",
            "_view_module_version": "1.5.0",
            "_view_name": "HTMLView",
            "description": "",
            "description_tooltip": null,
            "layout": "IPY_MODEL_792a805fd6594ce69317bcf9c1c79bf5",
            "placeholder": "​",
            "style": "IPY_MODEL_663b18f5e4cd40cfa99701a46551eab7",
            "value": "100%"
          }
        },
        "8bfdcca51a744b68a3a1fa153e459ae5": {
          "model_module": "@jupyter-widgets/controls",
          "model_name": "FloatProgressModel",
          "model_module_version": "1.5.0",
          "state": {
            "_dom_classes": [],
            "_model_module": "@jupyter-widgets/controls",
            "_model_module_version": "1.5.0",
            "_model_name": "FloatProgressModel",
            "_view_count": null,
            "_view_module": "@jupyter-widgets/controls",
            "_view_module_version": "1.5.0",
            "_view_name": "ProgressView",
            "bar_style": "success",
            "description": "",
            "description_tooltip": null,
            "layout": "IPY_MODEL_70b2ca327ece4f22b6ad864a16db5e36",
            "max": 1264,
            "min": 0,
            "orientation": "horizontal",
            "style": "IPY_MODEL_d914dd3210804d408ec7b536eab1a508",
            "value": 1264
          }
        },
        "e07eeb7271844ddbac839db85ae67bce": {
          "model_module": "@jupyter-widgets/controls",
          "model_name": "HTMLModel",
          "model_module_version": "1.5.0",
          "state": {
            "_dom_classes": [],
            "_model_module": "@jupyter-widgets/controls",
            "_model_module_version": "1.5.0",
            "_model_name": "HTMLModel",
            "_view_count": null,
            "_view_module": "@jupyter-widgets/controls",
            "_view_module_version": "1.5.0",
            "_view_name": "HTMLView",
            "description": "",
            "description_tooltip": null,
            "layout": "IPY_MODEL_1907f51b26914ac6a9c92826f701a06a",
            "placeholder": "​",
            "style": "IPY_MODEL_810d690e83d84cbdadc9c488e8f6a2c1",
            "value": " 1264/1264 [00:14&lt;00:00, 137.78it/s]"
          }
        },
        "7c20e8c3d7374ddcb0d1a4411bed2b6e": {
          "model_module": "@jupyter-widgets/base",
          "model_name": "LayoutModel",
          "model_module_version": "1.2.0",
          "state": {
            "_model_module": "@jupyter-widgets/base",
            "_model_module_version": "1.2.0",
            "_model_name": "LayoutModel",
            "_view_count": null,
            "_view_module": "@jupyter-widgets/base",
            "_view_module_version": "1.2.0",
            "_view_name": "LayoutView",
            "align_content": null,
            "align_items": null,
            "align_self": null,
            "border": null,
            "bottom": null,
            "display": null,
            "flex": null,
            "flex_flow": null,
            "grid_area": null,
            "grid_auto_columns": null,
            "grid_auto_flow": null,
            "grid_auto_rows": null,
            "grid_column": null,
            "grid_gap": null,
            "grid_row": null,
            "grid_template_areas": null,
            "grid_template_columns": null,
            "grid_template_rows": null,
            "height": null,
            "justify_content": null,
            "justify_items": null,
            "left": null,
            "margin": null,
            "max_height": null,
            "max_width": null,
            "min_height": null,
            "min_width": null,
            "object_fit": null,
            "object_position": null,
            "order": null,
            "overflow": null,
            "overflow_x": null,
            "overflow_y": null,
            "padding": null,
            "right": null,
            "top": null,
            "visibility": null,
            "width": null
          }
        },
        "792a805fd6594ce69317bcf9c1c79bf5": {
          "model_module": "@jupyter-widgets/base",
          "model_name": "LayoutModel",
          "model_module_version": "1.2.0",
          "state": {
            "_model_module": "@jupyter-widgets/base",
            "_model_module_version": "1.2.0",
            "_model_name": "LayoutModel",
            "_view_count": null,
            "_view_module": "@jupyter-widgets/base",
            "_view_module_version": "1.2.0",
            "_view_name": "LayoutView",
            "align_content": null,
            "align_items": null,
            "align_self": null,
            "border": null,
            "bottom": null,
            "display": null,
            "flex": null,
            "flex_flow": null,
            "grid_area": null,
            "grid_auto_columns": null,
            "grid_auto_flow": null,
            "grid_auto_rows": null,
            "grid_column": null,
            "grid_gap": null,
            "grid_row": null,
            "grid_template_areas": null,
            "grid_template_columns": null,
            "grid_template_rows": null,
            "height": null,
            "justify_content": null,
            "justify_items": null,
            "left": null,
            "margin": null,
            "max_height": null,
            "max_width": null,
            "min_height": null,
            "min_width": null,
            "object_fit": null,
            "object_position": null,
            "order": null,
            "overflow": null,
            "overflow_x": null,
            "overflow_y": null,
            "padding": null,
            "right": null,
            "top": null,
            "visibility": null,
            "width": null
          }
        },
        "663b18f5e4cd40cfa99701a46551eab7": {
          "model_module": "@jupyter-widgets/controls",
          "model_name": "DescriptionStyleModel",
          "model_module_version": "1.5.0",
          "state": {
            "_model_module": "@jupyter-widgets/controls",
            "_model_module_version": "1.5.0",
            "_model_name": "DescriptionStyleModel",
            "_view_count": null,
            "_view_module": "@jupyter-widgets/base",
            "_view_module_version": "1.2.0",
            "_view_name": "StyleView",
            "description_width": ""
          }
        },
        "70b2ca327ece4f22b6ad864a16db5e36": {
          "model_module": "@jupyter-widgets/base",
          "model_name": "LayoutModel",
          "model_module_version": "1.2.0",
          "state": {
            "_model_module": "@jupyter-widgets/base",
            "_model_module_version": "1.2.0",
            "_model_name": "LayoutModel",
            "_view_count": null,
            "_view_module": "@jupyter-widgets/base",
            "_view_module_version": "1.2.0",
            "_view_name": "LayoutView",
            "align_content": null,
            "align_items": null,
            "align_self": null,
            "border": null,
            "bottom": null,
            "display": null,
            "flex": null,
            "flex_flow": null,
            "grid_area": null,
            "grid_auto_columns": null,
            "grid_auto_flow": null,
            "grid_auto_rows": null,
            "grid_column": null,
            "grid_gap": null,
            "grid_row": null,
            "grid_template_areas": null,
            "grid_template_columns": null,
            "grid_template_rows": null,
            "height": null,
            "justify_content": null,
            "justify_items": null,
            "left": null,
            "margin": null,
            "max_height": null,
            "max_width": null,
            "min_height": null,
            "min_width": null,
            "object_fit": null,
            "object_position": null,
            "order": null,
            "overflow": null,
            "overflow_x": null,
            "overflow_y": null,
            "padding": null,
            "right": null,
            "top": null,
            "visibility": null,
            "width": null
          }
        },
        "d914dd3210804d408ec7b536eab1a508": {
          "model_module": "@jupyter-widgets/controls",
          "model_name": "ProgressStyleModel",
          "model_module_version": "1.5.0",
          "state": {
            "_model_module": "@jupyter-widgets/controls",
            "_model_module_version": "1.5.0",
            "_model_name": "ProgressStyleModel",
            "_view_count": null,
            "_view_module": "@jupyter-widgets/base",
            "_view_module_version": "1.2.0",
            "_view_name": "StyleView",
            "bar_color": null,
            "description_width": ""
          }
        },
        "1907f51b26914ac6a9c92826f701a06a": {
          "model_module": "@jupyter-widgets/base",
          "model_name": "LayoutModel",
          "model_module_version": "1.2.0",
          "state": {
            "_model_module": "@jupyter-widgets/base",
            "_model_module_version": "1.2.0",
            "_model_name": "LayoutModel",
            "_view_count": null,
            "_view_module": "@jupyter-widgets/base",
            "_view_module_version": "1.2.0",
            "_view_name": "LayoutView",
            "align_content": null,
            "align_items": null,
            "align_self": null,
            "border": null,
            "bottom": null,
            "display": null,
            "flex": null,
            "flex_flow": null,
            "grid_area": null,
            "grid_auto_columns": null,
            "grid_auto_flow": null,
            "grid_auto_rows": null,
            "grid_column": null,
            "grid_gap": null,
            "grid_row": null,
            "grid_template_areas": null,
            "grid_template_columns": null,
            "grid_template_rows": null,
            "height": null,
            "justify_content": null,
            "justify_items": null,
            "left": null,
            "margin": null,
            "max_height": null,
            "max_width": null,
            "min_height": null,
            "min_width": null,
            "object_fit": null,
            "object_position": null,
            "order": null,
            "overflow": null,
            "overflow_x": null,
            "overflow_y": null,
            "padding": null,
            "right": null,
            "top": null,
            "visibility": null,
            "width": null
          }
        },
        "810d690e83d84cbdadc9c488e8f6a2c1": {
          "model_module": "@jupyter-widgets/controls",
          "model_name": "DescriptionStyleModel",
          "model_module_version": "1.5.0",
          "state": {
            "_model_module": "@jupyter-widgets/controls",
            "_model_module_version": "1.5.0",
            "_model_name": "DescriptionStyleModel",
            "_view_count": null,
            "_view_module": "@jupyter-widgets/base",
            "_view_module_version": "1.2.0",
            "_view_name": "StyleView",
            "description_width": ""
          }
        },
        "5ce7680253214fe7a77609ff950fc5f8": {
          "model_module": "@jupyter-widgets/controls",
          "model_name": "HBoxModel",
          "model_module_version": "1.5.0",
          "state": {
            "_dom_classes": [],
            "_model_module": "@jupyter-widgets/controls",
            "_model_module_version": "1.5.0",
            "_model_name": "HBoxModel",
            "_view_count": null,
            "_view_module": "@jupyter-widgets/controls",
            "_view_module_version": "1.5.0",
            "_view_name": "HBoxView",
            "box_style": "",
            "children": [
              "IPY_MODEL_de03f405c73346daba804dcf8017b89c",
              "IPY_MODEL_631e917fd4ed4e99893f8889b4d59f54",
              "IPY_MODEL_5e39c766c6894bc9a3a69d21c168142c"
            ],
            "layout": "IPY_MODEL_55c1eb3d8a5849d495e80fe98fffd066"
          }
        },
        "de03f405c73346daba804dcf8017b89c": {
          "model_module": "@jupyter-widgets/controls",
          "model_name": "HTMLModel",
          "model_module_version": "1.5.0",
          "state": {
            "_dom_classes": [],
            "_model_module": "@jupyter-widgets/controls",
            "_model_module_version": "1.5.0",
            "_model_name": "HTMLModel",
            "_view_count": null,
            "_view_module": "@jupyter-widgets/controls",
            "_view_module_version": "1.5.0",
            "_view_name": "HTMLView",
            "description": "",
            "description_tooltip": null,
            "layout": "IPY_MODEL_6397fe9c1e874a038e0aca8e4b0a3e62",
            "placeholder": "​",
            "style": "IPY_MODEL_c99fcc3987854e0e8eb2abd7a59d00a9",
            "value": "100%"
          }
        },
        "631e917fd4ed4e99893f8889b4d59f54": {
          "model_module": "@jupyter-widgets/controls",
          "model_name": "FloatProgressModel",
          "model_module_version": "1.5.0",
          "state": {
            "_dom_classes": [],
            "_model_module": "@jupyter-widgets/controls",
            "_model_module_version": "1.5.0",
            "_model_name": "FloatProgressModel",
            "_view_count": null,
            "_view_module": "@jupyter-widgets/controls",
            "_view_module_version": "1.5.0",
            "_view_name": "ProgressView",
            "bar_style": "success",
            "description": "",
            "description_tooltip": null,
            "layout": "IPY_MODEL_f1a24e52a6e54c5caac4c3cd43fe211a",
            "max": 612,
            "min": 0,
            "orientation": "horizontal",
            "style": "IPY_MODEL_43183bf3f41a46fb93eb668357678d54",
            "value": 612
          }
        },
        "5e39c766c6894bc9a3a69d21c168142c": {
          "model_module": "@jupyter-widgets/controls",
          "model_name": "HTMLModel",
          "model_module_version": "1.5.0",
          "state": {
            "_dom_classes": [],
            "_model_module": "@jupyter-widgets/controls",
            "_model_module_version": "1.5.0",
            "_model_name": "HTMLModel",
            "_view_count": null,
            "_view_module": "@jupyter-widgets/controls",
            "_view_module_version": "1.5.0",
            "_view_name": "HTMLView",
            "description": "",
            "description_tooltip": null,
            "layout": "IPY_MODEL_b16878363f76444087e057a4ec88084b",
            "placeholder": "​",
            "style": "IPY_MODEL_9967e60587d64c34b4bfa5de03ec32b9",
            "value": " 612/612 [00:08&lt;00:00, 107.25it/s]"
          }
        },
        "55c1eb3d8a5849d495e80fe98fffd066": {
          "model_module": "@jupyter-widgets/base",
          "model_name": "LayoutModel",
          "model_module_version": "1.2.0",
          "state": {
            "_model_module": "@jupyter-widgets/base",
            "_model_module_version": "1.2.0",
            "_model_name": "LayoutModel",
            "_view_count": null,
            "_view_module": "@jupyter-widgets/base",
            "_view_module_version": "1.2.0",
            "_view_name": "LayoutView",
            "align_content": null,
            "align_items": null,
            "align_self": null,
            "border": null,
            "bottom": null,
            "display": null,
            "flex": null,
            "flex_flow": null,
            "grid_area": null,
            "grid_auto_columns": null,
            "grid_auto_flow": null,
            "grid_auto_rows": null,
            "grid_column": null,
            "grid_gap": null,
            "grid_row": null,
            "grid_template_areas": null,
            "grid_template_columns": null,
            "grid_template_rows": null,
            "height": null,
            "justify_content": null,
            "justify_items": null,
            "left": null,
            "margin": null,
            "max_height": null,
            "max_width": null,
            "min_height": null,
            "min_width": null,
            "object_fit": null,
            "object_position": null,
            "order": null,
            "overflow": null,
            "overflow_x": null,
            "overflow_y": null,
            "padding": null,
            "right": null,
            "top": null,
            "visibility": null,
            "width": null
          }
        },
        "6397fe9c1e874a038e0aca8e4b0a3e62": {
          "model_module": "@jupyter-widgets/base",
          "model_name": "LayoutModel",
          "model_module_version": "1.2.0",
          "state": {
            "_model_module": "@jupyter-widgets/base",
            "_model_module_version": "1.2.0",
            "_model_name": "LayoutModel",
            "_view_count": null,
            "_view_module": "@jupyter-widgets/base",
            "_view_module_version": "1.2.0",
            "_view_name": "LayoutView",
            "align_content": null,
            "align_items": null,
            "align_self": null,
            "border": null,
            "bottom": null,
            "display": null,
            "flex": null,
            "flex_flow": null,
            "grid_area": null,
            "grid_auto_columns": null,
            "grid_auto_flow": null,
            "grid_auto_rows": null,
            "grid_column": null,
            "grid_gap": null,
            "grid_row": null,
            "grid_template_areas": null,
            "grid_template_columns": null,
            "grid_template_rows": null,
            "height": null,
            "justify_content": null,
            "justify_items": null,
            "left": null,
            "margin": null,
            "max_height": null,
            "max_width": null,
            "min_height": null,
            "min_width": null,
            "object_fit": null,
            "object_position": null,
            "order": null,
            "overflow": null,
            "overflow_x": null,
            "overflow_y": null,
            "padding": null,
            "right": null,
            "top": null,
            "visibility": null,
            "width": null
          }
        },
        "c99fcc3987854e0e8eb2abd7a59d00a9": {
          "model_module": "@jupyter-widgets/controls",
          "model_name": "DescriptionStyleModel",
          "model_module_version": "1.5.0",
          "state": {
            "_model_module": "@jupyter-widgets/controls",
            "_model_module_version": "1.5.0",
            "_model_name": "DescriptionStyleModel",
            "_view_count": null,
            "_view_module": "@jupyter-widgets/base",
            "_view_module_version": "1.2.0",
            "_view_name": "StyleView",
            "description_width": ""
          }
        },
        "f1a24e52a6e54c5caac4c3cd43fe211a": {
          "model_module": "@jupyter-widgets/base",
          "model_name": "LayoutModel",
          "model_module_version": "1.2.0",
          "state": {
            "_model_module": "@jupyter-widgets/base",
            "_model_module_version": "1.2.0",
            "_model_name": "LayoutModel",
            "_view_count": null,
            "_view_module": "@jupyter-widgets/base",
            "_view_module_version": "1.2.0",
            "_view_name": "LayoutView",
            "align_content": null,
            "align_items": null,
            "align_self": null,
            "border": null,
            "bottom": null,
            "display": null,
            "flex": null,
            "flex_flow": null,
            "grid_area": null,
            "grid_auto_columns": null,
            "grid_auto_flow": null,
            "grid_auto_rows": null,
            "grid_column": null,
            "grid_gap": null,
            "grid_row": null,
            "grid_template_areas": null,
            "grid_template_columns": null,
            "grid_template_rows": null,
            "height": null,
            "justify_content": null,
            "justify_items": null,
            "left": null,
            "margin": null,
            "max_height": null,
            "max_width": null,
            "min_height": null,
            "min_width": null,
            "object_fit": null,
            "object_position": null,
            "order": null,
            "overflow": null,
            "overflow_x": null,
            "overflow_y": null,
            "padding": null,
            "right": null,
            "top": null,
            "visibility": null,
            "width": null
          }
        },
        "43183bf3f41a46fb93eb668357678d54": {
          "model_module": "@jupyter-widgets/controls",
          "model_name": "ProgressStyleModel",
          "model_module_version": "1.5.0",
          "state": {
            "_model_module": "@jupyter-widgets/controls",
            "_model_module_version": "1.5.0",
            "_model_name": "ProgressStyleModel",
            "_view_count": null,
            "_view_module": "@jupyter-widgets/base",
            "_view_module_version": "1.2.0",
            "_view_name": "StyleView",
            "bar_color": null,
            "description_width": ""
          }
        },
        "b16878363f76444087e057a4ec88084b": {
          "model_module": "@jupyter-widgets/base",
          "model_name": "LayoutModel",
          "model_module_version": "1.2.0",
          "state": {
            "_model_module": "@jupyter-widgets/base",
            "_model_module_version": "1.2.0",
            "_model_name": "LayoutModel",
            "_view_count": null,
            "_view_module": "@jupyter-widgets/base",
            "_view_module_version": "1.2.0",
            "_view_name": "LayoutView",
            "align_content": null,
            "align_items": null,
            "align_self": null,
            "border": null,
            "bottom": null,
            "display": null,
            "flex": null,
            "flex_flow": null,
            "grid_area": null,
            "grid_auto_columns": null,
            "grid_auto_flow": null,
            "grid_auto_rows": null,
            "grid_column": null,
            "grid_gap": null,
            "grid_row": null,
            "grid_template_areas": null,
            "grid_template_columns": null,
            "grid_template_rows": null,
            "height": null,
            "justify_content": null,
            "justify_items": null,
            "left": null,
            "margin": null,
            "max_height": null,
            "max_width": null,
            "min_height": null,
            "min_width": null,
            "object_fit": null,
            "object_position": null,
            "order": null,
            "overflow": null,
            "overflow_x": null,
            "overflow_y": null,
            "padding": null,
            "right": null,
            "top": null,
            "visibility": null,
            "width": null
          }
        },
        "9967e60587d64c34b4bfa5de03ec32b9": {
          "model_module": "@jupyter-widgets/controls",
          "model_name": "DescriptionStyleModel",
          "model_module_version": "1.5.0",
          "state": {
            "_model_module": "@jupyter-widgets/controls",
            "_model_module_version": "1.5.0",
            "_model_name": "DescriptionStyleModel",
            "_view_count": null,
            "_view_module": "@jupyter-widgets/base",
            "_view_module_version": "1.2.0",
            "_view_name": "StyleView",
            "description_width": ""
          }
        }
      }
    },
    "accelerator": "GPU"
  },
  "cells": [
    {
      "cell_type": "markdown",
      "metadata": {
        "id": "view-in-github",
        "colab_type": "text"
      },
      "source": [
        "<a href=\"https://colab.research.google.com/github/cgurkan/fake-news/blob/main/FakeNewsDetection_LSTM.ipynb\" target=\"_parent\"><img src=\"https://colab.research.google.com/assets/colab-badge.svg\" alt=\"Open In Colab\"/></a>"
      ]
    },
    {
      "cell_type": "markdown",
      "source": [
        "# Fake News Detection\n",
        "\n",
        "- Preprocess\n",
        "- Build Model With CNN and LSTM"
      ],
      "metadata": {
        "id": "IiRlyURVfGjN"
      }
    },
    {
      "cell_type": "markdown",
      "source": [
        "## Import Libraries"
      ],
      "metadata": {
        "id": "qbWTO5ZJfLNJ"
      }
    },
    {
      "cell_type": "code",
      "execution_count": 1,
      "metadata": {
        "colab": {
          "base_uri": "https://localhost:8080/"
        },
        "id": "O5WozqHpoF1z",
        "outputId": "d2378d16-626b-41ba-a7ef-b90481492f9c"
      },
      "outputs": [
        {
          "output_type": "stream",
          "name": "stdout",
          "text": [
            "Looking in indexes: https://pypi.org/simple, https://us-python.pkg.dev/colab-wheels/public/simple/\n",
            "Collecting clean-text\n",
            "  Downloading clean_text-0.6.0-py3-none-any.whl (11 kB)\n",
            "Collecting emoji<2.0.0,>=1.0.0 (from clean-text)\n",
            "  Downloading emoji-1.7.0.tar.gz (175 kB)\n",
            "\u001b[2K     \u001b[90m━━━━━━━━━━━━━━━━━━━━━━━━━━━━━━━━━━━━━━━\u001b[0m \u001b[32m175.4/175.4 kB\u001b[0m \u001b[31m7.0 MB/s\u001b[0m eta \u001b[36m0:00:00\u001b[0m\n",
            "\u001b[?25h  Preparing metadata (setup.py) ... \u001b[?25l\u001b[?25hdone\n",
            "Collecting ftfy<7.0,>=6.0 (from clean-text)\n",
            "  Downloading ftfy-6.1.1-py3-none-any.whl (53 kB)\n",
            "\u001b[2K     \u001b[90m━━━━━━━━━━━━━━━━━━━━━━━━━━━━━━━━━━━━━━━━\u001b[0m \u001b[32m53.1/53.1 kB\u001b[0m \u001b[31m6.1 MB/s\u001b[0m eta \u001b[36m0:00:00\u001b[0m\n",
            "\u001b[?25hRequirement already satisfied: wcwidth>=0.2.5 in /usr/local/lib/python3.10/dist-packages (from ftfy<7.0,>=6.0->clean-text) (0.2.6)\n",
            "Building wheels for collected packages: emoji\n",
            "  Building wheel for emoji (setup.py) ... \u001b[?25l\u001b[?25hdone\n",
            "  Created wheel for emoji: filename=emoji-1.7.0-py3-none-any.whl size=171033 sha256=728d89a2562bfbe34f74132022993b38b6a92a59c148588631097de0b98f6ea1\n",
            "  Stored in directory: /root/.cache/pip/wheels/31/8a/8c/315c9e5d7773f74b33d5ed33f075b49c6eaeb7cedbb86e2cf8\n",
            "Successfully built emoji\n",
            "Installing collected packages: emoji, ftfy, clean-text\n",
            "Successfully installed clean-text-0.6.0 emoji-1.7.0 ftfy-6.1.1\n"
          ]
        }
      ],
      "source": [
        "# clean-text package is used for text processing\n",
        "!pip install clean-text"
      ]
    },
    {
      "cell_type": "code",
      "source": [
        "import sys\n",
        "import math\n",
        "import pandas as pd\n",
        "import numpy as np\n",
        "\n",
        "import nltk\n",
        "from wordcloud import WordCloud,STOPWORDS\n",
        "from nltk.stem import WordNetLemmatizer\n",
        "from nltk.tokenize import word_tokenize\n",
        "from nltk import word_tokenize\n",
        "from nltk.corpus import names ,wordnet, stopwords\n",
        "from unicodedata import category\n",
        "from cleantext import clean\n",
        "\n",
        "#Data Visualisation\n",
        "\n",
        "import matplotlib.pyplot as plt \n",
        "import seaborn as sns\n",
        "import plotly.express as px\n",
        "import plotly.graph_objects as go \n",
        "\n",
        "#Sklearn\n",
        "from sklearn.feature_extraction.text import TfidfVectorizer, CountVectorizer\n",
        "from sklearn.model_selection import train_test_split, GridSearchCV, RandomizedSearchCV\n",
        "from sklearn.feature_selection import SelectKBest,chi2,f_classif\n",
        "from sklearn.naive_bayes import MultinomialNB, GaussianNB, BernoulliNB\n",
        "from sklearn.ensemble import VotingClassifier, RandomForestClassifier, AdaBoostClassifier, GradientBoostingClassifier, BaggingClassifier\n",
        "from sklearn.neighbors import KNeighborsClassifier\n",
        "from sklearn.tree import DecisionTreeClassifier\n",
        "from sklearn import tree\n",
        "from sklearn.metrics import classification_report , confusion_matrix, accuracy_score, f1_score, roc_curve\n",
        "import xgboost as xgb\n",
        "from xgboost import XGBClassifier\n",
        "from sklearn.preprocessing import LabelBinarizer, LabelEncoder\n",
        "\n",
        "#Tensorflow and Keras\n",
        "import tensorflow as tf\n",
        "from tensorflow import keras\n",
        "from keras.preprocessing.text import one_hot, Tokenizer\n",
        "#from keras.preprocessing.sequence import pad_sequences\n",
        "from keras.models import Sequential\n",
        "from keras.layers import Dense, Flatten, Embedding, Input, LSTM, Conv1D, MaxPool1D, Bidirectional,Activation, Dropout,GlobalMaxPool1D, Conv1D\n",
        "from keras.models import Model\n",
        "from keras.utils import pad_sequences, plot_model\n",
        "from keras import utils\n",
        "from keras.optimizers import Adam"
      ],
      "metadata": {
        "id": "DosQk5thoNbO",
        "colab": {
          "base_uri": "https://localhost:8080/"
        },
        "outputId": "3a26b50b-0870-47b6-8e37-0e5126938a8d"
      },
      "execution_count": 2,
      "outputs": [
        {
          "output_type": "stream",
          "name": "stderr",
          "text": [
            "WARNING:root:Since the GPL-licensed package `unidecode` is not installed, using Python's `unicodedata` package which yields worse results.\n"
          ]
        }
      ]
    },
    {
      "cell_type": "code",
      "source": [
        "# Google Drive is used for to store unprocessed/processed dataset \n",
        "BASE_URL = \"/content/drive/MyDrive/Colab Notebooks/fakenews/\"\n",
        "from google.colab import drive\n",
        "drive.mount('/content/drive')"
      ],
      "metadata": {
        "colab": {
          "base_uri": "https://localhost:8080/"
        },
        "id": "gkbIIFgDoRQV",
        "outputId": "ab3e61be-a845-442e-cee6-92fb5f4f7337"
      },
      "execution_count": 3,
      "outputs": [
        {
          "output_type": "stream",
          "name": "stdout",
          "text": [
            "Mounted at /content/drive\n"
          ]
        }
      ]
    },
    {
      "cell_type": "markdown",
      "source": [
        "## Dataset"
      ],
      "metadata": {
        "id": "zVxDSdbCf7gq"
      }
    },
    {
      "cell_type": "code",
      "source": [
        "# Read Training Dataset\n",
        "df_train = pd.read_csv(BASE_URL+\"data/train/Task3_english_training.csv\")\n",
        "df_train.head()"
      ],
      "metadata": {
        "colab": {
          "base_uri": "https://localhost:8080/",
          "height": 206
        },
        "id": "7TaitByAoaNx",
        "outputId": "91b36a58-4913-486a-bce1-a00d6ea4e502"
      },
      "execution_count": 4,
      "outputs": [
        {
          "output_type": "execute_result",
          "data": {
            "text/plain": [
              "  public_id                                               text  \\\n",
              "0  5a228e0e  Distracted driving causes more deaths in Canad...   \n",
              "1  30c605a1  Missouri politicians have made statements afte...   \n",
              "2  c3dea290  Home Alone 2: Lost in New York is full of viol...   \n",
              "3  f14e8eb6  But things took a turn for the worse when riot...   \n",
              "4  faf024d6  It’s no secret that Epstein and Schiff share a...   \n",
              "\n",
              "                                               title       our rating  \n",
              "0  You Can Be Fined $1,500 If Your Passenger Is U...            FALSE  \n",
              "1      Missouri lawmakers condemn Las Vegas shooting  partially false  \n",
              "2  CBC Cuts Donald Trump's 'Home Alone 2' Cameo O...  partially false  \n",
              "3  Obama’s Daughters Caught on Camera Burning US ...            FALSE  \n",
              "4  Leaked Visitor Logs Reveal Schiff’s 78 Visits ...            FALSE  "
            ],
            "text/html": [
              "\n",
              "  <div id=\"df-a3e85953-124b-492d-8cc0-67911c6797a4\">\n",
              "    <div class=\"colab-df-container\">\n",
              "      <div>\n",
              "<style scoped>\n",
              "    .dataframe tbody tr th:only-of-type {\n",
              "        vertical-align: middle;\n",
              "    }\n",
              "\n",
              "    .dataframe tbody tr th {\n",
              "        vertical-align: top;\n",
              "    }\n",
              "\n",
              "    .dataframe thead th {\n",
              "        text-align: right;\n",
              "    }\n",
              "</style>\n",
              "<table border=\"1\" class=\"dataframe\">\n",
              "  <thead>\n",
              "    <tr style=\"text-align: right;\">\n",
              "      <th></th>\n",
              "      <th>public_id</th>\n",
              "      <th>text</th>\n",
              "      <th>title</th>\n",
              "      <th>our rating</th>\n",
              "    </tr>\n",
              "  </thead>\n",
              "  <tbody>\n",
              "    <tr>\n",
              "      <th>0</th>\n",
              "      <td>5a228e0e</td>\n",
              "      <td>Distracted driving causes more deaths in Canad...</td>\n",
              "      <td>You Can Be Fined $1,500 If Your Passenger Is U...</td>\n",
              "      <td>FALSE</td>\n",
              "    </tr>\n",
              "    <tr>\n",
              "      <th>1</th>\n",
              "      <td>30c605a1</td>\n",
              "      <td>Missouri politicians have made statements afte...</td>\n",
              "      <td>Missouri lawmakers condemn Las Vegas shooting</td>\n",
              "      <td>partially false</td>\n",
              "    </tr>\n",
              "    <tr>\n",
              "      <th>2</th>\n",
              "      <td>c3dea290</td>\n",
              "      <td>Home Alone 2: Lost in New York is full of viol...</td>\n",
              "      <td>CBC Cuts Donald Trump's 'Home Alone 2' Cameo O...</td>\n",
              "      <td>partially false</td>\n",
              "    </tr>\n",
              "    <tr>\n",
              "      <th>3</th>\n",
              "      <td>f14e8eb6</td>\n",
              "      <td>But things took a turn for the worse when riot...</td>\n",
              "      <td>Obama’s Daughters Caught on Camera Burning US ...</td>\n",
              "      <td>FALSE</td>\n",
              "    </tr>\n",
              "    <tr>\n",
              "      <th>4</th>\n",
              "      <td>faf024d6</td>\n",
              "      <td>It’s no secret that Epstein and Schiff share a...</td>\n",
              "      <td>Leaked Visitor Logs Reveal Schiff’s 78 Visits ...</td>\n",
              "      <td>FALSE</td>\n",
              "    </tr>\n",
              "  </tbody>\n",
              "</table>\n",
              "</div>\n",
              "      <button class=\"colab-df-convert\" onclick=\"convertToInteractive('df-a3e85953-124b-492d-8cc0-67911c6797a4')\"\n",
              "              title=\"Convert this dataframe to an interactive table.\"\n",
              "              style=\"display:none;\">\n",
              "        \n",
              "  <svg xmlns=\"http://www.w3.org/2000/svg\" height=\"24px\"viewBox=\"0 0 24 24\"\n",
              "       width=\"24px\">\n",
              "    <path d=\"M0 0h24v24H0V0z\" fill=\"none\"/>\n",
              "    <path d=\"M18.56 5.44l.94 2.06.94-2.06 2.06-.94-2.06-.94-.94-2.06-.94 2.06-2.06.94zm-11 1L8.5 8.5l.94-2.06 2.06-.94-2.06-.94L8.5 2.5l-.94 2.06-2.06.94zm10 10l.94 2.06.94-2.06 2.06-.94-2.06-.94-.94-2.06-.94 2.06-2.06.94z\"/><path d=\"M17.41 7.96l-1.37-1.37c-.4-.4-.92-.59-1.43-.59-.52 0-1.04.2-1.43.59L10.3 9.45l-7.72 7.72c-.78.78-.78 2.05 0 2.83L4 21.41c.39.39.9.59 1.41.59.51 0 1.02-.2 1.41-.59l7.78-7.78 2.81-2.81c.8-.78.8-2.07 0-2.86zM5.41 20L4 18.59l7.72-7.72 1.47 1.35L5.41 20z\"/>\n",
              "  </svg>\n",
              "      </button>\n",
              "      \n",
              "  <style>\n",
              "    .colab-df-container {\n",
              "      display:flex;\n",
              "      flex-wrap:wrap;\n",
              "      gap: 12px;\n",
              "    }\n",
              "\n",
              "    .colab-df-convert {\n",
              "      background-color: #E8F0FE;\n",
              "      border: none;\n",
              "      border-radius: 50%;\n",
              "      cursor: pointer;\n",
              "      display: none;\n",
              "      fill: #1967D2;\n",
              "      height: 32px;\n",
              "      padding: 0 0 0 0;\n",
              "      width: 32px;\n",
              "    }\n",
              "\n",
              "    .colab-df-convert:hover {\n",
              "      background-color: #E2EBFA;\n",
              "      box-shadow: 0px 1px 2px rgba(60, 64, 67, 0.3), 0px 1px 3px 1px rgba(60, 64, 67, 0.15);\n",
              "      fill: #174EA6;\n",
              "    }\n",
              "\n",
              "    [theme=dark] .colab-df-convert {\n",
              "      background-color: #3B4455;\n",
              "      fill: #D2E3FC;\n",
              "    }\n",
              "\n",
              "    [theme=dark] .colab-df-convert:hover {\n",
              "      background-color: #434B5C;\n",
              "      box-shadow: 0px 1px 3px 1px rgba(0, 0, 0, 0.15);\n",
              "      filter: drop-shadow(0px 1px 2px rgba(0, 0, 0, 0.3));\n",
              "      fill: #FFFFFF;\n",
              "    }\n",
              "  </style>\n",
              "\n",
              "      <script>\n",
              "        const buttonEl =\n",
              "          document.querySelector('#df-a3e85953-124b-492d-8cc0-67911c6797a4 button.colab-df-convert');\n",
              "        buttonEl.style.display =\n",
              "          google.colab.kernel.accessAllowed ? 'block' : 'none';\n",
              "\n",
              "        async function convertToInteractive(key) {\n",
              "          const element = document.querySelector('#df-a3e85953-124b-492d-8cc0-67911c6797a4');\n",
              "          const dataTable =\n",
              "            await google.colab.kernel.invokeFunction('convertToInteractive',\n",
              "                                                     [key], {});\n",
              "          if (!dataTable) return;\n",
              "\n",
              "          const docLinkHtml = 'Like what you see? Visit the ' +\n",
              "            '<a target=\"_blank\" href=https://colab.research.google.com/notebooks/data_table.ipynb>data table notebook</a>'\n",
              "            + ' to learn more about interactive tables.';\n",
              "          element.innerHTML = '';\n",
              "          dataTable['output_type'] = 'display_data';\n",
              "          await google.colab.output.renderOutput(dataTable, element);\n",
              "          const docLink = document.createElement('div');\n",
              "          docLink.innerHTML = docLinkHtml;\n",
              "          element.appendChild(docLink);\n",
              "        }\n",
              "      </script>\n",
              "    </div>\n",
              "  </div>\n",
              "  "
            ]
          },
          "metadata": {},
          "execution_count": 4
        }
      ]
    },
    {
      "cell_type": "code",
      "source": [
        "# Read Development Dataset ( will be merged with Training Dataset)\n",
        "df_dev = pd.read_csv(BASE_URL+\"data/train/Task3_english_dev.csv\")\n",
        "df_dev.head()"
      ],
      "metadata": {
        "colab": {
          "base_uri": "https://localhost:8080/",
          "height": 206
        },
        "id": "pcbJZ1v3ojAx",
        "outputId": "599a271e-92c5-4ce8-c808-6fad93268ce6"
      },
      "execution_count": 5,
      "outputs": [
        {
          "output_type": "execute_result",
          "data": {
            "text/plain": [
              "  public_id                                               text  \\\n",
              "0  81a67c96  Former state House Majority Leader Adam Hasner...   \n",
              "1  6e5ec6fb  Editor’s note: Subsequent to this article, VTD...   \n",
              "2  d9cd4895  The hypocritical Lib Dems want to ignore the r...   \n",
              "3  4a1a9b9f  Urgent action to boost the number of children ...   \n",
              "4  6d16fa40  By Ken Allen AFSCME Council 75 represents the ...   \n",
              "\n",
              "                                               title       our rating  \n",
              "0                              - The Washington Post  partially false  \n",
              "1                Rubio Comments on Iran Nuclear Deal            false  \n",
              "2  Climate Alarmists Caught Manipulating Temperat...            false  \n",
              "3  Who are the arsonists setting rural fires in W...            false  \n",
              "4  Diabetes prescriptions now cost NHS £1bn, figu...            false  "
            ],
            "text/html": [
              "\n",
              "  <div id=\"df-3cd1f443-7143-4548-87a1-adc4ef6cba6e\">\n",
              "    <div class=\"colab-df-container\">\n",
              "      <div>\n",
              "<style scoped>\n",
              "    .dataframe tbody tr th:only-of-type {\n",
              "        vertical-align: middle;\n",
              "    }\n",
              "\n",
              "    .dataframe tbody tr th {\n",
              "        vertical-align: top;\n",
              "    }\n",
              "\n",
              "    .dataframe thead th {\n",
              "        text-align: right;\n",
              "    }\n",
              "</style>\n",
              "<table border=\"1\" class=\"dataframe\">\n",
              "  <thead>\n",
              "    <tr style=\"text-align: right;\">\n",
              "      <th></th>\n",
              "      <th>public_id</th>\n",
              "      <th>text</th>\n",
              "      <th>title</th>\n",
              "      <th>our rating</th>\n",
              "    </tr>\n",
              "  </thead>\n",
              "  <tbody>\n",
              "    <tr>\n",
              "      <th>0</th>\n",
              "      <td>81a67c96</td>\n",
              "      <td>Former state House Majority Leader Adam Hasner...</td>\n",
              "      <td>- The Washington Post</td>\n",
              "      <td>partially false</td>\n",
              "    </tr>\n",
              "    <tr>\n",
              "      <th>1</th>\n",
              "      <td>6e5ec6fb</td>\n",
              "      <td>Editor’s note: Subsequent to this article, VTD...</td>\n",
              "      <td>Rubio Comments on Iran Nuclear Deal</td>\n",
              "      <td>false</td>\n",
              "    </tr>\n",
              "    <tr>\n",
              "      <th>2</th>\n",
              "      <td>d9cd4895</td>\n",
              "      <td>The hypocritical Lib Dems want to ignore the r...</td>\n",
              "      <td>Climate Alarmists Caught Manipulating Temperat...</td>\n",
              "      <td>false</td>\n",
              "    </tr>\n",
              "    <tr>\n",
              "      <th>3</th>\n",
              "      <td>4a1a9b9f</td>\n",
              "      <td>Urgent action to boost the number of children ...</td>\n",
              "      <td>Who are the arsonists setting rural fires in W...</td>\n",
              "      <td>false</td>\n",
              "    </tr>\n",
              "    <tr>\n",
              "      <th>4</th>\n",
              "      <td>6d16fa40</td>\n",
              "      <td>By Ken Allen AFSCME Council 75 represents the ...</td>\n",
              "      <td>Diabetes prescriptions now cost NHS £1bn, figu...</td>\n",
              "      <td>false</td>\n",
              "    </tr>\n",
              "  </tbody>\n",
              "</table>\n",
              "</div>\n",
              "      <button class=\"colab-df-convert\" onclick=\"convertToInteractive('df-3cd1f443-7143-4548-87a1-adc4ef6cba6e')\"\n",
              "              title=\"Convert this dataframe to an interactive table.\"\n",
              "              style=\"display:none;\">\n",
              "        \n",
              "  <svg xmlns=\"http://www.w3.org/2000/svg\" height=\"24px\"viewBox=\"0 0 24 24\"\n",
              "       width=\"24px\">\n",
              "    <path d=\"M0 0h24v24H0V0z\" fill=\"none\"/>\n",
              "    <path d=\"M18.56 5.44l.94 2.06.94-2.06 2.06-.94-2.06-.94-.94-2.06-.94 2.06-2.06.94zm-11 1L8.5 8.5l.94-2.06 2.06-.94-2.06-.94L8.5 2.5l-.94 2.06-2.06.94zm10 10l.94 2.06.94-2.06 2.06-.94-2.06-.94-.94-2.06-.94 2.06-2.06.94z\"/><path d=\"M17.41 7.96l-1.37-1.37c-.4-.4-.92-.59-1.43-.59-.52 0-1.04.2-1.43.59L10.3 9.45l-7.72 7.72c-.78.78-.78 2.05 0 2.83L4 21.41c.39.39.9.59 1.41.59.51 0 1.02-.2 1.41-.59l7.78-7.78 2.81-2.81c.8-.78.8-2.07 0-2.86zM5.41 20L4 18.59l7.72-7.72 1.47 1.35L5.41 20z\"/>\n",
              "  </svg>\n",
              "      </button>\n",
              "      \n",
              "  <style>\n",
              "    .colab-df-container {\n",
              "      display:flex;\n",
              "      flex-wrap:wrap;\n",
              "      gap: 12px;\n",
              "    }\n",
              "\n",
              "    .colab-df-convert {\n",
              "      background-color: #E8F0FE;\n",
              "      border: none;\n",
              "      border-radius: 50%;\n",
              "      cursor: pointer;\n",
              "      display: none;\n",
              "      fill: #1967D2;\n",
              "      height: 32px;\n",
              "      padding: 0 0 0 0;\n",
              "      width: 32px;\n",
              "    }\n",
              "\n",
              "    .colab-df-convert:hover {\n",
              "      background-color: #E2EBFA;\n",
              "      box-shadow: 0px 1px 2px rgba(60, 64, 67, 0.3), 0px 1px 3px 1px rgba(60, 64, 67, 0.15);\n",
              "      fill: #174EA6;\n",
              "    }\n",
              "\n",
              "    [theme=dark] .colab-df-convert {\n",
              "      background-color: #3B4455;\n",
              "      fill: #D2E3FC;\n",
              "    }\n",
              "\n",
              "    [theme=dark] .colab-df-convert:hover {\n",
              "      background-color: #434B5C;\n",
              "      box-shadow: 0px 1px 3px 1px rgba(0, 0, 0, 0.15);\n",
              "      filter: drop-shadow(0px 1px 2px rgba(0, 0, 0, 0.3));\n",
              "      fill: #FFFFFF;\n",
              "    }\n",
              "  </style>\n",
              "\n",
              "      <script>\n",
              "        const buttonEl =\n",
              "          document.querySelector('#df-3cd1f443-7143-4548-87a1-adc4ef6cba6e button.colab-df-convert');\n",
              "        buttonEl.style.display =\n",
              "          google.colab.kernel.accessAllowed ? 'block' : 'none';\n",
              "\n",
              "        async function convertToInteractive(key) {\n",
              "          const element = document.querySelector('#df-3cd1f443-7143-4548-87a1-adc4ef6cba6e');\n",
              "          const dataTable =\n",
              "            await google.colab.kernel.invokeFunction('convertToInteractive',\n",
              "                                                     [key], {});\n",
              "          if (!dataTable) return;\n",
              "\n",
              "          const docLinkHtml = 'Like what you see? Visit the ' +\n",
              "            '<a target=\"_blank\" href=https://colab.research.google.com/notebooks/data_table.ipynb>data table notebook</a>'\n",
              "            + ' to learn more about interactive tables.';\n",
              "          element.innerHTML = '';\n",
              "          dataTable['output_type'] = 'display_data';\n",
              "          await google.colab.output.renderOutput(dataTable, element);\n",
              "          const docLink = document.createElement('div');\n",
              "          docLink.innerHTML = docLinkHtml;\n",
              "          element.appendChild(docLink);\n",
              "        }\n",
              "      </script>\n",
              "    </div>\n",
              "  </div>\n",
              "  "
            ]
          },
          "metadata": {},
          "execution_count": 5
        }
      ]
    },
    {
      "cell_type": "code",
      "source": [
        "# Read Test  Dataset ( will be merged with Training Dataset)\n",
        "df_test = pd.read_csv(BASE_URL+\"data/test/English_data_test_release_with_rating.csv\")\n",
        "df_test.head()"
      ],
      "metadata": {
        "colab": {
          "base_uri": "https://localhost:8080/",
          "height": 206
        },
        "id": "dSZPtGiBodEG",
        "outputId": "c08adb22-3d4a-402f-8e30-c9257520c476"
      },
      "execution_count": 6,
      "outputs": [
        {
          "output_type": "execute_result",
          "data": {
            "text/plain": [
              "                                        ID  \\\n",
              "0  122653045997905671927713471889615536378   \n",
              "1  275389285957305997321446227088442471741   \n",
              "2  333248764296609831067233855420575814716   \n",
              "3  264019763253447756851916399533799891538   \n",
              "4  158073737187690682830899773280916034317   \n",
              "\n",
              "                                                text  \\\n",
              "0  The deputy secretary at the US Treasury has sa...   \n",
              "1  KABUL—Approximately twelve minutes after U.S. ...   \n",
              "2  The vast majority of (oblivious) Americans hav...   \n",
              "3  (Natural News) There’s a secret layer of infor...   \n",
              "4  A recent study reported by the NCBI, which is ...   \n",
              "\n",
              "                                               title       our rating  \n",
              "0  US Treasury deputy sec warns that shortages li...  Partially false  \n",
              "1  CNN Praises Taliban For Wearing Masks During A...            Other  \n",
              "2  Tennessee Has Just LEGALIZED Government COVID ...            false  \n",
              "3  MEDICAL SHOCKER: Scientists at Sloan Kettering...            false  \n",
              "4  Study Results: Facemasks are Ineffective to Bl...            false  "
            ],
            "text/html": [
              "\n",
              "  <div id=\"df-5aa694af-aa0b-47d7-a890-57c1c7ca77a6\">\n",
              "    <div class=\"colab-df-container\">\n",
              "      <div>\n",
              "<style scoped>\n",
              "    .dataframe tbody tr th:only-of-type {\n",
              "        vertical-align: middle;\n",
              "    }\n",
              "\n",
              "    .dataframe tbody tr th {\n",
              "        vertical-align: top;\n",
              "    }\n",
              "\n",
              "    .dataframe thead th {\n",
              "        text-align: right;\n",
              "    }\n",
              "</style>\n",
              "<table border=\"1\" class=\"dataframe\">\n",
              "  <thead>\n",
              "    <tr style=\"text-align: right;\">\n",
              "      <th></th>\n",
              "      <th>ID</th>\n",
              "      <th>text</th>\n",
              "      <th>title</th>\n",
              "      <th>our rating</th>\n",
              "    </tr>\n",
              "  </thead>\n",
              "  <tbody>\n",
              "    <tr>\n",
              "      <th>0</th>\n",
              "      <td>122653045997905671927713471889615536378</td>\n",
              "      <td>The deputy secretary at the US Treasury has sa...</td>\n",
              "      <td>US Treasury deputy sec warns that shortages li...</td>\n",
              "      <td>Partially false</td>\n",
              "    </tr>\n",
              "    <tr>\n",
              "      <th>1</th>\n",
              "      <td>275389285957305997321446227088442471741</td>\n",
              "      <td>KABUL—Approximately twelve minutes after U.S. ...</td>\n",
              "      <td>CNN Praises Taliban For Wearing Masks During A...</td>\n",
              "      <td>Other</td>\n",
              "    </tr>\n",
              "    <tr>\n",
              "      <th>2</th>\n",
              "      <td>333248764296609831067233855420575814716</td>\n",
              "      <td>The vast majority of (oblivious) Americans hav...</td>\n",
              "      <td>Tennessee Has Just LEGALIZED Government COVID ...</td>\n",
              "      <td>false</td>\n",
              "    </tr>\n",
              "    <tr>\n",
              "      <th>3</th>\n",
              "      <td>264019763253447756851916399533799891538</td>\n",
              "      <td>(Natural News) There’s a secret layer of infor...</td>\n",
              "      <td>MEDICAL SHOCKER: Scientists at Sloan Kettering...</td>\n",
              "      <td>false</td>\n",
              "    </tr>\n",
              "    <tr>\n",
              "      <th>4</th>\n",
              "      <td>158073737187690682830899773280916034317</td>\n",
              "      <td>A recent study reported by the NCBI, which is ...</td>\n",
              "      <td>Study Results: Facemasks are Ineffective to Bl...</td>\n",
              "      <td>false</td>\n",
              "    </tr>\n",
              "  </tbody>\n",
              "</table>\n",
              "</div>\n",
              "      <button class=\"colab-df-convert\" onclick=\"convertToInteractive('df-5aa694af-aa0b-47d7-a890-57c1c7ca77a6')\"\n",
              "              title=\"Convert this dataframe to an interactive table.\"\n",
              "              style=\"display:none;\">\n",
              "        \n",
              "  <svg xmlns=\"http://www.w3.org/2000/svg\" height=\"24px\"viewBox=\"0 0 24 24\"\n",
              "       width=\"24px\">\n",
              "    <path d=\"M0 0h24v24H0V0z\" fill=\"none\"/>\n",
              "    <path d=\"M18.56 5.44l.94 2.06.94-2.06 2.06-.94-2.06-.94-.94-2.06-.94 2.06-2.06.94zm-11 1L8.5 8.5l.94-2.06 2.06-.94-2.06-.94L8.5 2.5l-.94 2.06-2.06.94zm10 10l.94 2.06.94-2.06 2.06-.94-2.06-.94-.94-2.06-.94 2.06-2.06.94z\"/><path d=\"M17.41 7.96l-1.37-1.37c-.4-.4-.92-.59-1.43-.59-.52 0-1.04.2-1.43.59L10.3 9.45l-7.72 7.72c-.78.78-.78 2.05 0 2.83L4 21.41c.39.39.9.59 1.41.59.51 0 1.02-.2 1.41-.59l7.78-7.78 2.81-2.81c.8-.78.8-2.07 0-2.86zM5.41 20L4 18.59l7.72-7.72 1.47 1.35L5.41 20z\"/>\n",
              "  </svg>\n",
              "      </button>\n",
              "      \n",
              "  <style>\n",
              "    .colab-df-container {\n",
              "      display:flex;\n",
              "      flex-wrap:wrap;\n",
              "      gap: 12px;\n",
              "    }\n",
              "\n",
              "    .colab-df-convert {\n",
              "      background-color: #E8F0FE;\n",
              "      border: none;\n",
              "      border-radius: 50%;\n",
              "      cursor: pointer;\n",
              "      display: none;\n",
              "      fill: #1967D2;\n",
              "      height: 32px;\n",
              "      padding: 0 0 0 0;\n",
              "      width: 32px;\n",
              "    }\n",
              "\n",
              "    .colab-df-convert:hover {\n",
              "      background-color: #E2EBFA;\n",
              "      box-shadow: 0px 1px 2px rgba(60, 64, 67, 0.3), 0px 1px 3px 1px rgba(60, 64, 67, 0.15);\n",
              "      fill: #174EA6;\n",
              "    }\n",
              "\n",
              "    [theme=dark] .colab-df-convert {\n",
              "      background-color: #3B4455;\n",
              "      fill: #D2E3FC;\n",
              "    }\n",
              "\n",
              "    [theme=dark] .colab-df-convert:hover {\n",
              "      background-color: #434B5C;\n",
              "      box-shadow: 0px 1px 3px 1px rgba(0, 0, 0, 0.15);\n",
              "      filter: drop-shadow(0px 1px 2px rgba(0, 0, 0, 0.3));\n",
              "      fill: #FFFFFF;\n",
              "    }\n",
              "  </style>\n",
              "\n",
              "      <script>\n",
              "        const buttonEl =\n",
              "          document.querySelector('#df-5aa694af-aa0b-47d7-a890-57c1c7ca77a6 button.colab-df-convert');\n",
              "        buttonEl.style.display =\n",
              "          google.colab.kernel.accessAllowed ? 'block' : 'none';\n",
              "\n",
              "        async function convertToInteractive(key) {\n",
              "          const element = document.querySelector('#df-5aa694af-aa0b-47d7-a890-57c1c7ca77a6');\n",
              "          const dataTable =\n",
              "            await google.colab.kernel.invokeFunction('convertToInteractive',\n",
              "                                                     [key], {});\n",
              "          if (!dataTable) return;\n",
              "\n",
              "          const docLinkHtml = 'Like what you see? Visit the ' +\n",
              "            '<a target=\"_blank\" href=https://colab.research.google.com/notebooks/data_table.ipynb>data table notebook</a>'\n",
              "            + ' to learn more about interactive tables.';\n",
              "          element.innerHTML = '';\n",
              "          dataTable['output_type'] = 'display_data';\n",
              "          await google.colab.output.renderOutput(dataTable, element);\n",
              "          const docLink = document.createElement('div');\n",
              "          docLink.innerHTML = docLinkHtml;\n",
              "          element.appendChild(docLink);\n",
              "        }\n",
              "      </script>\n",
              "    </div>\n",
              "  </div>\n",
              "  "
            ]
          },
          "metadata": {},
          "execution_count": 6
        }
      ]
    },
    {
      "cell_type": "code",
      "source": [
        "print(f\"Training Data Shape: {df_train.shape} \\nDev Data Shape: {df_dev.shape}  \\nTest Data Shape: {df_test.shape}\")"
      ],
      "metadata": {
        "colab": {
          "base_uri": "https://localhost:8080/"
        },
        "id": "oz4S6W6NgurT",
        "outputId": "bec7ccbd-2c89-42ba-f109-d5e68f7aa4dc"
      },
      "execution_count": 7,
      "outputs": [
        {
          "output_type": "stream",
          "name": "stdout",
          "text": [
            "Training Data Shape: (900, 4) \n",
            "Dev Data Shape: (364, 4)  \n",
            "Test Data Shape: (612, 4)\n"
          ]
        }
      ]
    },
    {
      "cell_type": "markdown",
      "source": [
        "## Preprocessing"
      ],
      "metadata": {
        "id": "cAlegceihafU"
      }
    },
    {
      "cell_type": "markdown",
      "source": [
        "In this section, we'll process the data to be used in the model."
      ],
      "metadata": {
        "id": "aUwPoISciPg0"
      }
    },
    {
      "cell_type": "code",
      "source": [
        "#Drop public_id column bot train and test dataset\n",
        "df_train.drop(labels='public_id', axis=1, inplace=True)\n",
        "df_dev.drop(labels='public_id', axis=1, inplace=True)\n",
        "df_test.drop(labels='ID', axis=1, inplace=True)"
      ],
      "metadata": {
        "id": "rF53dKPdotmI"
      },
      "execution_count": 8,
      "outputs": []
    },
    {
      "cell_type": "code",
      "source": [
        "#Rename target column to \"label\"\n",
        "df_train.rename(columns={\"our rating\":\"label\"}, inplace=True)\n",
        "df_dev.rename(columns={\"our rating\":\"label\"}, inplace=True)\n",
        "df_test.rename(columns={\"our rating\":\"label\"}, inplace=True)"
      ],
      "metadata": {
        "id": "gD6CXJyXo0nc"
      },
      "execution_count": 9,
      "outputs": []
    },
    {
      "cell_type": "code",
      "source": [
        "# Normalize and Map Target column data. There should be four class (0: 'False', 1:'True', 2:'Partially False',  3:'Other')\n",
        "df_train['label'] = df_train.label.map({'TRUE': 1, 'True':1, 'true':1, 'FALSE': 0, 'false':0, 'partially false': 2, 'Partially false': 2, 'other': 3, 'Other': 3})\n",
        "df_train[\"label_name\"] = df_train.label.map({0: 'False', 1:'True', 2:'Partially False',  3:'Other'})\n",
        "\n",
        "df_dev['label'] = df_dev.label.map({'TRUE': 1, 'True':1, 'true':1, 'FALSE': 0, 'false':0, 'partially false': 2, 'Partially false': 2, 'other': 3, 'Other': 3})\n",
        "df_dev[\"label_name\"] = df_dev.label.map({0: 'False', 1:'True', 2:'Partially False',  3:'Other'})\n",
        "\n",
        "df_test['label'] = df_test.label.map({'TRUE': 1, 'True':1, 'true':1, 'FALSE': 0, 'false':0, 'partially false': 2, 'Partially false': 2, 'other': 3, 'Other': 3})\n",
        "df_test[\"label_name\"] = df_test.label.map({0: 'False', 1:'True', 2:'Partially False',  3:'Other'})"
      ],
      "metadata": {
        "id": "XLyUbpLeo5zZ"
      },
      "execution_count": 10,
      "outputs": []
    },
    {
      "cell_type": "code",
      "source": [
        "#clear NaN values with space, we don't use title\n",
        "df_train['title'] = df_train['title'].replace(math.nan,' ')\n",
        "df_dev['title'] = df_train['title'].replace(math.nan,' ')\n",
        "df_test['title'] = df_test['title'].replace(math.nan,' ')"
      ],
      "metadata": {
        "id": "ner_8apuqGC_"
      },
      "execution_count": 11,
      "outputs": []
    },
    {
      "cell_type": "code",
      "source": [
        "#concatenate text and title columns\n",
        "df_train[\"title_text\"] = df_train[\"title\"] + ' ' + df_train[\"text\"]\n",
        "df_dev[\"title_text\"] = df_train[\"title\"] + ' ' + df_train[\"text\"]\n",
        "df_test[\"title_text\"] = df_test[\"title\"] + ' ' + df_test[\"text\"]"
      ],
      "metadata": {
        "id": "TrA3ZhYDrSnM"
      },
      "execution_count": 12,
      "outputs": []
    },
    {
      "cell_type": "code",
      "source": [
        "# Merge Training and Dev data to create single Training data\n",
        "df = pd.concat([df_train, df_dev]).reset_index(drop = True)"
      ],
      "metadata": {
        "id": "iVqvVQ5oo-nF"
      },
      "execution_count": 13,
      "outputs": []
    },
    {
      "cell_type": "code",
      "source": [
        "#Drop not required data from dataset\n",
        "df.drop(labels='text', axis=1, inplace=True)\n",
        "df.drop(labels='title', axis=1, inplace=True)"
      ],
      "metadata": {
        "id": "GdfxyQxSCY_v"
      },
      "execution_count": 14,
      "outputs": []
    },
    {
      "cell_type": "code",
      "source": [
        "#Drop not required data from dataset\n",
        "df_test.drop(labels='text', axis=1, inplace=True)\n",
        "df_test.drop(labels='title', axis=1, inplace=True)"
      ],
      "metadata": {
        "id": "DNZ0AeI_weeu"
      },
      "execution_count": 15,
      "outputs": []
    },
    {
      "cell_type": "code",
      "source": [
        "#Save dataset to drive\n",
        "def save_to_drive(df, path):\n",
        "  from google.colab import files  \n",
        "\n",
        "  with open(path, 'w') as f:\n",
        "    df.to_csv(f)"
      ],
      "metadata": {
        "id": "qHDCUMazsAAy"
      },
      "execution_count": 16,
      "outputs": []
    },
    {
      "cell_type": "code",
      "source": [
        "# downloading NLTK package data\n",
        "nltk.download('stopwords')\n",
        "stopwords = nltk.corpus.stopwords.words('english')\n",
        "nltk.download('wordnet')\n",
        "nltk.download('omw-1.4')\n",
        "nltk.download('punkt')\n",
        "nltk.download('averaged_perceptron_tagger')\n",
        "\n",
        "#Lemmatizer \n",
        "wordnet_lemmatizer = WordNetLemmatizer()\n",
        "\n",
        "punctuations =  [chr(i) for i in range(sys.maxunicode) if category(chr(i)).startswith(\"P\")]\n",
        "\n",
        "\n",
        "def get_wordnet_pos(word):\n",
        "    \"\"\"Map POS tag to first character lemmatize() accepts\"\"\"\n",
        "    tag = nltk.pos_tag([word])[0][1][0].upper()\n",
        "    tag_dict = {\"J\": wordnet.ADJ,\n",
        "                \"N\": wordnet.NOUN,\n",
        "                \"V\": wordnet.VERB,\n",
        "                \"R\": wordnet.ADV}\n",
        "\n",
        "    return tag_dict.get(tag, wordnet.NOUN)\n",
        "\n",
        "\n",
        "def tokenizer(text):\n",
        "    return word_tokenize(text)\n",
        "    ##return word_tokenize(text)[:500]\n",
        "\n",
        "\n",
        "def remove_punctuation(tokens):\n",
        "    no_punctiation = [token for token in tokens if token not in punctuations]\n",
        "    return no_punctiation\n",
        "\n",
        "\n",
        "def remove_stopwords(tokens):\n",
        "    no_stopwords= [token for token in tokens if token not in stopwords]\n",
        "    return no_stopwords\n",
        "\n",
        "\n",
        "def lemmatizer(tokens): \n",
        "  lemmatized = [wordnet_lemmatizer.lemmatize(token, get_wordnet_pos(token)) for token in tokens]\n",
        "  return lemmatized\n",
        "\n",
        "\n",
        "def tokens_to_text(tokens):\n",
        "    text = \"\".join([token+\" \" for token in tokens])[:-1]\n",
        "    return text\n",
        "\n",
        "\n",
        "# Cleaning articles( lowercasing, replacing URL, EMAIL, PHONE Numbers, DIGIT, CURRENCY with special code in order not to lose information)\n",
        "# Used clean-text package \n",
        "def general_cleaning(text):\n",
        "    return clean(text,\n",
        "    fix_unicode=True,               # fix various unicode errors\n",
        "    to_ascii=True,                  # transliterate to closest ASCII representation\n",
        "    lower=True,                     # lowercase text\n",
        "    no_line_breaks=True,           # fully strip line breaks as opposed to only normalizing them\n",
        "    no_urls=True,                  # replace all URLs with a special token\n",
        "    no_emails=True,                # replace all email addresses with a special token\n",
        "    no_phone_numbers=True,         # replace all phone numbers with a special token\n",
        "    no_numbers=True,               # replace all numbers with a special token\n",
        "    no_digits=True,                # replace all digits with a special token\n",
        "    no_currency_symbols=True,      # replace all currency symbols with a special token\n",
        "    no_punct=True,                 # remove punctuations\n",
        "    replace_with_punct=\"\",          # instead of removing punctuations you may replace them\n",
        "    replace_with_url=\"URL\",\n",
        "    replace_with_email=\"EMAIL\",\n",
        "    replace_with_phone_number=\"PHONE\",\n",
        "    replace_with_number=\"NUMBER\",\n",
        "    replace_with_digit=\"\",\n",
        "    replace_with_currency_symbol=\"CURRENCY\",\n",
        "    lang=\"en\"                 \n",
        ")"
      ],
      "metadata": {
        "id": "aCPS3UKOAvQh",
        "colab": {
          "base_uri": "https://localhost:8080/"
        },
        "outputId": "3bd42441-ec5d-4362-c805-1086780f9b88"
      },
      "execution_count": 17,
      "outputs": [
        {
          "output_type": "stream",
          "name": "stderr",
          "text": [
            "[nltk_data] Downloading package stopwords to /root/nltk_data...\n",
            "[nltk_data]   Unzipping corpora/stopwords.zip.\n",
            "[nltk_data] Downloading package wordnet to /root/nltk_data...\n",
            "[nltk_data] Downloading package omw-1.4 to /root/nltk_data...\n",
            "[nltk_data] Downloading package punkt to /root/nltk_data...\n",
            "[nltk_data]   Unzipping tokenizers/punkt.zip.\n",
            "[nltk_data] Downloading package averaged_perceptron_tagger to\n",
            "[nltk_data]     /root/nltk_data...\n",
            "[nltk_data]   Unzipping taggers/averaged_perceptron_tagger.zip.\n"
          ]
        }
      ]
    },
    {
      "cell_type": "markdown",
      "source": [
        " Preprocess dataset"
      ],
      "metadata": {
        "id": "97rabXCQknI0"
      }
    },
    {
      "cell_type": "code",
      "source": [
        "%%time\n",
        "from tqdm.notebook import tqdm_notebook\n",
        "tqdm_notebook.pandas()\n",
        "\n",
        "def text_processing(df_temp, column_name):\n",
        "  df_temp[column_name] = df_temp[column_name].progress_apply(lambda x:general_cleaning(x))\n",
        "  print(\"General cleaning with clean-text library.\")\n",
        "  df_temp[column_name] = df_temp[column_name].apply(lambda x:tokenizer(x))\n",
        "  print(\"Tokenized is finished.\")\n",
        "  df_temp[column_name]= df_temp[column_name].apply(lambda x:remove_stopwords(x))\n",
        "  print(\"Stop-words has been removed.\")\n",
        "  df_temp[column_name]= df_temp[column_name].apply(lambda x:lemmatizer(x))\n",
        "  print(\"Tokens have been lemmatized.\")\n",
        "  df_temp[column_name]= df_temp[column_name].apply(lambda x:tokens_to_text(x))\n",
        "  print(\"Tokens have been convert to text.\")\n",
        "  return df_temp"
      ],
      "metadata": {
        "colab": {
          "base_uri": "https://localhost:8080/"
        },
        "id": "TzSs-tAZxp_I",
        "outputId": "476c8a3c-803a-4eeb-d4e6-dc299299a181"
      },
      "execution_count": 18,
      "outputs": [
        {
          "output_type": "stream",
          "name": "stdout",
          "text": [
            "CPU times: user 7.58 ms, sys: 0 ns, total: 7.58 ms\n",
            "Wall time: 18.6 ms\n"
          ]
        }
      ]
    },
    {
      "cell_type": "code",
      "source": [
        "#Save orginal dataset\n",
        "training_path = BASE_URL + 'data/processed/fakenews_training.csv'\n",
        "test_path = BASE_URL + 'data/processed/fakenews_test.csv'\n",
        "\n",
        "save_to_drive(df, training_path)\n",
        "save_to_drive(df_test, test_path)"
      ],
      "metadata": {
        "id": "mxwPdmvKSDQU"
      },
      "execution_count": 19,
      "outputs": []
    },
    {
      "cell_type": "code",
      "source": [
        "#Save preprocessed tokenized dataset\n",
        "training_path = BASE_URL + 'data/processed/fakenews_training_processed.csv'\n",
        "test_path = BASE_URL + 'data/processed/fakenews_test_processed.csv'\n",
        "\n",
        "df = text_processing(df, \"title_text\")\n",
        "save_to_drive(df, training_path)\n",
        "\n",
        "df_test = text_processing(df_test, \"title_text\")\n",
        "save_to_drive(df_test, test_path)"
      ],
      "metadata": {
        "id": "WK4r75_4BNct",
        "colab": {
          "base_uri": "https://localhost:8080/",
          "height": 266,
          "referenced_widgets": [
            "72751e9d6e06406690de26487f004641",
            "ec10628037a448c6a503e38cc266a5ac",
            "8bfdcca51a744b68a3a1fa153e459ae5",
            "e07eeb7271844ddbac839db85ae67bce",
            "7c20e8c3d7374ddcb0d1a4411bed2b6e",
            "792a805fd6594ce69317bcf9c1c79bf5",
            "663b18f5e4cd40cfa99701a46551eab7",
            "70b2ca327ece4f22b6ad864a16db5e36",
            "d914dd3210804d408ec7b536eab1a508",
            "1907f51b26914ac6a9c92826f701a06a",
            "810d690e83d84cbdadc9c488e8f6a2c1",
            "5ce7680253214fe7a77609ff950fc5f8",
            "de03f405c73346daba804dcf8017b89c",
            "631e917fd4ed4e99893f8889b4d59f54",
            "5e39c766c6894bc9a3a69d21c168142c",
            "55c1eb3d8a5849d495e80fe98fffd066",
            "6397fe9c1e874a038e0aca8e4b0a3e62",
            "c99fcc3987854e0e8eb2abd7a59d00a9",
            "f1a24e52a6e54c5caac4c3cd43fe211a",
            "43183bf3f41a46fb93eb668357678d54",
            "b16878363f76444087e057a4ec88084b",
            "9967e60587d64c34b4bfa5de03ec32b9"
          ]
        },
        "outputId": "0529703d-a122-4485-9e07-90444683692d"
      },
      "execution_count": 20,
      "outputs": [
        {
          "output_type": "display_data",
          "data": {
            "text/plain": [
              "  0%|          | 0/1264 [00:00<?, ?it/s]"
            ],
            "application/vnd.jupyter.widget-view+json": {
              "version_major": 2,
              "version_minor": 0,
              "model_id": "72751e9d6e06406690de26487f004641"
            }
          },
          "metadata": {}
        },
        {
          "output_type": "stream",
          "name": "stdout",
          "text": [
            "General cleaning with clean-text library.\n",
            "Tokenized is finished.\n",
            "Stop-words has been removed.\n",
            "Tokens have been lemmatized.\n",
            "Tokens have been convert to text.\n"
          ]
        },
        {
          "output_type": "display_data",
          "data": {
            "text/plain": [
              "  0%|          | 0/612 [00:00<?, ?it/s]"
            ],
            "application/vnd.jupyter.widget-view+json": {
              "version_major": 2,
              "version_minor": 0,
              "model_id": "5ce7680253214fe7a77609ff950fc5f8"
            }
          },
          "metadata": {}
        },
        {
          "output_type": "stream",
          "name": "stdout",
          "text": [
            "General cleaning with clean-text library.\n",
            "Tokenized is finished.\n",
            "Stop-words has been removed.\n",
            "Tokens have been lemmatized.\n",
            "Tokens have been convert to text.\n"
          ]
        }
      ]
    },
    {
      "cell_type": "code",
      "source": [
        "#preprocessed dataset\n",
        "df.title_text[0]"
      ],
      "metadata": {
        "colab": {
          "base_uri": "https://localhost:8080/",
          "height": 110
        },
        "id": "W_HwEgijIH75",
        "outputId": "dd6808d4-ec54-45ab-a0da-3edcbccc330b"
      },
      "execution_count": 21,
      "outputs": [
        {
          "output_type": "execute_result",
          "data": {
            "text/plain": [
              "'fin currency passenger use mobile phone start next week distract drive cause death canada impaired drive every province territory law drive operating cell phone tell passenger stay phone drive measure necessary distract drive claimed life impaired drive province like british columbia ontario quebec alberta nova scotia manitoba newfoundland labrador mobile phone even held passenger dangerous distraction driver start next week distract screen held passenger attracts penalty currency three demerit point driver screen mix doesnt matter hold device use facetime take selfies driver show driver funny cat video nono province mobile phone categorise visual display unit meaning consider akin television screen important practice safe drive sake fellow driver canada crack distract drive problem rollout stricter law impose harsher penalty heftier fine guilty offender take effect next week add serious penalty convict distract drive'"
            ],
            "application/vnd.google.colaboratory.intrinsic+json": {
              "type": "string"
            }
          },
          "metadata": {},
          "execution_count": 21
        }
      ]
    },
    {
      "cell_type": "code",
      "source": [
        "df_train.title_text[0]"
      ],
      "metadata": {
        "colab": {
          "base_uri": "https://localhost:8080/",
          "height": 110
        },
        "id": "9owZ0TlUl6Px",
        "outputId": "b6fe1e0e-7cfc-41f0-aadb-053993a70fb0"
      },
      "execution_count": 22,
      "outputs": [
        {
          "output_type": "execute_result",
          "data": {
            "text/plain": [
              "'You Can Be Fined $1,500 If Your Passenger Is Using A Mobile Phone, Starting Next Week Distracted driving causes more deaths in Canada than impaired driving .It’s why every province and territory has laws against driving while operating a cell phone. “Tell your passengers to stay off their phones while you are driving. Such measures are more than necessary now, as distracted driving has claimed more lives than impaired driving in provinces like British Columbia, Ontario, Quebec, Alberta, Nova Scotia, Manitoba, Newfoundland and Labrador. “Mobile phones, even when held by a passenger, can be a dangerous distraction for the driver. Starting next week being distracted by a screen held by a passenger attracts a penalty of $1,500 and three demerit points. “Drivers and screens do not mix – it doesn’t matter who is holding the device. Using FaceTime, taking selfies with the driver or showing the driver a funny cat video is a no-no.” In most provinces a mobile phone is categorised as a “visual display unit”, meaning it is considered akin to a television screen. It’s important to practice safe driving for your own sake and that of your fellow drivers. Canada is cracking down on its distracted driving problem with the rollout of stricter laws that impose harsher penalties and heftier fines on guilty offenders. It’s taking effect as of next week , and it adds serious penalties to those convicted of distracted driving.'"
            ],
            "application/vnd.google.colaboratory.intrinsic+json": {
              "type": "string"
            }
          },
          "metadata": {},
          "execution_count": 22
        }
      ]
    },
    {
      "cell_type": "markdown",
      "source": [
        "## Feature Extraction"
      ],
      "metadata": {
        "id": "pCYEY5QTpCAx"
      }
    },
    {
      "cell_type": "code",
      "source": [
        "# The Total unique Words In The Dataset\n",
        "list_of_words = []\n",
        "for doc in df.title_text:\n",
        "  tokens = nltk.word_tokenize(doc)\n",
        "  for j in tokens:\n",
        "    list_of_words.append(j)\n",
        "\n",
        "# Obtaining The Total Number Of Unique Words\n",
        "total_words = len(list(set(list_of_words)))\n",
        "total_words"
      ],
      "metadata": {
        "colab": {
          "base_uri": "https://localhost:8080/"
        },
        "id": "P3V7f9XVJsXJ",
        "outputId": "2c71f143-ee3c-40d9-c7aa-33795dfc3327"
      },
      "execution_count": 23,
      "outputs": [
        {
          "output_type": "execute_result",
          "data": {
            "text/plain": [
              "24293"
            ]
          },
          "metadata": {},
          "execution_count": 23
        }
      ]
    },
    {
      "cell_type": "code",
      "source": [
        "maxlen = -1\n",
        "for doc in df.title_text:\n",
        "    tokens = nltk.word_tokenize(doc)\n",
        "    if(maxlen<len(tokens)):\n",
        "        maxlen = len(tokens)\n",
        "print(\"The maximum number of words in any document is =\", maxlen)"
      ],
      "metadata": {
        "colab": {
          "base_uri": "https://localhost:8080/"
        },
        "id": "nqFOS7pRI8ku",
        "outputId": "8b63dee5-05a7-4d0b-885b-5f8f4739f710"
      },
      "execution_count": 24,
      "outputs": [
        {
          "output_type": "stream",
          "name": "stdout",
          "text": [
            "The maximum number of words in any document is = 3614\n"
          ]
        }
      ]
    },
    {
      "cell_type": "code",
      "source": [
        "df['word_count'] = df['title_text'].apply(lambda x: len(str(x).split()))\n",
        "plt.figure(figsize=(5,4))\n",
        "sns.histplot(data=df, x='word_count')\n",
        "plt.title('Word Count of Articles in Train Data after data cleaning')\n",
        "plt.xlabel('Word Count')\n",
        "plt.ylabel('Article Count')\n",
        "plt.show()"
      ],
      "metadata": {
        "id": "9_nEI5Vi3MNx",
        "colab": {
          "base_uri": "https://localhost:8080/",
          "height": 410
        },
        "outputId": "d77a3041-0aec-4560-ec1f-c3ec46463bca"
      },
      "execution_count": 25,
      "outputs": [
        {
          "output_type": "display_data",
          "data": {
            "text/plain": [
              "<Figure size 500x400 with 1 Axes>"
            ],
            "image/png": "[encoded data removed]"
          },
          "metadata": {}
        }
      ]
    },
    {
      "cell_type": "code",
      "source": [
        "train_articles = (sum(df['word_count'] < 1250)/df.shape[0])*100\n",
        "print('Percentage of Training Articles having less than 1250 Words:{:.2f}%'.format(train_articles))"
      ],
      "metadata": {
        "colab": {
          "base_uri": "https://localhost:8080/"
        },
        "id": "qPqzEitg3Y7E",
        "outputId": "18f8b0a7-6813-4dc7-97af-f90fcd07c88c"
      },
      "execution_count": 26,
      "outputs": [
        {
          "output_type": "stream",
          "name": "stdout",
          "text": [
            "Percentage of Training Articles having less than 1250 Words:95.97%\n"
          ]
        }
      ]
    },
    {
      "cell_type": "code",
      "source": [
        "#Split dataset\n",
        "x_train,x_test,y_train,y_test = df.title_text, df_test.title_text, df.label, df_test.label"
      ],
      "metadata": {
        "id": "gtUKs399IASV"
      },
      "execution_count": 27,
      "outputs": []
    },
    {
      "cell_type": "code",
      "source": [
        "# Creating A Tokenizer To Tokenize The Words And Create Sequences Of Tokenized Words\n",
        "tokenizer = Tokenizer(num_words = total_words)\n",
        "tokenizer.fit_on_texts(x_train)\n",
        "\n",
        "train_sequences = tokenizer.texts_to_sequences(x_train)\n",
        "test_sequences = tokenizer.texts_to_sequences(x_test)\n",
        "\n",
        "vocab_size = len(tokenizer.word_index) + 1  \n",
        "print(\"Vocabulary Size:\",vocab_size)"
      ],
      "metadata": {
        "colab": {
          "base_uri": "https://localhost:8080/"
        },
        "id": "PFy3SLryJWoT",
        "outputId": "398f3962-5162-4c68-8978-a2b7d3ef74ab"
      },
      "execution_count": 28,
      "outputs": [
        {
          "output_type": "stream",
          "name": "stdout",
          "text": [
            "Vocabulary Size: 24269\n"
          ]
        }
      ]
    },
    {
      "cell_type": "code",
      "source": [
        "maxlen=1250\n",
        "# Adding Padding\n",
        "padded_train = pad_sequences(train_sequences ,maxlen = maxlen, padding = 'post')\n",
        "padded_test = pad_sequences(test_sequences,   maxlen = maxlen, padding = 'post') "
      ],
      "metadata": {
        "id": "Eae8E2dlKqvU"
      },
      "execution_count": 29,
      "outputs": []
    },
    {
      "cell_type": "code",
      "source": [
        "# 1264 articke, 1250 token (we cut # of the token to 1250)\n",
        "print(padded_train.shape)"
      ],
      "metadata": {
        "id": "aZXQEpt9XNVM",
        "colab": {
          "base_uri": "https://localhost:8080/"
        },
        "outputId": "b3b064af-c039-4369-8a65-e09dd66a1eca"
      },
      "execution_count": 30,
      "outputs": [
        {
          "output_type": "stream",
          "name": "stdout",
          "text": [
            "(1264, 1250)\n"
          ]
        }
      ]
    },
    {
      "cell_type": "code",
      "source": [
        "#Turn Labels in to categorical \n",
        "encoder = LabelEncoder()\n",
        "encoder.fit(y_train)\n",
        "train_y = encoder.transform(y_train)\n",
        "test_y = encoder.transform(y_test)\n",
        "\n",
        "num_classes = np.max(train_y) + 1\n",
        "train_y = utils.to_categorical(train_y, num_classes)\n",
        "test_y = utils.to_categorical(test_y, num_classes)"
      ],
      "metadata": {
        "id": "af55QT_bOV24"
      },
      "execution_count": 31,
      "outputs": []
    },
    {
      "cell_type": "code",
      "source": [
        "train_y"
      ],
      "metadata": {
        "colab": {
          "base_uri": "https://localhost:8080/"
        },
        "id": "jvNVEjtOsrO-",
        "outputId": "7c0cd8d4-d21a-4394-ebdb-30b22c0587c6"
      },
      "execution_count": 32,
      "outputs": [
        {
          "output_type": "execute_result",
          "data": {
            "text/plain": [
              "array([[1., 0., 0., 0.],\n",
              "       [0., 0., 1., 0.],\n",
              "       [0., 0., 1., 0.],\n",
              "       ...,\n",
              "       [1., 0., 0., 0.],\n",
              "       [0., 1., 0., 0.],\n",
              "       [0., 1., 0., 0.]], dtype=float32)"
            ]
          },
          "metadata": {},
          "execution_count": 32
        }
      ]
    },
    {
      "cell_type": "markdown",
      "source": [
        "## Utility Functions\n",
        "\n",
        "Some utiltiy functions such as \n",
        "- learning curve finder\n",
        "- plot the learning curve\n",
        "- print confusion matrix,"
      ],
      "metadata": {
        "id": "b1L6X8ULrbXJ"
      }
    },
    {
      "cell_type": "code",
      "source": [
        "import pandas as pd\n",
        "import numpy as np\n",
        "import matplotlib.pyplot as plt\n",
        "import os\n",
        "import itertools\n",
        "from PIL import Image\n",
        "import sklearn as sklearn\n",
        "from sklearn.metrics import confusion_matrix\n",
        "from keras.callbacks import Callback, EarlyStopping, ReduceLROnPlateau, ModelCheckpoint\n",
        "from sklearn import model_selection\n",
        "from sklearn.model_selection import train_test_split, learning_curve\n",
        "from sklearn.linear_model import LogisticRegression\n",
        "from sklearn.tree import DecisionTreeClassifier\n",
        "from sklearn.neighbors import KNeighborsClassifier\n",
        "from sklearn.naive_bayes import GaussianNB\n",
        "from sklearn.svm import SVC, LinearSVC\n",
        "from sklearn.ensemble import RandomForestClassifier, GradientBoostingClassifier\n",
        "from sklearn.neural_network import MLPClassifier as MLPC\n",
        "from sklearn import model_selection\n",
        "import tensorflow as tf\n",
        "import keras\n",
        "from keras import backend as K\n",
        "from keras.models import Sequential\n",
        "from keras.layers import Dense, Dropout, Activation, Flatten, Conv2D, MaxPooling2D\n",
        "from keras import initializers, layers, models\n",
        "from keras.utils import to_categorical\n",
        "from keras.preprocessing.image import ImageDataGenerator\n",
        "from keras import callbacks\n",
        "from keras.utils.vis_utils import plot_model\n",
        "\n",
        "\n",
        "def plot_graphs(history, string):\n",
        "    plt.plot(history.history[string])\n",
        "    plt.plot(history.history['val_'+string])\n",
        "    plt.xlabel(\"Epochs\")\n",
        "    plt.ylabel(string)\n",
        "    plt.legend([string, 'val_'+string])\n",
        "    plt.show()\n",
        "\n",
        "\n",
        "# Extracted from https://www.kaggle.com/danbrice/keras-plot-history-full-report-and-grid-search\n",
        "import matplotlib.pyplot as plt\n",
        "def plot_history(history):\n",
        "    loss_list = [s for s in history.history.keys() if 'loss' in s and 'val' not in s]\n",
        "    val_loss_list = [s for s in history.history.keys() if 'loss' in s and 'val' in s]\n",
        "    acc_list = [s for s in history.history.keys() if 'acc' in s and 'val' not in s]\n",
        "    val_acc_list = [s for s in history.history.keys() if 'acc' in s and 'val' in s]\n",
        "    \n",
        "    if len(loss_list) == 0:\n",
        "        print('Loss is missing in history')\n",
        "        return \n",
        "    \n",
        "    ## As loss always exists\n",
        "    epochs = range(1,len(history.history[loss_list[0]]) + 1)\n",
        "    \n",
        "    ## Loss\n",
        "    plt.figure(1)\n",
        "    for l in loss_list:\n",
        "        plt.plot(epochs, history.history[l], 'b', label='Training loss (' + str(str(format(history.history[l][-1],'.5f'))+')'))\n",
        "    for l in val_loss_list:\n",
        "        plt.plot(epochs, history.history[l], 'g', label='Validation loss (' + str(str(format(history.history[l][-1],'.5f'))+')'))\n",
        "    \n",
        "    plt.title('Loss')\n",
        "    plt.xlabel('Epochs')\n",
        "    plt.ylabel('Loss')\n",
        "    plt.legend()\n",
        "    \n",
        "    ## Accuracy\n",
        "    plt.figure(2)\n",
        "    for l in acc_list:\n",
        "        plt.plot(epochs, history.history[l], 'b', label='Training accuracy (' + str(format(history.history[l][-1],'.5f'))+')')\n",
        "    for l in val_acc_list:    \n",
        "        plt.plot(epochs, history.history[l], 'g', label='Validation accuracy (' + str(format(history.history[l][-1],'.5f'))+')')\n",
        "\n",
        "    plt.title('Accuracy')\n",
        "    plt.xlabel('Epochs')\n",
        "    plt.ylabel('Accuracy')\n",
        "    plt.legend()\n",
        "    plt.show()\n",
        "  \n",
        "\n",
        "class MetricsCheckpoint(Callback):\n",
        "    \"\"\"Callback that saves metrics after each epoch\"\"\"\n",
        "    def __init__(self, savepath):\n",
        "        super(MetricsCheckpoint, self).__init__()\n",
        "        self.savepath = savepath\n",
        "        self.history = {}\n",
        "    def on_epoch_end(self, epoch, logs=None):\n",
        "        for k, v in logs.items():\n",
        "            self.history.setdefault(k, []).append(v)\n",
        "        np.save(self.savepath, self.history)\n",
        "\n",
        "\n",
        "def plotKerasLearningCurve():\n",
        "    plt.figure(figsize=(10,5))\n",
        "    metrics = np.load('logs.npy')[()]\n",
        "    filt = ['acc'] # try to add 'loss' to see the loss learning curve\n",
        "    for k in filter(lambda x : np.any([kk in x for kk in filt]), metrics.keys()):\n",
        "        l = np.array(metrics[k])\n",
        "        plt.plot(l, c= 'r' if 'val' not in k else 'b', label='val' if 'val' in k else 'train')\n",
        "        x = np.argmin(l) if 'loss' in k else np.argmax(l)\n",
        "        y = l[x]\n",
        "        plt.scatter(x,y, lw=0, alpha=0.25, s=100, c='r' if 'val' not in k else 'b')\n",
        "        plt.text(x, y, '{} = {:.4f}'.format(x,y), size='15', color= 'r' if 'val' not in k else 'b')   \n",
        "    plt.legend(loc=4)\n",
        "    plt.axis([0, None, None, None]);\n",
        "    plt.grid()\n",
        "    plt.xlabel('Number of epochs')\n",
        "\n",
        "\n",
        "def plot_confusion_matrix(cm, classes,\n",
        "                          normalize=False,\n",
        "                          title='Confusion matrix',\n",
        "                          cmap=plt.cm.Blues):\n",
        "    \"\"\"\n",
        "    This function prints and plots the confusion matrix.\n",
        "    Normalization can be applied by setting `normalize=True`.\n",
        "    \"\"\"\n",
        "    plt.figure(figsize = (5,5))\n",
        "    plt.imshow(cm, interpolation='nearest', cmap=cmap)\n",
        "    plt.title(title)\n",
        "    plt.colorbar()\n",
        "    tick_marks = np.arange(len(classes))\n",
        "    plt.xticks(tick_marks, classes, rotation=90)\n",
        "    plt.yticks(tick_marks, classes)\n",
        "    if normalize:\n",
        "        cm = cm.astype('float') / cm.sum(axis=1)[:, np.newaxis]\n",
        "\n",
        "    thresh = cm.max() / 2.\n",
        "    for i, j in itertools.product(range(cm.shape[0]), range(cm.shape[1])):\n",
        "        plt.text(j, i, cm[i, j],\n",
        "                 horizontalalignment=\"center\",\n",
        "                 color=\"white\" if cm[i, j] > thresh else \"black\")\n",
        "    plt.tight_layout()\n",
        "    plt.ylabel('True label')\n",
        "    plt.xlabel('Predicted label')\n",
        "\n",
        "dict_characters = {0: '0', 1: '1', 2: '2', \n",
        "        3: '3', 4: '4', 5: '5', 6: '6', 7:'7',\n",
        "        8: '8', 9: '9'}\n",
        "\n",
        "from matplotlib import pyplot as plt\n",
        "import math\n",
        "from keras.callbacks import LambdaCallback\n",
        "import keras.backend as K\n",
        "\n",
        "\n",
        "class LRFinder:\n",
        "    \"\"\"\n",
        "    Plots the change of the loss function of a Keras model when the learning rate is exponentially increasing.\n",
        "    See for details:\n",
        "    https://towardsdatascience.com/estimating-optimal-learning-rate-for-a-deep-neural-network-ce32f2556ce0\n",
        "    \"\"\"\n",
        "    def __init__(self, model):\n",
        "        self.model = model\n",
        "        self.losses = []\n",
        "        self.lrs = []\n",
        "        self.best_loss = 1e9\n",
        "\n",
        "    def on_batch_end(self, batch, logs):\n",
        "        # Log the learning rate\n",
        "        lr = K.get_value(self.model.optimizer.lr)\n",
        "        self.lrs.append(lr)\n",
        "\n",
        "        # Log the loss\n",
        "        loss = logs['loss']\n",
        "        self.losses.append(loss)\n",
        "\n",
        "        # Check whether the loss got too large or NaN\n",
        "        if math.isnan(loss) or loss > self.best_loss * 4:\n",
        "            self.model.stop_training = True\n",
        "            return\n",
        "\n",
        "        if loss < self.best_loss:\n",
        "            self.best_loss = loss\n",
        "\n",
        "        # Increase the learning rate for the next batch\n",
        "        lr *= self.lr_mult\n",
        "        K.set_value(self.model.optimizer.lr, lr)\n",
        "\n",
        "    def find(self, x_train, y_train, start_lr, end_lr, batch_size=64, epochs=1):\n",
        "        num_batches = epochs * x_train.shape[0] / batch_size\n",
        "        self.lr_mult = (end_lr / start_lr) ** (1 / num_batches)\n",
        "\n",
        "        # Save weights into a file\n",
        "        self.model.save_weights('tmp.h5')\n",
        "\n",
        "        # Remember the original learning rate\n",
        "        original_lr = K.get_value(self.model.optimizer.lr)\n",
        "\n",
        "        # Set the initial learning rate\n",
        "        K.set_value(self.model.optimizer.lr, start_lr)\n",
        "\n",
        "        callback = LambdaCallback(on_batch_end=lambda batch, logs: self.on_batch_end(batch, logs))\n",
        "\n",
        "        self.model.fit(x_train, y_train,\n",
        "                        batch_size=batch_size, epochs=epochs,\n",
        "                        callbacks=[callback])\n",
        "\n",
        "        # Restore the weights to the state before model fitting\n",
        "        self.model.load_weights('tmp.h5')\n",
        "\n",
        "        # Restore the original learning rate\n",
        "        K.set_value(self.model.optimizer.lr, original_lr)\n",
        "\n",
        "    def plot_loss(self, n_skip_beginning=10, n_skip_end=5):\n",
        "        \"\"\"\n",
        "        Plots the loss.\n",
        "        Parameters:\n",
        "            n_skip_beginning - number of batches to skip on the left.\n",
        "            n_skip_end - number of batches to skip on the right.\n",
        "        \"\"\"\n",
        "        plt.ylabel(\"loss\")\n",
        "        plt.xlabel(\"learning rate (log scale)\")\n",
        "        plt.plot(self.lrs[n_skip_beginning:-n_skip_end], self.losses[n_skip_beginning:-n_skip_end])\n",
        "        plt.xscale('log')\n",
        "\n",
        "    def plot_loss_change(self, sma=1, n_skip_beginning=10, n_skip_end=5, y_lim=(-0.01, 0.01)):\n",
        "        \"\"\"\n",
        "        Plots rate of change of the loss function.\n",
        "        Parameters:\n",
        "            sma - number of batches for simple moving average to smooth out the curve.\n",
        "            n_skip_beginning - number of batches to skip on the left.\n",
        "            n_skip_end - number of batches to skip on the right.\n",
        "            y_lim - limits for the y axis.\n",
        "        \"\"\"\n",
        "        assert sma >= 1\n",
        "        derivatives = [0] * sma\n",
        "        for i in range(sma, len(self.lrs)):\n",
        "            derivative = (self.losses[i] - self.losses[i - sma]) / sma\n",
        "            derivatives.append(derivative)\n",
        "\n",
        "        plt.ylabel(\"rate of loss change\")\n",
        "        plt.xlabel(\"learning rate (log scale)\")\n",
        "        plt.plot(self.lrs[n_skip_beginning:-n_skip_end], derivatives[n_skip_beginning:-n_skip_end])\n",
        "        plt.xscale('log')\n",
        "        plt.ylim(y_lim)"
      ],
      "metadata": {
        "id": "Ll1h7mWpOfrC"
      },
      "execution_count": 33,
      "outputs": []
    },
    {
      "cell_type": "code",
      "source": [
        "import numpy as np\n",
        "import matplotlib.pyplot as plt\n",
        "import seaborn as sns\n",
        "\n",
        "def make_confusion_matrix(cf,\n",
        "                          group_names=None,\n",
        "                          categories='auto',\n",
        "                          count=True,\n",
        "                          percent=True,\n",
        "                          cbar=True,\n",
        "                          xyticks=True,\n",
        "                          xyplotlabels=True,\n",
        "                          sum_stats=True,\n",
        "                          figsize=None,\n",
        "                          cmap='Blues',\n",
        "                          title=None):\n",
        "    '''\n",
        "    This function will make a pretty plot of an sklearn Confusion Matrix cm using a Seaborn heatmap visualization.\n",
        "\n",
        "    Arguments\n",
        "    ---------\n",
        "    cf:            confusion matrix to be passed in\n",
        "\n",
        "    group_names:   List of strings that represent the labels row by row to be shown in each square.\n",
        "\n",
        "    categories:    List of strings containing the categories to be displayed on the x,y axis. Default is 'auto'\n",
        "\n",
        "    count:         If True, show the raw number in the confusion matrix. Default is True.\n",
        "\n",
        "    normalize:     If True, show the proportions for each category. Default is True.\n",
        "\n",
        "    cbar:          If True, show the color bar. The cbar values are based off the values in the confusion matrix.\n",
        "                   Default is True.\n",
        "\n",
        "    xyticks:       If True, show x and y ticks. Default is True.\n",
        "\n",
        "    xyplotlabels:  If True, show 'True Label' and 'Predicted Label' on the figure. Default is True.\n",
        "\n",
        "    sum_stats:     If True, display summary statistics below the figure. Default is True.\n",
        "\n",
        "    figsize:       Tuple representing the figure size. Default will be the matplotlib rcParams value.\n",
        "\n",
        "    cmap:          Colormap of the values displayed from matplotlib.pyplot.cm. Default is 'Blues'\n",
        "                   See http://matplotlib.org/examples/color/colormaps_reference.html\n",
        "                   \n",
        "    title:         Title for the heatmap. Default is None.\n",
        "\n",
        "    '''\n",
        "\n",
        "\n",
        "    # CODE TO GENERATE TEXT INSIDE EACH SQUARE\n",
        "    blanks = ['' for i in range(cf.size)]\n",
        "\n",
        "    if group_names and len(group_names)==cf.size:\n",
        "        group_labels = [\"{}\\n\".format(value) for value in group_names]\n",
        "    else:\n",
        "        group_labels = blanks\n",
        "\n",
        "    if count:\n",
        "        group_counts = [\"{0:0.0f}\\n\".format(value) for value in cf.flatten()]\n",
        "    else:\n",
        "        group_counts = blanks\n",
        "\n",
        "    if percent:\n",
        "        group_percentages = [\"{0:.2%}\".format(value) for value in cf.flatten()/np.sum(cf)]\n",
        "    else:\n",
        "        group_percentages = blanks\n",
        "\n",
        "    box_labels = [f\"{v1}{v2}{v3}\".strip() for v1, v2, v3 in zip(group_labels,group_counts,group_percentages)]\n",
        "    box_labels = np.asarray(box_labels).reshape(cf.shape[0],cf.shape[1])\n",
        "\n",
        "\n",
        "    # CODE TO GENERATE SUMMARY STATISTICS & TEXT FOR SUMMARY STATS\n",
        "    if sum_stats:\n",
        "        #Accuracy is sum of diagonal divided by total observations\n",
        "        accuracy  = np.trace(cf) / float(np.sum(cf))\n",
        "\n",
        "        #if it is a binary confusion matrix, show some more stats\n",
        "        if len(cf)==2:\n",
        "            #Metrics for Binary Confusion Matrices\n",
        "            precision = cf[1,1] / sum(cf[:,1])\n",
        "            recall    = cf[1,1] / sum(cf[1,:])\n",
        "            f1_score  = 2*precision*recall / (precision + recall)\n",
        "            stats_text = \"\\n\\nAccuracy={:0.3f}\\nPrecision={:0.3f}\\nRecall={:0.3f}\\nF1 Score={:0.3f}\".format(\n",
        "                accuracy,precision,recall,f1_score)\n",
        "        else:\n",
        "            stats_text = \"\\n\\nAccuracy={:0.3f}\".format(accuracy)\n",
        "    else:\n",
        "        stats_text = \"\"\n",
        "\n",
        "\n",
        "    # SET FIGURE PARAMETERS ACCORDING TO OTHER ARGUMENTS\n",
        "    if figsize==None:\n",
        "        #Get default figure size if not set\n",
        "        figsize = plt.rcParams.get('figure.figsize')\n",
        "\n",
        "    if xyticks==False:\n",
        "        #Do not show categories if xyticks is False\n",
        "        categories=False\n",
        "\n",
        "\n",
        "    # MAKE THE HEATMAP VISUALIZATION\n",
        "    plt.figure(figsize=figsize)\n",
        "    sns.heatmap(cf,annot=box_labels,fmt=\"\",cmap=cmap,cbar=cbar,xticklabels=categories,yticklabels=categories)\n",
        "\n",
        "    if xyplotlabels:\n",
        "        plt.ylabel('True label')\n",
        "        plt.xlabel('Predicted label' + stats_text)\n",
        "    else:\n",
        "        plt.xlabel(stats_text)\n",
        "    \n",
        "    if title:\n",
        "        plt.title(title)"
      ],
      "metadata": {
        "id": "Uoc7WlBv0HP9"
      },
      "execution_count": 44,
      "outputs": []
    },
    {
      "cell_type": "markdown",
      "source": [
        "## Building Model"
      ],
      "metadata": {
        "id": "ri_9F-Zlr6vI"
      }
    },
    {
      "cell_type": "markdown",
      "source": [
        "### CNN Model"
      ],
      "metadata": {
        "id": "XyXQ6uR1saLC"
      }
    },
    {
      "cell_type": "code",
      "source": [
        "embedding_dim = 100\n",
        "\n",
        "model = Sequential()\n",
        "model.add(Embedding(input_dim=vocab_size, output_dim=embedding_dim, input_length=maxlen))\n",
        "model.add(Conv1D(filters=128, kernel_size=5, activation='relu'))\n",
        "model.add(GlobalMaxPool1D())\n",
        "model.add(Dropout(0.2))\n",
        "model.add(Dense(64, activation='relu'))\n",
        "model.add(Dropout(0.2))\n",
        "model.add(Dense(4, activation='softmax'))\n",
        "\n",
        "model.compile(optimizer=Adam(learning_rate=0.01), loss='categorical_crossentropy', metrics=['accuracy'])\n",
        "model.summary()"
      ],
      "metadata": {
        "id": "QxE_4sqiK5L7",
        "colab": {
          "base_uri": "https://localhost:8080/"
        },
        "outputId": "bddf98dd-de5b-41a3-e16a-276fdf2c0079"
      },
      "execution_count": 35,
      "outputs": [
        {
          "output_type": "stream",
          "name": "stdout",
          "text": [
            "Model: \"sequential\"\n",
            "_________________________________________________________________\n",
            " Layer (type)                Output Shape              Param #   \n",
            "=================================================================\n",
            " embedding (Embedding)       (None, 1250, 100)         2426900   \n",
            "                                                                 \n",
            " conv1d (Conv1D)             (None, 1246, 128)         64128     \n",
            "                                                                 \n",
            " global_max_pooling1d (Globa  (None, 128)              0         \n",
            " lMaxPooling1D)                                                  \n",
            "                                                                 \n",
            " dropout (Dropout)           (None, 128)               0         \n",
            "                                                                 \n",
            " dense (Dense)               (None, 64)                8256      \n",
            "                                                                 \n",
            " dropout_1 (Dropout)         (None, 64)                0         \n",
            "                                                                 \n",
            " dense_1 (Dense)             (None, 4)                 260       \n",
            "                                                                 \n",
            "=================================================================\n",
            "Total params: 2,499,544\n",
            "Trainable params: 2,499,544\n",
            "Non-trainable params: 0\n",
            "_________________________________________________________________\n"
          ]
        }
      ]
    },
    {
      "cell_type": "code",
      "source": [
        "lr_finder = LRFinder(model)\n",
        "lr_finder.find(padded_train, train_y, start_lr=0.00001, end_lr=1, batch_size=128, epochs=20)\n",
        "lr_finder.plot_loss(n_skip_beginning=20, n_skip_end=5)\n",
        "plt.show()"
      ],
      "metadata": {
        "id": "iI1psW3w6jVC",
        "colab": {
          "base_uri": "https://localhost:8080/",
          "height": 1000
        },
        "outputId": "e53d8aaf-2efb-4156-de69-7cad4e4ba1be"
      },
      "execution_count": 36,
      "outputs": [
        {
          "output_type": "stream",
          "name": "stdout",
          "text": [
            "Epoch 1/20\n",
            "10/10 [==============================] - 9s 63ms/step - loss: 1.3849 - accuracy: 0.2832\n",
            "Epoch 2/20\n",
            "10/10 [==============================] - 0s 31ms/step - loss: 1.3785 - accuracy: 0.2801\n",
            "Epoch 3/20\n",
            "10/10 [==============================] - 0s 31ms/step - loss: 1.3712 - accuracy: 0.2872\n",
            "Epoch 4/20\n",
            "10/10 [==============================] - 0s 31ms/step - loss: 1.3583 - accuracy: 0.2896\n",
            "Epoch 5/20\n",
            "10/10 [==============================] - 0s 31ms/step - loss: 1.3390 - accuracy: 0.3252\n",
            "Epoch 6/20\n",
            "10/10 [==============================] - 0s 31ms/step - loss: 1.3027 - accuracy: 0.4407\n",
            "Epoch 7/20\n",
            "10/10 [==============================] - 0s 31ms/step - loss: 1.2608 - accuracy: 0.4778\n",
            "Epoch 8/20\n",
            "10/10 [==============================] - 0s 31ms/step - loss: 1.2124 - accuracy: 0.4660\n",
            "Epoch 9/20\n",
            "10/10 [==============================] - 0s 31ms/step - loss: 1.1700 - accuracy: 0.4604\n",
            "Epoch 10/20\n",
            "10/10 [==============================] - 0s 31ms/step - loss: 1.0860 - accuracy: 0.5435\n",
            "Epoch 11/20\n",
            "10/10 [==============================] - 0s 31ms/step - loss: 0.9261 - accuracy: 0.6171\n",
            "Epoch 12/20\n",
            "10/10 [==============================] - 0s 31ms/step - loss: 0.9192 - accuracy: 0.6764\n",
            "Epoch 13/20\n",
            "10/10 [==============================] - 0s 31ms/step - loss: 0.9179 - accuracy: 0.6590\n",
            "Epoch 14/20\n",
            "10/10 [==============================] - 0s 31ms/step - loss: 0.8529 - accuracy: 0.6495\n",
            "Epoch 15/20\n",
            "10/10 [==============================] - 0s 32ms/step - loss: 1.0577 - accuracy: 0.5514\n",
            "Epoch 16/20\n",
            "10/10 [==============================] - 0s 31ms/step - loss: 2.3339 - accuracy: 0.4343\n",
            "Epoch 17/20\n",
            "10/10 [==============================] - 0s 31ms/step - loss: 1.2915 - accuracy: 0.4573\n",
            "Epoch 18/20\n",
            "10/10 [==============================] - 0s 31ms/step - loss: 1.2621 - accuracy: 0.4573\n",
            "Epoch 19/20\n",
            "10/10 [==============================] - 0s 31ms/step - loss: 1.2493 - accuracy: 0.4573\n",
            "Epoch 20/20\n",
            "10/10 [==============================] - 0s 31ms/step - loss: 1.2436 - accuracy: 0.4573\n"
          ]
        },
        {
          "output_type": "display_data",
          "data": {
            "text/plain": [
              "<Figure size 640x480 with 1 Axes>"
            ],
            "image/png": "[encoded data removed]"
          },
          "metadata": {}
        }
      ]
    },
    {
      "cell_type": "code",
      "source": [
        "plot_model(model, to_file='model.png', show_shapes=True, show_layer_names=True)"
      ],
      "metadata": {
        "id": "T6_NV8k9OxPn",
        "colab": {
          "base_uri": "https://localhost:8080/",
          "height": 865
        },
        "outputId": "4226b371-b733-4faa-a1a8-595a6b73a062"
      },
      "execution_count": 37,
      "outputs": [
        {
          "output_type": "execute_result",
          "data": {
            "image/png": "[encoded data removed]",
            "text/plain": [
              "<IPython.core.display.Image object>"
            ]
          },
          "metadata": {},
          "execution_count": 37
        }
      ]
    },
    {
      "cell_type": "code",
      "source": [
        "history = model.fit(padded_train, train_y,\n",
        "                    batch_size=128,\n",
        "                    epochs=20,\n",
        "                    validation_data=(padded_test, test_y))"
      ],
      "metadata": {
        "colab": {
          "base_uri": "https://localhost:8080/"
        },
        "id": "9jWE2MWOO5QY",
        "outputId": "bf19cd58-010f-41bf-bbf8-ad2f99e1a037"
      },
      "execution_count": 38,
      "outputs": [
        {
          "output_type": "stream",
          "name": "stdout",
          "text": [
            "Epoch 1/20\n",
            "10/10 [==============================] - 1s 99ms/step - loss: 1.2988 - accuracy: 0.4043 - val_loss: 1.2807 - val_accuracy: 0.5147\n",
            "Epoch 2/20\n",
            "10/10 [==============================] - 0s 41ms/step - loss: 1.1776 - accuracy: 0.4699 - val_loss: 1.2407 - val_accuracy: 0.5147\n",
            "Epoch 3/20\n",
            "10/10 [==============================] - 0s 41ms/step - loss: 1.0333 - accuracy: 0.5348 - val_loss: 1.1760 - val_accuracy: 0.5098\n",
            "Epoch 4/20\n",
            "10/10 [==============================] - 0s 42ms/step - loss: 0.8602 - accuracy: 0.6456 - val_loss: 1.3507 - val_accuracy: 0.4837\n",
            "Epoch 5/20\n",
            "10/10 [==============================] - 0s 42ms/step - loss: 0.7526 - accuracy: 0.7191 - val_loss: 1.4236 - val_accuracy: 0.4395\n",
            "Epoch 6/20\n",
            "10/10 [==============================] - 0s 43ms/step - loss: 0.6307 - accuracy: 0.7405 - val_loss: 1.5634 - val_accuracy: 0.2157\n",
            "Epoch 7/20\n",
            "10/10 [==============================] - 0s 42ms/step - loss: 0.5592 - accuracy: 0.7666 - val_loss: 1.4970 - val_accuracy: 0.1928\n",
            "Epoch 8/20\n",
            "10/10 [==============================] - 0s 40ms/step - loss: 0.5397 - accuracy: 0.7476 - val_loss: 1.5564 - val_accuracy: 0.3431\n",
            "Epoch 9/20\n",
            "10/10 [==============================] - 0s 39ms/step - loss: 0.4742 - accuracy: 0.7642 - val_loss: 1.4184 - val_accuracy: 0.4199\n",
            "Epoch 10/20\n",
            "10/10 [==============================] - 0s 40ms/step - loss: 0.4394 - accuracy: 0.7698 - val_loss: 1.3237 - val_accuracy: 0.4984\n",
            "Epoch 11/20\n",
            "10/10 [==============================] - 0s 38ms/step - loss: 0.4214 - accuracy: 0.7785 - val_loss: 1.3833 - val_accuracy: 0.4820\n",
            "Epoch 12/20\n",
            "10/10 [==============================] - 0s 38ms/step - loss: 0.4022 - accuracy: 0.7650 - val_loss: 1.7641 - val_accuracy: 0.4150\n",
            "Epoch 13/20\n",
            "10/10 [==============================] - 0s 38ms/step - loss: 0.4032 - accuracy: 0.7785 - val_loss: 1.5420 - val_accuracy: 0.4592\n",
            "Epoch 14/20\n",
            "10/10 [==============================] - 0s 38ms/step - loss: 0.3947 - accuracy: 0.7785 - val_loss: 1.7708 - val_accuracy: 0.4608\n",
            "Epoch 15/20\n",
            "10/10 [==============================] - 0s 39ms/step - loss: 0.3970 - accuracy: 0.7737 - val_loss: 1.3789 - val_accuracy: 0.3529\n",
            "Epoch 16/20\n",
            "10/10 [==============================] - 0s 38ms/step - loss: 0.3660 - accuracy: 0.8038 - val_loss: 2.1797 - val_accuracy: 0.4951\n",
            "Epoch 17/20\n",
            "10/10 [==============================] - 0s 40ms/step - loss: 0.3635 - accuracy: 0.7872 - val_loss: 1.3704 - val_accuracy: 0.3366\n",
            "Epoch 18/20\n",
            "10/10 [==============================] - 0s 39ms/step - loss: 0.3686 - accuracy: 0.7816 - val_loss: 1.7576 - val_accuracy: 0.3170\n",
            "Epoch 19/20\n",
            "10/10 [==============================] - 0s 38ms/step - loss: 0.3522 - accuracy: 0.7872 - val_loss: 1.6399 - val_accuracy: 0.4869\n",
            "Epoch 20/20\n",
            "10/10 [==============================] - 0s 40ms/step - loss: 0.3411 - accuracy: 0.7903 - val_loss: 1.6962 - val_accuracy: 0.4379\n"
          ]
        }
      ]
    },
    {
      "cell_type": "code",
      "source": [
        "loss, accuracy = model.evaluate(padded_train, train_y, verbose=False)\n",
        "print(\"Training Accuracy: {:.4f}\".format(accuracy))\n",
        "loss, accuracy = model.evaluate(padded_test, test_y, verbose=False)\n",
        "print(\"Testing Accuracy:  {:.4f}\".format(accuracy))"
      ],
      "metadata": {
        "colab": {
          "base_uri": "https://localhost:8080/"
        },
        "id": "BYqgF_SWPQ1J",
        "outputId": "5f5849fb-01a1-4265-896d-f53435a4cc92"
      },
      "execution_count": 39,
      "outputs": [
        {
          "output_type": "stream",
          "name": "stdout",
          "text": [
            "Training Accuracy: 0.7967\n",
            "Testing Accuracy:  0.4379\n"
          ]
        }
      ]
    },
    {
      "cell_type": "code",
      "source": [
        "plot_history(history)"
      ],
      "metadata": {
        "colab": {
          "base_uri": "https://localhost:8080/",
          "height": 927
        },
        "id": "euZNEMr1PqQe",
        "outputId": "133e587c-6dac-4ee1-9a5a-938f9c9630a3"
      },
      "execution_count": 40,
      "outputs": [
        {
          "output_type": "display_data",
          "data": {
            "text/plain": [
              "<Figure size 640x480 with 1 Axes>"
            ],
            "image/png": "[encoded data removed]"
          },
          "metadata": {}
        },
        {
          "output_type": "display_data",
          "data": {
            "text/plain": [
              "<Figure size 640x480 with 1 Axes>"
            ],
            "image/png": "[encoded data removed]"
          },
          "metadata": {}
        }
      ]
    },
    {
      "cell_type": "code",
      "source": [
        "#Evaluation\n",
        "y_prediction = model.predict(padded_test)\n",
        "y_prediction = np.argmax (y_prediction, axis = 1)\n",
        "result_ = confusion_matrix(y_test, y_prediction)"
      ],
      "metadata": {
        "colab": {
          "base_uri": "https://localhost:8080/"
        },
        "id": "xG1IItaMzONF",
        "outputId": "9d443384-aaed-40f4-c264-1b66c992a9ae"
      },
      "execution_count": 41,
      "outputs": [
        {
          "output_type": "stream",
          "name": "stdout",
          "text": [
            "20/20 [==============================] - 0s 3ms/step\n"
          ]
        }
      ]
    },
    {
      "cell_type": "code",
      "source": [
        "#Print Classification Report\n",
        "print(classification_report(y_test, y_prediction, zero_division=1))"
      ],
      "metadata": {
        "colab": {
          "base_uri": "https://localhost:8080/"
        },
        "id": "dbOqocrpzdlQ",
        "outputId": "29e18c22-767a-4636-81f5-ddb99b165d8e"
      },
      "execution_count": 42,
      "outputs": [
        {
          "output_type": "stream",
          "name": "stdout",
          "text": [
            "              precision    recall  f1-score   support\n",
            "\n",
            "           0       0.51      0.81      0.63       315\n",
            "           1       0.25      0.03      0.06       210\n",
            "           2       0.08      0.07      0.08        56\n",
            "           3       0.05      0.06      0.06        31\n",
            "\n",
            "    accuracy                           0.44       612\n",
            "   macro avg       0.22      0.24      0.21       612\n",
            "weighted avg       0.36      0.44      0.35       612\n",
            "\n"
          ]
        }
      ]
    },
    {
      "cell_type": "code",
      "source": [
        "#Plot Confusion Matrix\n",
        "labels = ['True Neg','False Pos','False Neg','True Pos']\n",
        "categories = ['False', 'True', 'Partially False', 'Other']\n",
        "\n",
        "make_confusion_matrix(result_,\n",
        "                      group_names=labels,\n",
        "                      categories=categories, \n",
        "                      cmap='Blues',\n",
        "                      figsize=(5,5),\n",
        "                      cbar=True, title='Confusion Matrix: CNN', sum_stats=True)"
      ],
      "metadata": {
        "colab": {
          "base_uri": "https://localhost:8080/",
          "height": 520
        },
        "id": "AzYAnh0Ez4xb",
        "outputId": "706ceee5-8387-4cc3-cdd5-3324ca5843d3"
      },
      "execution_count": 45,
      "outputs": [
        {
          "output_type": "display_data",
          "data": {
            "text/plain": [
              "<Figure size 500x500 with 2 Axes>"
            ],
            "image/png": "[encoded data removed]"
          },
          "metadata": {}
        }
      ]
    },
    {
      "cell_type": "markdown",
      "source": [
        "### LSTM"
      ],
      "metadata": {
        "id": "IFpFlpirw5NH"
      }
    },
    {
      "cell_type": "code",
      "source": [
        "embedding_dim = 100\n",
        "\n",
        "model1 = Sequential()\n",
        "model1.add(Embedding(input_dim=vocab_size, output_dim=embedding_dim, input_length=maxlen))\n",
        "model1.add(Bidirectional(LSTM(128, dropout=0.5)))\n",
        "model1.add(Dense(128, activation='relu'))\n",
        "model1.add(Dense(4, activation='softmax'))\n",
        "model1.compile(optimizer='adam', loss='categorical_crossentropy', metrics=['accuracy'])\n",
        "model1.summary()"
      ],
      "metadata": {
        "id": "8uNQX9PZavFP",
        "colab": {
          "base_uri": "https://localhost:8080/"
        },
        "outputId": "24b3c380-906f-481a-9706-a0f58717c169"
      },
      "execution_count": 46,
      "outputs": [
        {
          "output_type": "stream",
          "name": "stdout",
          "text": [
            "Model: \"sequential_1\"\n",
            "_________________________________________________________________\n",
            " Layer (type)                Output Shape              Param #   \n",
            "=================================================================\n",
            " embedding_1 (Embedding)     (None, 1250, 100)         2426900   \n",
            "                                                                 \n",
            " bidirectional (Bidirectiona  (None, 256)              234496    \n",
            " l)                                                              \n",
            "                                                                 \n",
            " dense_2 (Dense)             (None, 128)               32896     \n",
            "                                                                 \n",
            " dense_3 (Dense)             (None, 4)                 516       \n",
            "                                                                 \n",
            "=================================================================\n",
            "Total params: 2,694,808\n",
            "Trainable params: 2,694,808\n",
            "Non-trainable params: 0\n",
            "_________________________________________________________________\n"
          ]
        }
      ]
    },
    {
      "cell_type": "code",
      "source": [
        "plot_model(model1, to_file='model_lstm.png', show_shapes=True, show_layer_names=True)"
      ],
      "metadata": {
        "id": "xajpDFstGdA6",
        "outputId": "cbc2669d-7d2f-4a42-9327-43dbb2b8948f",
        "colab": {
          "base_uri": "https://localhost:8080/",
          "height": 533
        }
      },
      "execution_count": 47,
      "outputs": [
        {
          "output_type": "execute_result",
          "data": {
            "image/png": "[encoded data removed]",
            "text/plain": [
              "<IPython.core.display.Image object>"
            ]
          },
          "metadata": {},
          "execution_count": 47
        }
      ]
    },
    {
      "cell_type": "code",
      "source": [
        "history_1 = model1.fit(padded_train, train_y,\n",
        "                    batch_size=128,\n",
        "                    epochs=20,\n",
        "                    validation_data=(padded_test, test_y))"
      ],
      "metadata": {
        "id": "rQ7Aff6aa9-S",
        "colab": {
          "base_uri": "https://localhost:8080/"
        },
        "outputId": "1bef951d-1c1c-4c72-cad5-68adf4219f56"
      },
      "execution_count": 48,
      "outputs": [
        {
          "output_type": "stream",
          "name": "stdout",
          "text": [
            "Epoch 1/20\n",
            "10/10 [==============================] - 13s 472ms/step - loss: 1.3025 - accuracy: 0.4248 - val_loss: 1.2721 - val_accuracy: 0.5147\n",
            "Epoch 2/20\n",
            "10/10 [==============================] - 4s 399ms/step - loss: 1.2349 - accuracy: 0.4573 - val_loss: 1.2475 - val_accuracy: 0.5147\n",
            "Epoch 3/20\n",
            "10/10 [==============================] - 3s 349ms/step - loss: 1.2146 - accuracy: 0.4573 - val_loss: 1.2485 - val_accuracy: 0.5147\n",
            "Epoch 4/20\n",
            "10/10 [==============================] - 3s 350ms/step - loss: 1.1467 - accuracy: 0.4581 - val_loss: 1.2384 - val_accuracy: 0.5147\n",
            "Epoch 5/20\n",
            "10/10 [==============================] - 4s 415ms/step - loss: 1.4742 - accuracy: 0.5807 - val_loss: 1.3245 - val_accuracy: 0.2843\n",
            "Epoch 6/20\n",
            "10/10 [==============================] - 4s 386ms/step - loss: 1.0776 - accuracy: 0.6653 - val_loss: 1.2879 - val_accuracy: 0.4902\n",
            "Epoch 7/20\n",
            "10/10 [==============================] - 3s 352ms/step - loss: 0.9107 - accuracy: 0.6479 - val_loss: 1.3544 - val_accuracy: 0.4379\n",
            "Epoch 8/20\n",
            "10/10 [==============================] - 3s 346ms/step - loss: 0.7237 - accuracy: 0.6986 - val_loss: 1.5498 - val_accuracy: 0.5049\n",
            "Epoch 9/20\n",
            "10/10 [==============================] - 4s 397ms/step - loss: 0.5928 - accuracy: 0.7389 - val_loss: 1.5371 - val_accuracy: 0.3971\n",
            "Epoch 10/20\n",
            "10/10 [==============================] - 3s 308ms/step - loss: 0.5206 - accuracy: 0.7516 - val_loss: 1.7751 - val_accuracy: 0.4739\n",
            "Epoch 11/20\n",
            "10/10 [==============================] - 3s 353ms/step - loss: 0.4633 - accuracy: 0.7587 - val_loss: 1.6949 - val_accuracy: 0.4101\n",
            "Epoch 12/20\n",
            "10/10 [==============================] - 3s 310ms/step - loss: 0.4309 - accuracy: 0.7722 - val_loss: 1.8264 - val_accuracy: 0.4199\n",
            "Epoch 13/20\n",
            "10/10 [==============================] - 4s 464ms/step - loss: 0.4003 - accuracy: 0.7722 - val_loss: 1.7776 - val_accuracy: 0.4248\n",
            "Epoch 14/20\n",
            "10/10 [==============================] - 3s 350ms/step - loss: 0.3809 - accuracy: 0.7919 - val_loss: 1.7856 - val_accuracy: 0.4493\n",
            "Epoch 15/20\n",
            "10/10 [==============================] - 3s 331ms/step - loss: 0.3912 - accuracy: 0.7872 - val_loss: 1.9637 - val_accuracy: 0.3137\n",
            "Epoch 16/20\n",
            "10/10 [==============================] - 3s 335ms/step - loss: 0.3873 - accuracy: 0.7666 - val_loss: 1.7058 - val_accuracy: 0.4444\n",
            "Epoch 17/20\n",
            "10/10 [==============================] - 4s 452ms/step - loss: 0.3599 - accuracy: 0.7809 - val_loss: 1.8511 - val_accuracy: 0.4118\n",
            "Epoch 18/20\n",
            "10/10 [==============================] - 3s 314ms/step - loss: 0.3506 - accuracy: 0.7745 - val_loss: 1.8666 - val_accuracy: 0.4297\n",
            "Epoch 19/20\n",
            "10/10 [==============================] - 3s 330ms/step - loss: 0.3473 - accuracy: 0.7698 - val_loss: 1.8731 - val_accuracy: 0.4052\n",
            "Epoch 20/20\n",
            "10/10 [==============================] - 4s 389ms/step - loss: 0.3316 - accuracy: 0.7801 - val_loss: 1.9125 - val_accuracy: 0.4314\n"
          ]
        }
      ]
    },
    {
      "cell_type": "code",
      "source": [
        "loss, accuracy = model1.evaluate(padded_train, train_y, verbose=False)\n",
        "print(\"Training Accuracy: {:.4f}\".format(accuracy))\n",
        "loss, accuracy = model1.evaluate(padded_test, test_y, verbose=False)\n",
        "print(\"Testing Accuracy:  {:.4f}\".format(accuracy))"
      ],
      "metadata": {
        "id": "H88dspLcbI4G",
        "colab": {
          "base_uri": "https://localhost:8080/"
        },
        "outputId": "02eda709-3f8b-45b8-a266-a18ba6cbffae"
      },
      "execution_count": 49,
      "outputs": [
        {
          "output_type": "stream",
          "name": "stdout",
          "text": [
            "Training Accuracy: 0.8014\n",
            "Testing Accuracy:  0.4314\n"
          ]
        }
      ]
    },
    {
      "cell_type": "code",
      "source": [
        "plot_history(history_1)"
      ],
      "metadata": {
        "id": "FRnTBS2j1FF0",
        "colab": {
          "base_uri": "https://localhost:8080/",
          "height": 927
        },
        "outputId": "030f8a4d-c0c1-4233-c55f-ef0b28d9ec9e"
      },
      "execution_count": 50,
      "outputs": [
        {
          "output_type": "display_data",
          "data": {
            "text/plain": [
              "<Figure size 640x480 with 1 Axes>"
            ],
            "image/png": "[encoded data removed]"
          },
          "metadata": {}
        },
        {
          "output_type": "display_data",
          "data": {
            "text/plain": [
              "<Figure size 640x480 with 1 Axes>"
            ],
            "image/png": "[encoded data removed]"
          },
          "metadata": {}
        }
      ]
    },
    {
      "cell_type": "code",
      "source": [
        "#Evaluation\n",
        "y_prediction_1 = model.predict(padded_test)\n",
        "y_prediction_1 = np.argmax (y_prediction_1, axis = 1)\n",
        "result_1 = confusion_matrix(y_test, y_prediction_1)"
      ],
      "metadata": {
        "id": "kDMKfKCH1GuI",
        "colab": {
          "base_uri": "https://localhost:8080/"
        },
        "outputId": "6bb6e3c6-875a-4c12-eb4a-7e16453ac0d1"
      },
      "execution_count": 51,
      "outputs": [
        {
          "output_type": "stream",
          "name": "stdout",
          "text": [
            "20/20 [==============================] - 0s 4ms/step\n"
          ]
        }
      ]
    },
    {
      "cell_type": "code",
      "source": [
        "#Print Classification Report\n",
        "print(classification_report(y_test, y_prediction_1, zero_division=1))"
      ],
      "metadata": {
        "id": "ge8YQ_KS1ISn",
        "colab": {
          "base_uri": "https://localhost:8080/"
        },
        "outputId": "6566b273-8b41-4754-b5d2-ab941d98668a"
      },
      "execution_count": 52,
      "outputs": [
        {
          "output_type": "stream",
          "name": "stdout",
          "text": [
            "              precision    recall  f1-score   support\n",
            "\n",
            "           0       0.51      0.81      0.63       315\n",
            "           1       0.25      0.03      0.06       210\n",
            "           2       0.08      0.07      0.08        56\n",
            "           3       0.05      0.06      0.06        31\n",
            "\n",
            "    accuracy                           0.44       612\n",
            "   macro avg       0.22      0.24      0.21       612\n",
            "weighted avg       0.36      0.44      0.35       612\n",
            "\n"
          ]
        }
      ]
    },
    {
      "cell_type": "code",
      "source": [
        "#Plot Confusion Matrix\n",
        "labels = ['True Neg','False Pos','False Neg','True Pos']\n",
        "categories = ['False', 'True', 'Partially False', 'Other']\n",
        "\n",
        "make_confusion_matrix(result_1, \n",
        "                      group_names=labels,\n",
        "                      categories=categories, \n",
        "                      cmap='Blues',\n",
        "                      figsize=(5,5),\n",
        "                      cbar=True, title='Confusion Matrix: LSTM', sum_stats=True)"
      ],
      "metadata": {
        "id": "7Va__V601KBj",
        "colab": {
          "base_uri": "https://localhost:8080/",
          "height": 520
        },
        "outputId": "0d978251-bb62-4196-a339-dbdc4ae3e01c"
      },
      "execution_count": 53,
      "outputs": [
        {
          "output_type": "display_data",
          "data": {
            "text/plain": [
              "<Figure size 500x500 with 2 Axes>"
            ],
            "image/png": "[encoded data removed]"
          },
          "metadata": {}
        }
      ]
    }
  ]
}