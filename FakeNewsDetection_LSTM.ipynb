{
  "nbformat": 4,
  "nbformat_minor": 0,
  "metadata": {
    "colab": {
      "provenance": [],
      "collapsed_sections": [
        "qbWTO5ZJfLNJ",
        "zVxDSdbCf7gq",
        "cAlegceihafU",
        "pCYEY5QTpCAx",
        "b1L6X8ULrbXJ"
      ],
      "toc_visible": true,
      "gpuType": "T4",
      "authorship_tag": "ABX9TyOQGeJLT+u+JqRFUeu0n3MN",
      "include_colab_link": true
    },
    "kernelspec": {
      "name": "python3",
      "display_name": "Python 3"
    },
    "language_info": {
      "name": "python"
    },
    "widgets": {
      "application/vnd.jupyter.widget-state+json": {
        "6ceb2f765a614afe96fc0d6abff43961": {
          "model_module": "@jupyter-widgets/controls",
          "model_name": "HBoxModel",
          "model_module_version": "1.5.0",
          "state": {
            "_dom_classes": [],
            "_model_module": "@jupyter-widgets/controls",
            "_model_module_version": "1.5.0",
            "_model_name": "HBoxModel",
            "_view_count": null,
            "_view_module": "@jupyter-widgets/controls",
            "_view_module_version": "1.5.0",
            "_view_name": "HBoxView",
            "box_style": "",
            "children": [
              "IPY_MODEL_821d56929c1049699507a9181eaa7983",
              "IPY_MODEL_06540969c8434cd4a1be2bb2dbcd244c",
              "IPY_MODEL_91483e8a95b84f8796e3b850e79f1851"
            ],
            "layout": "IPY_MODEL_bf087e5d1fbd48be8c23b224b22fd4a6"
          }
        },
        "821d56929c1049699507a9181eaa7983": {
          "model_module": "@jupyter-widgets/controls",
          "model_name": "HTMLModel",
          "model_module_version": "1.5.0",
          "state": {
            "_dom_classes": [],
            "_model_module": "@jupyter-widgets/controls",
            "_model_module_version": "1.5.0",
            "_model_name": "HTMLModel",
            "_view_count": null,
            "_view_module": "@jupyter-widgets/controls",
            "_view_module_version": "1.5.0",
            "_view_name": "HTMLView",
            "description": "",
            "description_tooltip": null,
            "layout": "IPY_MODEL_178fbcbd3d5e452793870218d98355cb",
            "placeholder": "​",
            "style": "IPY_MODEL_508c502ca9f54820a200a85d94b70096",
            "value": "100%"
          }
        },
        "06540969c8434cd4a1be2bb2dbcd244c": {
          "model_module": "@jupyter-widgets/controls",
          "model_name": "FloatProgressModel",
          "model_module_version": "1.5.0",
          "state": {
            "_dom_classes": [],
            "_model_module": "@jupyter-widgets/controls",
            "_model_module_version": "1.5.0",
            "_model_name": "FloatProgressModel",
            "_view_count": null,
            "_view_module": "@jupyter-widgets/controls",
            "_view_module_version": "1.5.0",
            "_view_name": "ProgressView",
            "bar_style": "success",
            "description": "",
            "description_tooltip": null,
            "layout": "IPY_MODEL_a89f13333694428fadece64b5f02489b",
            "max": 1264,
            "min": 0,
            "orientation": "horizontal",
            "style": "IPY_MODEL_f9377caccee945829991c2e8d185ab1a",
            "value": 1264
          }
        },
        "91483e8a95b84f8796e3b850e79f1851": {
          "model_module": "@jupyter-widgets/controls",
          "model_name": "HTMLModel",
          "model_module_version": "1.5.0",
          "state": {
            "_dom_classes": [],
            "_model_module": "@jupyter-widgets/controls",
            "_model_module_version": "1.5.0",
            "_model_name": "HTMLModel",
            "_view_count": null,
            "_view_module": "@jupyter-widgets/controls",
            "_view_module_version": "1.5.0",
            "_view_name": "HTMLView",
            "description": "",
            "description_tooltip": null,
            "layout": "IPY_MODEL_50cf5e7d272a43189548bcbdd716ad51",
            "placeholder": "​",
            "style": "IPY_MODEL_bbc1614338c6485e99d9f49689c1519c",
            "value": " 1264/1264 [00:16&lt;00:00, 104.42it/s]"
          }
        },
        "bf087e5d1fbd48be8c23b224b22fd4a6": {
          "model_module": "@jupyter-widgets/base",
          "model_name": "LayoutModel",
          "model_module_version": "1.2.0",
          "state": {
            "_model_module": "@jupyter-widgets/base",
            "_model_module_version": "1.2.0",
            "_model_name": "LayoutModel",
            "_view_count": null,
            "_view_module": "@jupyter-widgets/base",
            "_view_module_version": "1.2.0",
            "_view_name": "LayoutView",
            "align_content": null,
            "align_items": null,
            "align_self": null,
            "border": null,
            "bottom": null,
            "display": null,
            "flex": null,
            "flex_flow": null,
            "grid_area": null,
            "grid_auto_columns": null,
            "grid_auto_flow": null,
            "grid_auto_rows": null,
            "grid_column": null,
            "grid_gap": null,
            "grid_row": null,
            "grid_template_areas": null,
            "grid_template_columns": null,
            "grid_template_rows": null,
            "height": null,
            "justify_content": null,
            "justify_items": null,
            "left": null,
            "margin": null,
            "max_height": null,
            "max_width": null,
            "min_height": null,
            "min_width": null,
            "object_fit": null,
            "object_position": null,
            "order": null,
            "overflow": null,
            "overflow_x": null,
            "overflow_y": null,
            "padding": null,
            "right": null,
            "top": null,
            "visibility": null,
            "width": null
          }
        },
        "178fbcbd3d5e452793870218d98355cb": {
          "model_module": "@jupyter-widgets/base",
          "model_name": "LayoutModel",
          "model_module_version": "1.2.0",
          "state": {
            "_model_module": "@jupyter-widgets/base",
            "_model_module_version": "1.2.0",
            "_model_name": "LayoutModel",
            "_view_count": null,
            "_view_module": "@jupyter-widgets/base",
            "_view_module_version": "1.2.0",
            "_view_name": "LayoutView",
            "align_content": null,
            "align_items": null,
            "align_self": null,
            "border": null,
            "bottom": null,
            "display": null,
            "flex": null,
            "flex_flow": null,
            "grid_area": null,
            "grid_auto_columns": null,
            "grid_auto_flow": null,
            "grid_auto_rows": null,
            "grid_column": null,
            "grid_gap": null,
            "grid_row": null,
            "grid_template_areas": null,
            "grid_template_columns": null,
            "grid_template_rows": null,
            "height": null,
            "justify_content": null,
            "justify_items": null,
            "left": null,
            "margin": null,
            "max_height": null,
            "max_width": null,
            "min_height": null,
            "min_width": null,
            "object_fit": null,
            "object_position": null,
            "order": null,
            "overflow": null,
            "overflow_x": null,
            "overflow_y": null,
            "padding": null,
            "right": null,
            "top": null,
            "visibility": null,
            "width": null
          }
        },
        "508c502ca9f54820a200a85d94b70096": {
          "model_module": "@jupyter-widgets/controls",
          "model_name": "DescriptionStyleModel",
          "model_module_version": "1.5.0",
          "state": {
            "_model_module": "@jupyter-widgets/controls",
            "_model_module_version": "1.5.0",
            "_model_name": "DescriptionStyleModel",
            "_view_count": null,
            "_view_module": "@jupyter-widgets/base",
            "_view_module_version": "1.2.0",
            "_view_name": "StyleView",
            "description_width": ""
          }
        },
        "a89f13333694428fadece64b5f02489b": {
          "model_module": "@jupyter-widgets/base",
          "model_name": "LayoutModel",
          "model_module_version": "1.2.0",
          "state": {
            "_model_module": "@jupyter-widgets/base",
            "_model_module_version": "1.2.0",
            "_model_name": "LayoutModel",
            "_view_count": null,
            "_view_module": "@jupyter-widgets/base",
            "_view_module_version": "1.2.0",
            "_view_name": "LayoutView",
            "align_content": null,
            "align_items": null,
            "align_self": null,
            "border": null,
            "bottom": null,
            "display": null,
            "flex": null,
            "flex_flow": null,
            "grid_area": null,
            "grid_auto_columns": null,
            "grid_auto_flow": null,
            "grid_auto_rows": null,
            "grid_column": null,
            "grid_gap": null,
            "grid_row": null,
            "grid_template_areas": null,
            "grid_template_columns": null,
            "grid_template_rows": null,
            "height": null,
            "justify_content": null,
            "justify_items": null,
            "left": null,
            "margin": null,
            "max_height": null,
            "max_width": null,
            "min_height": null,
            "min_width": null,
            "object_fit": null,
            "object_position": null,
            "order": null,
            "overflow": null,
            "overflow_x": null,
            "overflow_y": null,
            "padding": null,
            "right": null,
            "top": null,
            "visibility": null,
            "width": null
          }
        },
        "f9377caccee945829991c2e8d185ab1a": {
          "model_module": "@jupyter-widgets/controls",
          "model_name": "ProgressStyleModel",
          "model_module_version": "1.5.0",
          "state": {
            "_model_module": "@jupyter-widgets/controls",
            "_model_module_version": "1.5.0",
            "_model_name": "ProgressStyleModel",
            "_view_count": null,
            "_view_module": "@jupyter-widgets/base",
            "_view_module_version": "1.2.0",
            "_view_name": "StyleView",
            "bar_color": null,
            "description_width": ""
          }
        },
        "50cf5e7d272a43189548bcbdd716ad51": {
          "model_module": "@jupyter-widgets/base",
          "model_name": "LayoutModel",
          "model_module_version": "1.2.0",
          "state": {
            "_model_module": "@jupyter-widgets/base",
            "_model_module_version": "1.2.0",
            "_model_name": "LayoutModel",
            "_view_count": null,
            "_view_module": "@jupyter-widgets/base",
            "_view_module_version": "1.2.0",
            "_view_name": "LayoutView",
            "align_content": null,
            "align_items": null,
            "align_self": null,
            "border": null,
            "bottom": null,
            "display": null,
            "flex": null,
            "flex_flow": null,
            "grid_area": null,
            "grid_auto_columns": null,
            "grid_auto_flow": null,
            "grid_auto_rows": null,
            "grid_column": null,
            "grid_gap": null,
            "grid_row": null,
            "grid_template_areas": null,
            "grid_template_columns": null,
            "grid_template_rows": null,
            "height": null,
            "justify_content": null,
            "justify_items": null,
            "left": null,
            "margin": null,
            "max_height": null,
            "max_width": null,
            "min_height": null,
            "min_width": null,
            "object_fit": null,
            "object_position": null,
            "order": null,
            "overflow": null,
            "overflow_x": null,
            "overflow_y": null,
            "padding": null,
            "right": null,
            "top": null,
            "visibility": null,
            "width": null
          }
        },
        "bbc1614338c6485e99d9f49689c1519c": {
          "model_module": "@jupyter-widgets/controls",
          "model_name": "DescriptionStyleModel",
          "model_module_version": "1.5.0",
          "state": {
            "_model_module": "@jupyter-widgets/controls",
            "_model_module_version": "1.5.0",
            "_model_name": "DescriptionStyleModel",
            "_view_count": null,
            "_view_module": "@jupyter-widgets/base",
            "_view_module_version": "1.2.0",
            "_view_name": "StyleView",
            "description_width": ""
          }
        },
        "aac4192feead4662a04c4784f428cade": {
          "model_module": "@jupyter-widgets/controls",
          "model_name": "HBoxModel",
          "model_module_version": "1.5.0",
          "state": {
            "_dom_classes": [],
            "_model_module": "@jupyter-widgets/controls",
            "_model_module_version": "1.5.0",
            "_model_name": "HBoxModel",
            "_view_count": null,
            "_view_module": "@jupyter-widgets/controls",
            "_view_module_version": "1.5.0",
            "_view_name": "HBoxView",
            "box_style": "",
            "children": [
              "IPY_MODEL_beb9f0b1914046419db25a7567c6cd09",
              "IPY_MODEL_3903d76d76aa4fad991f5983c6c5f379",
              "IPY_MODEL_fb09486affbd4fa8a014f0afbec150cc"
            ],
            "layout": "IPY_MODEL_93ad05f3d6cc42ae90d5c1b12fbe5cf7"
          }
        },
        "beb9f0b1914046419db25a7567c6cd09": {
          "model_module": "@jupyter-widgets/controls",
          "model_name": "HTMLModel",
          "model_module_version": "1.5.0",
          "state": {
            "_dom_classes": [],
            "_model_module": "@jupyter-widgets/controls",
            "_model_module_version": "1.5.0",
            "_model_name": "HTMLModel",
            "_view_count": null,
            "_view_module": "@jupyter-widgets/controls",
            "_view_module_version": "1.5.0",
            "_view_name": "HTMLView",
            "description": "",
            "description_tooltip": null,
            "layout": "IPY_MODEL_facfc3e65a5c4298bf61baa86128e395",
            "placeholder": "​",
            "style": "IPY_MODEL_018380ea2b8e415492db2f5ba5f311d9",
            "value": "100%"
          }
        },
        "3903d76d76aa4fad991f5983c6c5f379": {
          "model_module": "@jupyter-widgets/controls",
          "model_name": "FloatProgressModel",
          "model_module_version": "1.5.0",
          "state": {
            "_dom_classes": [],
            "_model_module": "@jupyter-widgets/controls",
            "_model_module_version": "1.5.0",
            "_model_name": "FloatProgressModel",
            "_view_count": null,
            "_view_module": "@jupyter-widgets/controls",
            "_view_module_version": "1.5.0",
            "_view_name": "ProgressView",
            "bar_style": "success",
            "description": "",
            "description_tooltip": null,
            "layout": "IPY_MODEL_a83f201b24004983a492e52ef0522272",
            "max": 612,
            "min": 0,
            "orientation": "horizontal",
            "style": "IPY_MODEL_8edaa0a172714757a42fb890a39251a3",
            "value": 612
          }
        },
        "fb09486affbd4fa8a014f0afbec150cc": {
          "model_module": "@jupyter-widgets/controls",
          "model_name": "HTMLModel",
          "model_module_version": "1.5.0",
          "state": {
            "_dom_classes": [],
            "_model_module": "@jupyter-widgets/controls",
            "_model_module_version": "1.5.0",
            "_model_name": "HTMLModel",
            "_view_count": null,
            "_view_module": "@jupyter-widgets/controls",
            "_view_module_version": "1.5.0",
            "_view_name": "HTMLView",
            "description": "",
            "description_tooltip": null,
            "layout": "IPY_MODEL_75158f2e7ac4463b9cf3461386200d92",
            "placeholder": "​",
            "style": "IPY_MODEL_a925e214b9204e1194530e6dded14854",
            "value": " 612/612 [00:12&lt;00:00, 78.59it/s]"
          }
        },
        "93ad05f3d6cc42ae90d5c1b12fbe5cf7": {
          "model_module": "@jupyter-widgets/base",
          "model_name": "LayoutModel",
          "model_module_version": "1.2.0",
          "state": {
            "_model_module": "@jupyter-widgets/base",
            "_model_module_version": "1.2.0",
            "_model_name": "LayoutModel",
            "_view_count": null,
            "_view_module": "@jupyter-widgets/base",
            "_view_module_version": "1.2.0",
            "_view_name": "LayoutView",
            "align_content": null,
            "align_items": null,
            "align_self": null,
            "border": null,
            "bottom": null,
            "display": null,
            "flex": null,
            "flex_flow": null,
            "grid_area": null,
            "grid_auto_columns": null,
            "grid_auto_flow": null,
            "grid_auto_rows": null,
            "grid_column": null,
            "grid_gap": null,
            "grid_row": null,
            "grid_template_areas": null,
            "grid_template_columns": null,
            "grid_template_rows": null,
            "height": null,
            "justify_content": null,
            "justify_items": null,
            "left": null,
            "margin": null,
            "max_height": null,
            "max_width": null,
            "min_height": null,
            "min_width": null,
            "object_fit": null,
            "object_position": null,
            "order": null,
            "overflow": null,
            "overflow_x": null,
            "overflow_y": null,
            "padding": null,
            "right": null,
            "top": null,
            "visibility": null,
            "width": null
          }
        },
        "facfc3e65a5c4298bf61baa86128e395": {
          "model_module": "@jupyter-widgets/base",
          "model_name": "LayoutModel",
          "model_module_version": "1.2.0",
          "state": {
            "_model_module": "@jupyter-widgets/base",
            "_model_module_version": "1.2.0",
            "_model_name": "LayoutModel",
            "_view_count": null,
            "_view_module": "@jupyter-widgets/base",
            "_view_module_version": "1.2.0",
            "_view_name": "LayoutView",
            "align_content": null,
            "align_items": null,
            "align_self": null,
            "border": null,
            "bottom": null,
            "display": null,
            "flex": null,
            "flex_flow": null,
            "grid_area": null,
            "grid_auto_columns": null,
            "grid_auto_flow": null,
            "grid_auto_rows": null,
            "grid_column": null,
            "grid_gap": null,
            "grid_row": null,
            "grid_template_areas": null,
            "grid_template_columns": null,
            "grid_template_rows": null,
            "height": null,
            "justify_content": null,
            "justify_items": null,
            "left": null,
            "margin": null,
            "max_height": null,
            "max_width": null,
            "min_height": null,
            "min_width": null,
            "object_fit": null,
            "object_position": null,
            "order": null,
            "overflow": null,
            "overflow_x": null,
            "overflow_y": null,
            "padding": null,
            "right": null,
            "top": null,
            "visibility": null,
            "width": null
          }
        },
        "018380ea2b8e415492db2f5ba5f311d9": {
          "model_module": "@jupyter-widgets/controls",
          "model_name": "DescriptionStyleModel",
          "model_module_version": "1.5.0",
          "state": {
            "_model_module": "@jupyter-widgets/controls",
            "_model_module_version": "1.5.0",
            "_model_name": "DescriptionStyleModel",
            "_view_count": null,
            "_view_module": "@jupyter-widgets/base",
            "_view_module_version": "1.2.0",
            "_view_name": "StyleView",
            "description_width": ""
          }
        },
        "a83f201b24004983a492e52ef0522272": {
          "model_module": "@jupyter-widgets/base",
          "model_name": "LayoutModel",
          "model_module_version": "1.2.0",
          "state": {
            "_model_module": "@jupyter-widgets/base",
            "_model_module_version": "1.2.0",
            "_model_name": "LayoutModel",
            "_view_count": null,
            "_view_module": "@jupyter-widgets/base",
            "_view_module_version": "1.2.0",
            "_view_name": "LayoutView",
            "align_content": null,
            "align_items": null,
            "align_self": null,
            "border": null,
            "bottom": null,
            "display": null,
            "flex": null,
            "flex_flow": null,
            "grid_area": null,
            "grid_auto_columns": null,
            "grid_auto_flow": null,
            "grid_auto_rows": null,
            "grid_column": null,
            "grid_gap": null,
            "grid_row": null,
            "grid_template_areas": null,
            "grid_template_columns": null,
            "grid_template_rows": null,
            "height": null,
            "justify_content": null,
            "justify_items": null,
            "left": null,
            "margin": null,
            "max_height": null,
            "max_width": null,
            "min_height": null,
            "min_width": null,
            "object_fit": null,
            "object_position": null,
            "order": null,
            "overflow": null,
            "overflow_x": null,
            "overflow_y": null,
            "padding": null,
            "right": null,
            "top": null,
            "visibility": null,
            "width": null
          }
        },
        "8edaa0a172714757a42fb890a39251a3": {
          "model_module": "@jupyter-widgets/controls",
          "model_name": "ProgressStyleModel",
          "model_module_version": "1.5.0",
          "state": {
            "_model_module": "@jupyter-widgets/controls",
            "_model_module_version": "1.5.0",
            "_model_name": "ProgressStyleModel",
            "_view_count": null,
            "_view_module": "@jupyter-widgets/base",
            "_view_module_version": "1.2.0",
            "_view_name": "StyleView",
            "bar_color": null,
            "description_width": ""
          }
        },
        "75158f2e7ac4463b9cf3461386200d92": {
          "model_module": "@jupyter-widgets/base",
          "model_name": "LayoutModel",
          "model_module_version": "1.2.0",
          "state": {
            "_model_module": "@jupyter-widgets/base",
            "_model_module_version": "1.2.0",
            "_model_name": "LayoutModel",
            "_view_count": null,
            "_view_module": "@jupyter-widgets/base",
            "_view_module_version": "1.2.0",
            "_view_name": "LayoutView",
            "align_content": null,
            "align_items": null,
            "align_self": null,
            "border": null,
            "bottom": null,
            "display": null,
            "flex": null,
            "flex_flow": null,
            "grid_area": null,
            "grid_auto_columns": null,
            "grid_auto_flow": null,
            "grid_auto_rows": null,
            "grid_column": null,
            "grid_gap": null,
            "grid_row": null,
            "grid_template_areas": null,
            "grid_template_columns": null,
            "grid_template_rows": null,
            "height": null,
            "justify_content": null,
            "justify_items": null,
            "left": null,
            "margin": null,
            "max_height": null,
            "max_width": null,
            "min_height": null,
            "min_width": null,
            "object_fit": null,
            "object_position": null,
            "order": null,
            "overflow": null,
            "overflow_x": null,
            "overflow_y": null,
            "padding": null,
            "right": null,
            "top": null,
            "visibility": null,
            "width": null
          }
        },
        "a925e214b9204e1194530e6dded14854": {
          "model_module": "@jupyter-widgets/controls",
          "model_name": "DescriptionStyleModel",
          "model_module_version": "1.5.0",
          "state": {
            "_model_module": "@jupyter-widgets/controls",
            "_model_module_version": "1.5.0",
            "_model_name": "DescriptionStyleModel",
            "_view_count": null,
            "_view_module": "@jupyter-widgets/base",
            "_view_module_version": "1.2.0",
            "_view_name": "StyleView",
            "description_width": ""
          }
        }
      }
    },
    "accelerator": "TPU"
  },
  "cells": [
    {
      "cell_type": "markdown",
      "metadata": {
        "id": "view-in-github",
        "colab_type": "text"
      },
      "source": [
        "<a href=\"https://colab.research.google.com/github/cgurkan/fake-news/blob/main/FakeNewsDetection_LSTM.ipynb\" target=\"_parent\"><img src=\"https://colab.research.google.com/assets/colab-badge.svg\" alt=\"Open In Colab\"/></a>"
      ]
    },
    {
      "cell_type": "markdown",
      "source": [
        "# Fake News Detection\n",
        "\n",
        "- Preprocess\n",
        "- Build Model With CNN and LSTM"
      ],
      "metadata": {
        "id": "IiRlyURVfGjN"
      }
    },
    {
      "cell_type": "markdown",
      "source": [
        "## Import Libraries"
      ],
      "metadata": {
        "id": "qbWTO5ZJfLNJ"
      }
    },
    {
      "cell_type": "code",
      "execution_count": 1,
      "metadata": {
        "colab": {
          "base_uri": "https://localhost:8080/"
        },
        "id": "O5WozqHpoF1z",
        "outputId": "05557f38-84b4-4148-fc35-4cbc6a85be70"
      },
      "outputs": [
        {
          "output_type": "stream",
          "name": "stdout",
          "text": [
            "Looking in indexes: https://pypi.org/simple, https://us-python.pkg.dev/colab-wheels/public/simple/\n",
            "Collecting clean-text\n",
            "  Downloading clean_text-0.6.0-py3-none-any.whl (11 kB)\n",
            "Collecting emoji<2.0.0,>=1.0.0 (from clean-text)\n",
            "  Downloading emoji-1.7.0.tar.gz (175 kB)\n",
            "\u001b[2K     \u001b[90m━━━━━━━━━━━━━━━━━━━━━━━━━━━━━━━━━━━━━━━\u001b[0m \u001b[32m175.4/175.4 kB\u001b[0m \u001b[31m4.5 MB/s\u001b[0m eta \u001b[36m0:00:00\u001b[0m\n",
            "\u001b[?25h  Preparing metadata (setup.py) ... \u001b[?25l\u001b[?25hdone\n",
            "Collecting ftfy<7.0,>=6.0 (from clean-text)\n",
            "  Downloading ftfy-6.1.1-py3-none-any.whl (53 kB)\n",
            "\u001b[2K     \u001b[90m━━━━━━━━━━━━━━━━━━━━━━━━━━━━━━━━━━━━━━━━\u001b[0m \u001b[32m53.1/53.1 kB\u001b[0m \u001b[31m5.7 MB/s\u001b[0m eta \u001b[36m0:00:00\u001b[0m\n",
            "\u001b[?25hRequirement already satisfied: wcwidth>=0.2.5 in /usr/local/lib/python3.10/dist-packages (from ftfy<7.0,>=6.0->clean-text) (0.2.6)\n",
            "Building wheels for collected packages: emoji\n",
            "  Building wheel for emoji (setup.py) ... \u001b[?25l\u001b[?25hdone\n",
            "  Created wheel for emoji: filename=emoji-1.7.0-py3-none-any.whl size=171033 sha256=53a967f0743052cab187b56ddb02311d2c2d7cc4ac4feabf24864f4954979e95\n",
            "  Stored in directory: /root/.cache/pip/wheels/31/8a/8c/315c9e5d7773f74b33d5ed33f075b49c6eaeb7cedbb86e2cf8\n",
            "Successfully built emoji\n",
            "Installing collected packages: emoji, ftfy, clean-text\n",
            "Successfully installed clean-text-0.6.0 emoji-1.7.0 ftfy-6.1.1\n"
          ]
        }
      ],
      "source": [
        "# clean-text package is used for text processing\n",
        "!pip install clean-text"
      ]
    },
    {
      "cell_type": "code",
      "source": [
        "import sys\n",
        "import math\n",
        "import pandas as pd\n",
        "import numpy as np\n",
        "\n",
        "import nltk\n",
        "from wordcloud import WordCloud,STOPWORDS\n",
        "from nltk.stem import WordNetLemmatizer\n",
        "from nltk.tokenize import word_tokenize\n",
        "from nltk import word_tokenize\n",
        "from nltk.corpus import names ,wordnet, stopwords\n",
        "from unicodedata import category\n",
        "from cleantext import clean\n",
        "\n",
        "#Data Visualisation\n",
        "\n",
        "import matplotlib.pyplot as plt \n",
        "import seaborn as sns\n",
        "import plotly.express as px\n",
        "import plotly.graph_objects as go \n",
        "\n",
        "#Sklearn\n",
        "from sklearn.feature_extraction.text import TfidfVectorizer, CountVectorizer\n",
        "from sklearn.model_selection import train_test_split, GridSearchCV, RandomizedSearchCV\n",
        "from sklearn.feature_selection import SelectKBest,chi2,f_classif\n",
        "from sklearn.naive_bayes import MultinomialNB, GaussianNB, BernoulliNB\n",
        "from sklearn.ensemble import VotingClassifier, RandomForestClassifier, AdaBoostClassifier, GradientBoostingClassifier, BaggingClassifier\n",
        "from sklearn.neighbors import KNeighborsClassifier\n",
        "from sklearn.tree import DecisionTreeClassifier\n",
        "from sklearn import tree\n",
        "from sklearn.metrics import classification_report , confusion_matrix, accuracy_score, f1_score, roc_curve\n",
        "import xgboost as xgb\n",
        "from xgboost import XGBClassifier\n",
        "from sklearn.preprocessing import LabelBinarizer, LabelEncoder\n",
        "\n",
        "#Tensorflow and Keras\n",
        "import tensorflow as tf\n",
        "from tensorflow import keras\n",
        "from keras.preprocessing.text import one_hot, Tokenizer\n",
        "#from keras.preprocessing.sequence import pad_sequences\n",
        "from keras.models import Sequential\n",
        "from keras.layers import Dense, Flatten, Embedding, Input, LSTM, Conv1D, MaxPool1D, Bidirectional,Activation, Dropout,GlobalMaxPool1D, Conv1D\n",
        "from keras.models import Model\n",
        "from keras.utils import pad_sequences, plot_model\n",
        "from keras import utils\n",
        "from keras.optimizers import Adam"
      ],
      "metadata": {
        "id": "DosQk5thoNbO",
        "colab": {
          "base_uri": "https://localhost:8080/"
        },
        "outputId": "0048d409-556f-4b48-c5b3-fb79a3c94ae9"
      },
      "execution_count": 2,
      "outputs": [
        {
          "output_type": "stream",
          "name": "stderr",
          "text": [
            "WARNING:root:Since the GPL-licensed package `unidecode` is not installed, using Python's `unicodedata` package which yields worse results.\n"
          ]
        }
      ]
    },
    {
      "cell_type": "code",
      "source": [
        "# Google Drive is used for to store unprocessed/processed dataset \n",
        "BASE_URL = \"/content/drive/MyDrive/Colab Notebooks/fakenews/\"\n",
        "from google.colab import drive\n",
        "drive.mount('/content/drive')"
      ],
      "metadata": {
        "colab": {
          "base_uri": "https://localhost:8080/"
        },
        "id": "gkbIIFgDoRQV",
        "outputId": "e4b7e31a-083e-49cd-8995-9fd164e7b84e"
      },
      "execution_count": 3,
      "outputs": [
        {
          "output_type": "stream",
          "name": "stdout",
          "text": [
            "Mounted at /content/drive\n"
          ]
        }
      ]
    },
    {
      "cell_type": "markdown",
      "source": [
        "## Dataset"
      ],
      "metadata": {
        "id": "zVxDSdbCf7gq"
      }
    },
    {
      "cell_type": "code",
      "source": [
        "# Read Training Dataset\n",
        "df_train = pd.read_csv(BASE_URL+\"data/train/Task3_english_training.csv\")\n",
        "df_train.head()"
      ],
      "metadata": {
        "colab": {
          "base_uri": "https://localhost:8080/",
          "height": 206
        },
        "id": "7TaitByAoaNx",
        "outputId": "6ac5ee35-2baa-4b74-cb66-0c115ce626d8"
      },
      "execution_count": 4,
      "outputs": [
        {
          "output_type": "execute_result",
          "data": {
            "text/plain": [
              "  public_id                                               text  \\\n",
              "0  5a228e0e  Distracted driving causes more deaths in Canad...   \n",
              "1  30c605a1  Missouri politicians have made statements afte...   \n",
              "2  c3dea290  Home Alone 2: Lost in New York is full of viol...   \n",
              "3  f14e8eb6  But things took a turn for the worse when riot...   \n",
              "4  faf024d6  It’s no secret that Epstein and Schiff share a...   \n",
              "\n",
              "                                               title       our rating  \n",
              "0  You Can Be Fined $1,500 If Your Passenger Is U...            FALSE  \n",
              "1      Missouri lawmakers condemn Las Vegas shooting  partially false  \n",
              "2  CBC Cuts Donald Trump's 'Home Alone 2' Cameo O...  partially false  \n",
              "3  Obama’s Daughters Caught on Camera Burning US ...            FALSE  \n",
              "4  Leaked Visitor Logs Reveal Schiff’s 78 Visits ...            FALSE  "
            ],
            "text/html": [
              "\n",
              "  <div id=\"df-e1237249-25ab-491b-989c-fb50012234a2\">\n",
              "    <div class=\"colab-df-container\">\n",
              "      <div>\n",
              "<style scoped>\n",
              "    .dataframe tbody tr th:only-of-type {\n",
              "        vertical-align: middle;\n",
              "    }\n",
              "\n",
              "    .dataframe tbody tr th {\n",
              "        vertical-align: top;\n",
              "    }\n",
              "\n",
              "    .dataframe thead th {\n",
              "        text-align: right;\n",
              "    }\n",
              "</style>\n",
              "<table border=\"1\" class=\"dataframe\">\n",
              "  <thead>\n",
              "    <tr style=\"text-align: right;\">\n",
              "      <th></th>\n",
              "      <th>public_id</th>\n",
              "      <th>text</th>\n",
              "      <th>title</th>\n",
              "      <th>our rating</th>\n",
              "    </tr>\n",
              "  </thead>\n",
              "  <tbody>\n",
              "    <tr>\n",
              "      <th>0</th>\n",
              "      <td>5a228e0e</td>\n",
              "      <td>Distracted driving causes more deaths in Canad...</td>\n",
              "      <td>You Can Be Fined $1,500 If Your Passenger Is U...</td>\n",
              "      <td>FALSE</td>\n",
              "    </tr>\n",
              "    <tr>\n",
              "      <th>1</th>\n",
              "      <td>30c605a1</td>\n",
              "      <td>Missouri politicians have made statements afte...</td>\n",
              "      <td>Missouri lawmakers condemn Las Vegas shooting</td>\n",
              "      <td>partially false</td>\n",
              "    </tr>\n",
              "    <tr>\n",
              "      <th>2</th>\n",
              "      <td>c3dea290</td>\n",
              "      <td>Home Alone 2: Lost in New York is full of viol...</td>\n",
              "      <td>CBC Cuts Donald Trump's 'Home Alone 2' Cameo O...</td>\n",
              "      <td>partially false</td>\n",
              "    </tr>\n",
              "    <tr>\n",
              "      <th>3</th>\n",
              "      <td>f14e8eb6</td>\n",
              "      <td>But things took a turn for the worse when riot...</td>\n",
              "      <td>Obama’s Daughters Caught on Camera Burning US ...</td>\n",
              "      <td>FALSE</td>\n",
              "    </tr>\n",
              "    <tr>\n",
              "      <th>4</th>\n",
              "      <td>faf024d6</td>\n",
              "      <td>It’s no secret that Epstein and Schiff share a...</td>\n",
              "      <td>Leaked Visitor Logs Reveal Schiff’s 78 Visits ...</td>\n",
              "      <td>FALSE</td>\n",
              "    </tr>\n",
              "  </tbody>\n",
              "</table>\n",
              "</div>\n",
              "      <button class=\"colab-df-convert\" onclick=\"convertToInteractive('df-e1237249-25ab-491b-989c-fb50012234a2')\"\n",
              "              title=\"Convert this dataframe to an interactive table.\"\n",
              "              style=\"display:none;\">\n",
              "        \n",
              "  <svg xmlns=\"http://www.w3.org/2000/svg\" height=\"24px\"viewBox=\"0 0 24 24\"\n",
              "       width=\"24px\">\n",
              "    <path d=\"M0 0h24v24H0V0z\" fill=\"none\"/>\n",
              "    <path d=\"M18.56 5.44l.94 2.06.94-2.06 2.06-.94-2.06-.94-.94-2.06-.94 2.06-2.06.94zm-11 1L8.5 8.5l.94-2.06 2.06-.94-2.06-.94L8.5 2.5l-.94 2.06-2.06.94zm10 10l.94 2.06.94-2.06 2.06-.94-2.06-.94-.94-2.06-.94 2.06-2.06.94z\"/><path d=\"M17.41 7.96l-1.37-1.37c-.4-.4-.92-.59-1.43-.59-.52 0-1.04.2-1.43.59L10.3 9.45l-7.72 7.72c-.78.78-.78 2.05 0 2.83L4 21.41c.39.39.9.59 1.41.59.51 0 1.02-.2 1.41-.59l7.78-7.78 2.81-2.81c.8-.78.8-2.07 0-2.86zM5.41 20L4 18.59l7.72-7.72 1.47 1.35L5.41 20z\"/>\n",
              "  </svg>\n",
              "      </button>\n",
              "      \n",
              "  <style>\n",
              "    .colab-df-container {\n",
              "      display:flex;\n",
              "      flex-wrap:wrap;\n",
              "      gap: 12px;\n",
              "    }\n",
              "\n",
              "    .colab-df-convert {\n",
              "      background-color: #E8F0FE;\n",
              "      border: none;\n",
              "      border-radius: 50%;\n",
              "      cursor: pointer;\n",
              "      display: none;\n",
              "      fill: #1967D2;\n",
              "      height: 32px;\n",
              "      padding: 0 0 0 0;\n",
              "      width: 32px;\n",
              "    }\n",
              "\n",
              "    .colab-df-convert:hover {\n",
              "      background-color: #E2EBFA;\n",
              "      box-shadow: 0px 1px 2px rgba(60, 64, 67, 0.3), 0px 1px 3px 1px rgba(60, 64, 67, 0.15);\n",
              "      fill: #174EA6;\n",
              "    }\n",
              "\n",
              "    [theme=dark] .colab-df-convert {\n",
              "      background-color: #3B4455;\n",
              "      fill: #D2E3FC;\n",
              "    }\n",
              "\n",
              "    [theme=dark] .colab-df-convert:hover {\n",
              "      background-color: #434B5C;\n",
              "      box-shadow: 0px 1px 3px 1px rgba(0, 0, 0, 0.15);\n",
              "      filter: drop-shadow(0px 1px 2px rgba(0, 0, 0, 0.3));\n",
              "      fill: #FFFFFF;\n",
              "    }\n",
              "  </style>\n",
              "\n",
              "      <script>\n",
              "        const buttonEl =\n",
              "          document.querySelector('#df-e1237249-25ab-491b-989c-fb50012234a2 button.colab-df-convert');\n",
              "        buttonEl.style.display =\n",
              "          google.colab.kernel.accessAllowed ? 'block' : 'none';\n",
              "\n",
              "        async function convertToInteractive(key) {\n",
              "          const element = document.querySelector('#df-e1237249-25ab-491b-989c-fb50012234a2');\n",
              "          const dataTable =\n",
              "            await google.colab.kernel.invokeFunction('convertToInteractive',\n",
              "                                                     [key], {});\n",
              "          if (!dataTable) return;\n",
              "\n",
              "          const docLinkHtml = 'Like what you see? Visit the ' +\n",
              "            '<a target=\"_blank\" href=https://colab.research.google.com/notebooks/data_table.ipynb>data table notebook</a>'\n",
              "            + ' to learn more about interactive tables.';\n",
              "          element.innerHTML = '';\n",
              "          dataTable['output_type'] = 'display_data';\n",
              "          await google.colab.output.renderOutput(dataTable, element);\n",
              "          const docLink = document.createElement('div');\n",
              "          docLink.innerHTML = docLinkHtml;\n",
              "          element.appendChild(docLink);\n",
              "        }\n",
              "      </script>\n",
              "    </div>\n",
              "  </div>\n",
              "  "
            ]
          },
          "metadata": {},
          "execution_count": 4
        }
      ]
    },
    {
      "cell_type": "code",
      "source": [
        "# Read Development Dataset ( will be merged with Training Dataset)\n",
        "df_dev = pd.read_csv(BASE_URL+\"data/train/Task3_english_dev.csv\")\n",
        "df_dev.head()"
      ],
      "metadata": {
        "colab": {
          "base_uri": "https://localhost:8080/",
          "height": 206
        },
        "id": "pcbJZ1v3ojAx",
        "outputId": "bac0e486-e0be-4a45-e073-ed2b9889fc6c"
      },
      "execution_count": 5,
      "outputs": [
        {
          "output_type": "execute_result",
          "data": {
            "text/plain": [
              "  public_id                                               text  \\\n",
              "0  81a67c96  Former state House Majority Leader Adam Hasner...   \n",
              "1  6e5ec6fb  Editor’s note: Subsequent to this article, VTD...   \n",
              "2  d9cd4895  The hypocritical Lib Dems want to ignore the r...   \n",
              "3  4a1a9b9f  Urgent action to boost the number of children ...   \n",
              "4  6d16fa40  By Ken Allen AFSCME Council 75 represents the ...   \n",
              "\n",
              "                                               title       our rating  \n",
              "0                              - The Washington Post  partially false  \n",
              "1                Rubio Comments on Iran Nuclear Deal            false  \n",
              "2  Climate Alarmists Caught Manipulating Temperat...            false  \n",
              "3  Who are the arsonists setting rural fires in W...            false  \n",
              "4  Diabetes prescriptions now cost NHS £1bn, figu...            false  "
            ],
            "text/html": [
              "\n",
              "  <div id=\"df-00135362-01a3-4da3-beab-be01e9dbb9d5\">\n",
              "    <div class=\"colab-df-container\">\n",
              "      <div>\n",
              "<style scoped>\n",
              "    .dataframe tbody tr th:only-of-type {\n",
              "        vertical-align: middle;\n",
              "    }\n",
              "\n",
              "    .dataframe tbody tr th {\n",
              "        vertical-align: top;\n",
              "    }\n",
              "\n",
              "    .dataframe thead th {\n",
              "        text-align: right;\n",
              "    }\n",
              "</style>\n",
              "<table border=\"1\" class=\"dataframe\">\n",
              "  <thead>\n",
              "    <tr style=\"text-align: right;\">\n",
              "      <th></th>\n",
              "      <th>public_id</th>\n",
              "      <th>text</th>\n",
              "      <th>title</th>\n",
              "      <th>our rating</th>\n",
              "    </tr>\n",
              "  </thead>\n",
              "  <tbody>\n",
              "    <tr>\n",
              "      <th>0</th>\n",
              "      <td>81a67c96</td>\n",
              "      <td>Former state House Majority Leader Adam Hasner...</td>\n",
              "      <td>- The Washington Post</td>\n",
              "      <td>partially false</td>\n",
              "    </tr>\n",
              "    <tr>\n",
              "      <th>1</th>\n",
              "      <td>6e5ec6fb</td>\n",
              "      <td>Editor’s note: Subsequent to this article, VTD...</td>\n",
              "      <td>Rubio Comments on Iran Nuclear Deal</td>\n",
              "      <td>false</td>\n",
              "    </tr>\n",
              "    <tr>\n",
              "      <th>2</th>\n",
              "      <td>d9cd4895</td>\n",
              "      <td>The hypocritical Lib Dems want to ignore the r...</td>\n",
              "      <td>Climate Alarmists Caught Manipulating Temperat...</td>\n",
              "      <td>false</td>\n",
              "    </tr>\n",
              "    <tr>\n",
              "      <th>3</th>\n",
              "      <td>4a1a9b9f</td>\n",
              "      <td>Urgent action to boost the number of children ...</td>\n",
              "      <td>Who are the arsonists setting rural fires in W...</td>\n",
              "      <td>false</td>\n",
              "    </tr>\n",
              "    <tr>\n",
              "      <th>4</th>\n",
              "      <td>6d16fa40</td>\n",
              "      <td>By Ken Allen AFSCME Council 75 represents the ...</td>\n",
              "      <td>Diabetes prescriptions now cost NHS £1bn, figu...</td>\n",
              "      <td>false</td>\n",
              "    </tr>\n",
              "  </tbody>\n",
              "</table>\n",
              "</div>\n",
              "      <button class=\"colab-df-convert\" onclick=\"convertToInteractive('df-00135362-01a3-4da3-beab-be01e9dbb9d5')\"\n",
              "              title=\"Convert this dataframe to an interactive table.\"\n",
              "              style=\"display:none;\">\n",
              "        \n",
              "  <svg xmlns=\"http://www.w3.org/2000/svg\" height=\"24px\"viewBox=\"0 0 24 24\"\n",
              "       width=\"24px\">\n",
              "    <path d=\"M0 0h24v24H0V0z\" fill=\"none\"/>\n",
              "    <path d=\"M18.56 5.44l.94 2.06.94-2.06 2.06-.94-2.06-.94-.94-2.06-.94 2.06-2.06.94zm-11 1L8.5 8.5l.94-2.06 2.06-.94-2.06-.94L8.5 2.5l-.94 2.06-2.06.94zm10 10l.94 2.06.94-2.06 2.06-.94-2.06-.94-.94-2.06-.94 2.06-2.06.94z\"/><path d=\"M17.41 7.96l-1.37-1.37c-.4-.4-.92-.59-1.43-.59-.52 0-1.04.2-1.43.59L10.3 9.45l-7.72 7.72c-.78.78-.78 2.05 0 2.83L4 21.41c.39.39.9.59 1.41.59.51 0 1.02-.2 1.41-.59l7.78-7.78 2.81-2.81c.8-.78.8-2.07 0-2.86zM5.41 20L4 18.59l7.72-7.72 1.47 1.35L5.41 20z\"/>\n",
              "  </svg>\n",
              "      </button>\n",
              "      \n",
              "  <style>\n",
              "    .colab-df-container {\n",
              "      display:flex;\n",
              "      flex-wrap:wrap;\n",
              "      gap: 12px;\n",
              "    }\n",
              "\n",
              "    .colab-df-convert {\n",
              "      background-color: #E8F0FE;\n",
              "      border: none;\n",
              "      border-radius: 50%;\n",
              "      cursor: pointer;\n",
              "      display: none;\n",
              "      fill: #1967D2;\n",
              "      height: 32px;\n",
              "      padding: 0 0 0 0;\n",
              "      width: 32px;\n",
              "    }\n",
              "\n",
              "    .colab-df-convert:hover {\n",
              "      background-color: #E2EBFA;\n",
              "      box-shadow: 0px 1px 2px rgba(60, 64, 67, 0.3), 0px 1px 3px 1px rgba(60, 64, 67, 0.15);\n",
              "      fill: #174EA6;\n",
              "    }\n",
              "\n",
              "    [theme=dark] .colab-df-convert {\n",
              "      background-color: #3B4455;\n",
              "      fill: #D2E3FC;\n",
              "    }\n",
              "\n",
              "    [theme=dark] .colab-df-convert:hover {\n",
              "      background-color: #434B5C;\n",
              "      box-shadow: 0px 1px 3px 1px rgba(0, 0, 0, 0.15);\n",
              "      filter: drop-shadow(0px 1px 2px rgba(0, 0, 0, 0.3));\n",
              "      fill: #FFFFFF;\n",
              "    }\n",
              "  </style>\n",
              "\n",
              "      <script>\n",
              "        const buttonEl =\n",
              "          document.querySelector('#df-00135362-01a3-4da3-beab-be01e9dbb9d5 button.colab-df-convert');\n",
              "        buttonEl.style.display =\n",
              "          google.colab.kernel.accessAllowed ? 'block' : 'none';\n",
              "\n",
              "        async function convertToInteractive(key) {\n",
              "          const element = document.querySelector('#df-00135362-01a3-4da3-beab-be01e9dbb9d5');\n",
              "          const dataTable =\n",
              "            await google.colab.kernel.invokeFunction('convertToInteractive',\n",
              "                                                     [key], {});\n",
              "          if (!dataTable) return;\n",
              "\n",
              "          const docLinkHtml = 'Like what you see? Visit the ' +\n",
              "            '<a target=\"_blank\" href=https://colab.research.google.com/notebooks/data_table.ipynb>data table notebook</a>'\n",
              "            + ' to learn more about interactive tables.';\n",
              "          element.innerHTML = '';\n",
              "          dataTable['output_type'] = 'display_data';\n",
              "          await google.colab.output.renderOutput(dataTable, element);\n",
              "          const docLink = document.createElement('div');\n",
              "          docLink.innerHTML = docLinkHtml;\n",
              "          element.appendChild(docLink);\n",
              "        }\n",
              "      </script>\n",
              "    </div>\n",
              "  </div>\n",
              "  "
            ]
          },
          "metadata": {},
          "execution_count": 5
        }
      ]
    },
    {
      "cell_type": "code",
      "source": [
        "# Read Test  Dataset ( will be merged with Training Dataset)\n",
        "df_test = pd.read_csv(BASE_URL+\"data/test/English_data_test_release_with_rating.csv\")\n",
        "df_test.head()"
      ],
      "metadata": {
        "colab": {
          "base_uri": "https://localhost:8080/",
          "height": 206
        },
        "id": "dSZPtGiBodEG",
        "outputId": "13d8c5bb-8131-4c80-b614-c3e43704c23f"
      },
      "execution_count": 6,
      "outputs": [
        {
          "output_type": "execute_result",
          "data": {
            "text/plain": [
              "                                        ID  \\\n",
              "0  122653045997905671927713471889615536378   \n",
              "1  275389285957305997321446227088442471741   \n",
              "2  333248764296609831067233855420575814716   \n",
              "3  264019763253447756851916399533799891538   \n",
              "4  158073737187690682830899773280916034317   \n",
              "\n",
              "                                                text  \\\n",
              "0  The deputy secretary at the US Treasury has sa...   \n",
              "1  KABUL—Approximately twelve minutes after U.S. ...   \n",
              "2  The vast majority of (oblivious) Americans hav...   \n",
              "3  (Natural News) There’s a secret layer of infor...   \n",
              "4  A recent study reported by the NCBI, which is ...   \n",
              "\n",
              "                                               title       our rating  \n",
              "0  US Treasury deputy sec warns that shortages li...  Partially false  \n",
              "1  CNN Praises Taliban For Wearing Masks During A...            Other  \n",
              "2  Tennessee Has Just LEGALIZED Government COVID ...            false  \n",
              "3  MEDICAL SHOCKER: Scientists at Sloan Kettering...            false  \n",
              "4  Study Results: Facemasks are Ineffective to Bl...            false  "
            ],
            "text/html": [
              "\n",
              "  <div id=\"df-12021515-9b6a-474e-8106-7561d66dc57c\">\n",
              "    <div class=\"colab-df-container\">\n",
              "      <div>\n",
              "<style scoped>\n",
              "    .dataframe tbody tr th:only-of-type {\n",
              "        vertical-align: middle;\n",
              "    }\n",
              "\n",
              "    .dataframe tbody tr th {\n",
              "        vertical-align: top;\n",
              "    }\n",
              "\n",
              "    .dataframe thead th {\n",
              "        text-align: right;\n",
              "    }\n",
              "</style>\n",
              "<table border=\"1\" class=\"dataframe\">\n",
              "  <thead>\n",
              "    <tr style=\"text-align: right;\">\n",
              "      <th></th>\n",
              "      <th>ID</th>\n",
              "      <th>text</th>\n",
              "      <th>title</th>\n",
              "      <th>our rating</th>\n",
              "    </tr>\n",
              "  </thead>\n",
              "  <tbody>\n",
              "    <tr>\n",
              "      <th>0</th>\n",
              "      <td>122653045997905671927713471889615536378</td>\n",
              "      <td>The deputy secretary at the US Treasury has sa...</td>\n",
              "      <td>US Treasury deputy sec warns that shortages li...</td>\n",
              "      <td>Partially false</td>\n",
              "    </tr>\n",
              "    <tr>\n",
              "      <th>1</th>\n",
              "      <td>275389285957305997321446227088442471741</td>\n",
              "      <td>KABUL—Approximately twelve minutes after U.S. ...</td>\n",
              "      <td>CNN Praises Taliban For Wearing Masks During A...</td>\n",
              "      <td>Other</td>\n",
              "    </tr>\n",
              "    <tr>\n",
              "      <th>2</th>\n",
              "      <td>333248764296609831067233855420575814716</td>\n",
              "      <td>The vast majority of (oblivious) Americans hav...</td>\n",
              "      <td>Tennessee Has Just LEGALIZED Government COVID ...</td>\n",
              "      <td>false</td>\n",
              "    </tr>\n",
              "    <tr>\n",
              "      <th>3</th>\n",
              "      <td>264019763253447756851916399533799891538</td>\n",
              "      <td>(Natural News) There’s a secret layer of infor...</td>\n",
              "      <td>MEDICAL SHOCKER: Scientists at Sloan Kettering...</td>\n",
              "      <td>false</td>\n",
              "    </tr>\n",
              "    <tr>\n",
              "      <th>4</th>\n",
              "      <td>158073737187690682830899773280916034317</td>\n",
              "      <td>A recent study reported by the NCBI, which is ...</td>\n",
              "      <td>Study Results: Facemasks are Ineffective to Bl...</td>\n",
              "      <td>false</td>\n",
              "    </tr>\n",
              "  </tbody>\n",
              "</table>\n",
              "</div>\n",
              "      <button class=\"colab-df-convert\" onclick=\"convertToInteractive('df-12021515-9b6a-474e-8106-7561d66dc57c')\"\n",
              "              title=\"Convert this dataframe to an interactive table.\"\n",
              "              style=\"display:none;\">\n",
              "        \n",
              "  <svg xmlns=\"http://www.w3.org/2000/svg\" height=\"24px\"viewBox=\"0 0 24 24\"\n",
              "       width=\"24px\">\n",
              "    <path d=\"M0 0h24v24H0V0z\" fill=\"none\"/>\n",
              "    <path d=\"M18.56 5.44l.94 2.06.94-2.06 2.06-.94-2.06-.94-.94-2.06-.94 2.06-2.06.94zm-11 1L8.5 8.5l.94-2.06 2.06-.94-2.06-.94L8.5 2.5l-.94 2.06-2.06.94zm10 10l.94 2.06.94-2.06 2.06-.94-2.06-.94-.94-2.06-.94 2.06-2.06.94z\"/><path d=\"M17.41 7.96l-1.37-1.37c-.4-.4-.92-.59-1.43-.59-.52 0-1.04.2-1.43.59L10.3 9.45l-7.72 7.72c-.78.78-.78 2.05 0 2.83L4 21.41c.39.39.9.59 1.41.59.51 0 1.02-.2 1.41-.59l7.78-7.78 2.81-2.81c.8-.78.8-2.07 0-2.86zM5.41 20L4 18.59l7.72-7.72 1.47 1.35L5.41 20z\"/>\n",
              "  </svg>\n",
              "      </button>\n",
              "      \n",
              "  <style>\n",
              "    .colab-df-container {\n",
              "      display:flex;\n",
              "      flex-wrap:wrap;\n",
              "      gap: 12px;\n",
              "    }\n",
              "\n",
              "    .colab-df-convert {\n",
              "      background-color: #E8F0FE;\n",
              "      border: none;\n",
              "      border-radius: 50%;\n",
              "      cursor: pointer;\n",
              "      display: none;\n",
              "      fill: #1967D2;\n",
              "      height: 32px;\n",
              "      padding: 0 0 0 0;\n",
              "      width: 32px;\n",
              "    }\n",
              "\n",
              "    .colab-df-convert:hover {\n",
              "      background-color: #E2EBFA;\n",
              "      box-shadow: 0px 1px 2px rgba(60, 64, 67, 0.3), 0px 1px 3px 1px rgba(60, 64, 67, 0.15);\n",
              "      fill: #174EA6;\n",
              "    }\n",
              "\n",
              "    [theme=dark] .colab-df-convert {\n",
              "      background-color: #3B4455;\n",
              "      fill: #D2E3FC;\n",
              "    }\n",
              "\n",
              "    [theme=dark] .colab-df-convert:hover {\n",
              "      background-color: #434B5C;\n",
              "      box-shadow: 0px 1px 3px 1px rgba(0, 0, 0, 0.15);\n",
              "      filter: drop-shadow(0px 1px 2px rgba(0, 0, 0, 0.3));\n",
              "      fill: #FFFFFF;\n",
              "    }\n",
              "  </style>\n",
              "\n",
              "      <script>\n",
              "        const buttonEl =\n",
              "          document.querySelector('#df-12021515-9b6a-474e-8106-7561d66dc57c button.colab-df-convert');\n",
              "        buttonEl.style.display =\n",
              "          google.colab.kernel.accessAllowed ? 'block' : 'none';\n",
              "\n",
              "        async function convertToInteractive(key) {\n",
              "          const element = document.querySelector('#df-12021515-9b6a-474e-8106-7561d66dc57c');\n",
              "          const dataTable =\n",
              "            await google.colab.kernel.invokeFunction('convertToInteractive',\n",
              "                                                     [key], {});\n",
              "          if (!dataTable) return;\n",
              "\n",
              "          const docLinkHtml = 'Like what you see? Visit the ' +\n",
              "            '<a target=\"_blank\" href=https://colab.research.google.com/notebooks/data_table.ipynb>data table notebook</a>'\n",
              "            + ' to learn more about interactive tables.';\n",
              "          element.innerHTML = '';\n",
              "          dataTable['output_type'] = 'display_data';\n",
              "          await google.colab.output.renderOutput(dataTable, element);\n",
              "          const docLink = document.createElement('div');\n",
              "          docLink.innerHTML = docLinkHtml;\n",
              "          element.appendChild(docLink);\n",
              "        }\n",
              "      </script>\n",
              "    </div>\n",
              "  </div>\n",
              "  "
            ]
          },
          "metadata": {},
          "execution_count": 6
        }
      ]
    },
    {
      "cell_type": "code",
      "source": [
        "print(f\"Training Data Shape: {df_train.shape} \\nDev Data Shape: {df_dev.shape}  \\nTest Data Shape: {df_test.shape}\")"
      ],
      "metadata": {
        "colab": {
          "base_uri": "https://localhost:8080/"
        },
        "id": "oz4S6W6NgurT",
        "outputId": "f44cfc11-9bb2-4878-8df8-e734cec36759"
      },
      "execution_count": 7,
      "outputs": [
        {
          "output_type": "stream",
          "name": "stdout",
          "text": [
            "Training Data Shape: (900, 4) \n",
            "Dev Data Shape: (364, 4)  \n",
            "Test Data Shape: (612, 4)\n"
          ]
        }
      ]
    },
    {
      "cell_type": "markdown",
      "source": [
        "## Preprocessing"
      ],
      "metadata": {
        "id": "cAlegceihafU"
      }
    },
    {
      "cell_type": "markdown",
      "source": [
        "In this section, we'll process the data to be used in the model."
      ],
      "metadata": {
        "id": "aUwPoISciPg0"
      }
    },
    {
      "cell_type": "code",
      "source": [
        "#Drop public_id column bot train and test dataset\n",
        "df_train.drop(labels='public_id', axis=1, inplace=True)\n",
        "df_dev.drop(labels='public_id', axis=1, inplace=True)\n",
        "df_test.drop(labels='ID', axis=1, inplace=True)"
      ],
      "metadata": {
        "id": "rF53dKPdotmI"
      },
      "execution_count": 8,
      "outputs": []
    },
    {
      "cell_type": "code",
      "source": [
        "#Rename target column to \"label\"\n",
        "df_train.rename(columns={\"our rating\":\"label\"}, inplace=True)\n",
        "df_dev.rename(columns={\"our rating\":\"label\"}, inplace=True)\n",
        "df_test.rename(columns={\"our rating\":\"label\"}, inplace=True)"
      ],
      "metadata": {
        "id": "gD6CXJyXo0nc"
      },
      "execution_count": 9,
      "outputs": []
    },
    {
      "cell_type": "code",
      "source": [
        "# Normalize and Map Target column data. There should be four class (0: 'False', 1:'True', 2:'Partially False',  3:'Other')\n",
        "df_train['label'] = df_train.label.map({'TRUE': 1, 'True':1, 'true':1, 'FALSE': 0, 'false':0, 'partially false': 2, 'Partially false': 2, 'other': 3, 'Other': 3})\n",
        "df_train[\"label_name\"] = df_train.label.map({0: 'False', 1:'True', 2:'Partially False',  3:'Other'})\n",
        "\n",
        "df_dev['label'] = df_dev.label.map({'TRUE': 1, 'True':1, 'true':1, 'FALSE': 0, 'false':0, 'partially false': 2, 'Partially false': 2, 'other': 3, 'Other': 3})\n",
        "df_dev[\"label_name\"] = df_dev.label.map({0: 'False', 1:'True', 2:'Partially False',  3:'Other'})\n",
        "\n",
        "df_test['label'] = df_test.label.map({'TRUE': 1, 'True':1, 'true':1, 'FALSE': 0, 'false':0, 'partially false': 2, 'Partially false': 2, 'other': 3, 'Other': 3})\n",
        "df_test[\"label_name\"] = df_test.label.map({0: 'False', 1:'True', 2:'Partially False',  3:'Other'})"
      ],
      "metadata": {
        "id": "XLyUbpLeo5zZ"
      },
      "execution_count": 10,
      "outputs": []
    },
    {
      "cell_type": "code",
      "source": [
        "#clear NaN values with space, we don't use title\n",
        "df_train['title'] = df_train['title'].replace(math.nan,' ')\n",
        "df_dev['title'] = df_train['title'].replace(math.nan,' ')\n",
        "df_test['title'] = df_test['title'].replace(math.nan,' ')"
      ],
      "metadata": {
        "id": "ner_8apuqGC_"
      },
      "execution_count": 11,
      "outputs": []
    },
    {
      "cell_type": "code",
      "source": [
        "#concatenate text and title columns\n",
        "df_train[\"title_text\"] = df_train[\"title\"] + ' ' + df_train[\"text\"]\n",
        "df_dev[\"title_text\"] = df_train[\"title\"] + ' ' + df_train[\"text\"]\n",
        "df_test[\"title_text\"] = df_test[\"title\"] + ' ' + df_test[\"text\"]"
      ],
      "metadata": {
        "id": "TrA3ZhYDrSnM"
      },
      "execution_count": 12,
      "outputs": []
    },
    {
      "cell_type": "code",
      "source": [
        "# Merge Training and Dev data to create single Training data\n",
        "df = pd.concat([df_train, df_dev]).reset_index(drop = True)"
      ],
      "metadata": {
        "id": "iVqvVQ5oo-nF"
      },
      "execution_count": 13,
      "outputs": []
    },
    {
      "cell_type": "code",
      "source": [
        "#Drop not required data from dataset\n",
        "df.drop(labels='text', axis=1, inplace=True)\n",
        "df.drop(labels='title', axis=1, inplace=True)"
      ],
      "metadata": {
        "id": "GdfxyQxSCY_v"
      },
      "execution_count": 14,
      "outputs": []
    },
    {
      "cell_type": "code",
      "source": [
        "#Drop not required data from dataset\n",
        "df_test.drop(labels='text', axis=1, inplace=True)\n",
        "df_test.drop(labels='title', axis=1, inplace=True)"
      ],
      "metadata": {
        "id": "DNZ0AeI_weeu"
      },
      "execution_count": 15,
      "outputs": []
    },
    {
      "cell_type": "code",
      "source": [
        "#Save dataset to drive\n",
        "def save_to_drive(df, path):\n",
        "  from google.colab import files  \n",
        "\n",
        "  with open(path, 'w') as f:\n",
        "    df.to_csv(f)"
      ],
      "metadata": {
        "id": "qHDCUMazsAAy"
      },
      "execution_count": 16,
      "outputs": []
    },
    {
      "cell_type": "code",
      "source": [
        "# downloading NLTK package data\n",
        "nltk.download('stopwords')\n",
        "stopwords = nltk.corpus.stopwords.words('english')\n",
        "nltk.download('wordnet')\n",
        "nltk.download('omw-1.4')\n",
        "nltk.download('punkt')\n",
        "nltk.download('averaged_perceptron_tagger')\n",
        "\n",
        "#Lemmatizer \n",
        "wordnet_lemmatizer = WordNetLemmatizer()\n",
        "\n",
        "punctuations =  [chr(i) for i in range(sys.maxunicode) if category(chr(i)).startswith(\"P\")]\n",
        "\n",
        "\n",
        "def get_wordnet_pos(word):\n",
        "    \"\"\"Map POS tag to first character lemmatize() accepts\"\"\"\n",
        "    tag = nltk.pos_tag([word])[0][1][0].upper()\n",
        "    tag_dict = {\"J\": wordnet.ADJ,\n",
        "                \"N\": wordnet.NOUN,\n",
        "                \"V\": wordnet.VERB,\n",
        "                \"R\": wordnet.ADV}\n",
        "\n",
        "    return tag_dict.get(tag, wordnet.NOUN)\n",
        "\n",
        "\n",
        "def tokenizer(text):\n",
        "    return word_tokenize(text)\n",
        "    ##return word_tokenize(text)[:500]\n",
        "\n",
        "\n",
        "def remove_punctuation(tokens):\n",
        "    no_punctiation = [token for token in tokens if token not in punctuations]\n",
        "    return no_punctiation\n",
        "\n",
        "\n",
        "def remove_stopwords(tokens):\n",
        "    no_stopwords= [token for token in tokens if token not in stopwords]\n",
        "    return no_stopwords\n",
        "\n",
        "\n",
        "def lemmatizer(tokens): \n",
        "  lemmatized = [wordnet_lemmatizer.lemmatize(token, get_wordnet_pos(token)) for token in tokens]\n",
        "  return lemmatized\n",
        "\n",
        "\n",
        "def tokens_to_text(tokens):\n",
        "    text = \"\".join([token+\" \" for token in tokens])[:-1]\n",
        "    return text\n",
        "\n",
        "\n",
        "# Cleaning articles( lowercasing, replacing URL, EMAIL, PHONE Numbers, DIGIT, CURRENCY with special code in order not to lose information)\n",
        "# Used clean-text package \n",
        "def general_cleaning(text):\n",
        "    return clean(text,\n",
        "    fix_unicode=True,               # fix various unicode errors\n",
        "    to_ascii=True,                  # transliterate to closest ASCII representation\n",
        "    lower=True,                     # lowercase text\n",
        "    no_line_breaks=True,           # fully strip line breaks as opposed to only normalizing them\n",
        "    no_urls=True,                  # replace all URLs with a special token\n",
        "    no_emails=True,                # replace all email addresses with a special token\n",
        "    no_phone_numbers=True,         # replace all phone numbers with a special token\n",
        "    no_numbers=True,               # replace all numbers with a special token\n",
        "    no_digits=True,                # replace all digits with a special token\n",
        "    no_currency_symbols=True,      # replace all currency symbols with a special token\n",
        "    no_punct=True,                 # remove punctuations\n",
        "    replace_with_punct=\"\",          # instead of removing punctuations you may replace them\n",
        "    replace_with_url=\"URL\",\n",
        "    replace_with_email=\"EMAIL\",\n",
        "    replace_with_phone_number=\"PHONE\",\n",
        "    replace_with_number=\"NUMBER\",\n",
        "    replace_with_digit=\"\",\n",
        "    replace_with_currency_symbol=\"CURRENCY\",\n",
        "    lang=\"en\"                 \n",
        ")"
      ],
      "metadata": {
        "id": "aCPS3UKOAvQh",
        "colab": {
          "base_uri": "https://localhost:8080/"
        },
        "outputId": "aaed33c6-abbe-4d5c-8be4-d8dd7b1c290a"
      },
      "execution_count": 17,
      "outputs": [
        {
          "output_type": "stream",
          "name": "stderr",
          "text": [
            "[nltk_data] Downloading package stopwords to /root/nltk_data...\n",
            "[nltk_data]   Unzipping corpora/stopwords.zip.\n",
            "[nltk_data] Downloading package wordnet to /root/nltk_data...\n",
            "[nltk_data] Downloading package omw-1.4 to /root/nltk_data...\n",
            "[nltk_data] Downloading package punkt to /root/nltk_data...\n",
            "[nltk_data]   Unzipping tokenizers/punkt.zip.\n",
            "[nltk_data] Downloading package averaged_perceptron_tagger to\n",
            "[nltk_data]     /root/nltk_data...\n",
            "[nltk_data]   Unzipping taggers/averaged_perceptron_tagger.zip.\n"
          ]
        }
      ]
    },
    {
      "cell_type": "markdown",
      "source": [
        " Preprocess dataset"
      ],
      "metadata": {
        "id": "97rabXCQknI0"
      }
    },
    {
      "cell_type": "code",
      "source": [
        "%%time\n",
        "from tqdm.notebook import tqdm_notebook\n",
        "tqdm_notebook.pandas()\n",
        "\n",
        "def text_processing(df_temp, column_name):\n",
        "  df_temp[column_name] = df_temp[column_name].progress_apply(lambda x:general_cleaning(x))\n",
        "  print(\"General cleaning with clean-text library.\")\n",
        "  df_temp[column_name] = df_temp[column_name].apply(lambda x:tokenizer(x))\n",
        "  print(\"Tokenized is finished.\")\n",
        "  df_temp[column_name]= df_temp[column_name].apply(lambda x:remove_stopwords(x))\n",
        "  print(\"Stop-words has been removed.\")\n",
        "  df_temp[column_name]= df_temp[column_name].apply(lambda x:lemmatizer(x))\n",
        "  print(\"Tokens have been lemmatized.\")\n",
        "  df_temp[column_name]= df_temp[column_name].apply(lambda x:tokens_to_text(x))\n",
        "  print(\"Tokens have been convert to text.\")\n",
        "  return df_temp"
      ],
      "metadata": {
        "colab": {
          "base_uri": "https://localhost:8080/"
        },
        "id": "TzSs-tAZxp_I",
        "outputId": "5b198028-8d23-4038-9a51-23a441ccc51b"
      },
      "execution_count": 18,
      "outputs": [
        {
          "output_type": "stream",
          "name": "stdout",
          "text": [
            "CPU times: user 19.5 ms, sys: 0 ns, total: 19.5 ms\n",
            "Wall time: 23.4 ms\n"
          ]
        }
      ]
    },
    {
      "cell_type": "code",
      "source": [
        "#Save orginal dataset\n",
        "training_path = BASE_URL + 'data/processed/fakenews_training.csv'\n",
        "test_path = BASE_URL + 'data/processed/fakenews_test.csv'\n",
        "\n",
        "save_to_drive(df, training_path)\n",
        "save_to_drive(df_test, test_path)"
      ],
      "metadata": {
        "id": "mxwPdmvKSDQU"
      },
      "execution_count": 19,
      "outputs": []
    },
    {
      "cell_type": "code",
      "source": [
        "#Save preprocessed tokenized dataset\n",
        "training_path = BASE_URL + 'data/processed/fakenews_training_processed.csv'\n",
        "test_path = BASE_URL + 'data/processed/fakenews_test_processed.csv'\n",
        "\n",
        "df = text_processing(df, \"title_text\")\n",
        "save_to_drive(df, training_path)\n",
        "\n",
        "df_test = text_processing(df_test, \"title_text\")\n",
        "save_to_drive(df_test, test_path)"
      ],
      "metadata": {
        "id": "WK4r75_4BNct",
        "colab": {
          "base_uri": "https://localhost:8080/",
          "height": 266,
          "referenced_widgets": [
            "6ceb2f765a614afe96fc0d6abff43961",
            "821d56929c1049699507a9181eaa7983",
            "06540969c8434cd4a1be2bb2dbcd244c",
            "91483e8a95b84f8796e3b850e79f1851",
            "bf087e5d1fbd48be8c23b224b22fd4a6",
            "178fbcbd3d5e452793870218d98355cb",
            "508c502ca9f54820a200a85d94b70096",
            "a89f13333694428fadece64b5f02489b",
            "f9377caccee945829991c2e8d185ab1a",
            "50cf5e7d272a43189548bcbdd716ad51",
            "bbc1614338c6485e99d9f49689c1519c",
            "aac4192feead4662a04c4784f428cade",
            "beb9f0b1914046419db25a7567c6cd09",
            "3903d76d76aa4fad991f5983c6c5f379",
            "fb09486affbd4fa8a014f0afbec150cc",
            "93ad05f3d6cc42ae90d5c1b12fbe5cf7",
            "facfc3e65a5c4298bf61baa86128e395",
            "018380ea2b8e415492db2f5ba5f311d9",
            "a83f201b24004983a492e52ef0522272",
            "8edaa0a172714757a42fb890a39251a3",
            "75158f2e7ac4463b9cf3461386200d92",
            "a925e214b9204e1194530e6dded14854"
          ]
        },
        "outputId": "b55caf57-10bd-4f2c-ac35-f215f22b3b3b"
      },
      "execution_count": 20,
      "outputs": [
        {
          "output_type": "display_data",
          "data": {
            "text/plain": [
              "  0%|          | 0/1264 [00:00<?, ?it/s]"
            ],
            "application/vnd.jupyter.widget-view+json": {
              "version_major": 2,
              "version_minor": 0,
              "model_id": "6ceb2f765a614afe96fc0d6abff43961"
            }
          },
          "metadata": {}
        },
        {
          "output_type": "stream",
          "name": "stdout",
          "text": [
            "General cleaning with clean-text library.\n",
            "Tokenized is finished.\n",
            "Stop-words has been removed.\n",
            "Tokens have been lemmatized.\n",
            "Tokens have been convert to text.\n"
          ]
        },
        {
          "output_type": "display_data",
          "data": {
            "text/plain": [
              "  0%|          | 0/612 [00:00<?, ?it/s]"
            ],
            "application/vnd.jupyter.widget-view+json": {
              "version_major": 2,
              "version_minor": 0,
              "model_id": "aac4192feead4662a04c4784f428cade"
            }
          },
          "metadata": {}
        },
        {
          "output_type": "stream",
          "name": "stdout",
          "text": [
            "General cleaning with clean-text library.\n",
            "Tokenized is finished.\n",
            "Stop-words has been removed.\n",
            "Tokens have been lemmatized.\n",
            "Tokens have been convert to text.\n"
          ]
        }
      ]
    },
    {
      "cell_type": "code",
      "source": [
        "#preprocessed dataset\n",
        "df.title_text[0]"
      ],
      "metadata": {
        "colab": {
          "base_uri": "https://localhost:8080/",
          "height": 110
        },
        "id": "W_HwEgijIH75",
        "outputId": "4109ed24-83f0-438c-dd91-6b1afac551f1"
      },
      "execution_count": 21,
      "outputs": [
        {
          "output_type": "execute_result",
          "data": {
            "text/plain": [
              "'fin currency passenger use mobile phone start next week distract drive cause death canada impaired drive every province territory law drive operating cell phone tell passenger stay phone drive measure necessary distract drive claimed life impaired drive province like british columbia ontario quebec alberta nova scotia manitoba newfoundland labrador mobile phone even held passenger dangerous distraction driver start next week distract screen held passenger attracts penalty currency three demerit point driver screen mix doesnt matter hold device use facetime take selfies driver show driver funny cat video nono province mobile phone categorise visual display unit meaning consider akin television screen important practice safe drive sake fellow driver canada crack distract drive problem rollout stricter law impose harsher penalty heftier fine guilty offender take effect next week add serious penalty convict distract drive'"
            ],
            "application/vnd.google.colaboratory.intrinsic+json": {
              "type": "string"
            }
          },
          "metadata": {},
          "execution_count": 21
        }
      ]
    },
    {
      "cell_type": "code",
      "source": [
        "df_train.title_text[0]"
      ],
      "metadata": {
        "colab": {
          "base_uri": "https://localhost:8080/",
          "height": 110
        },
        "id": "9owZ0TlUl6Px",
        "outputId": "1c1e4fe2-f764-44f2-d4c2-5e1cc374b7bd"
      },
      "execution_count": 22,
      "outputs": [
        {
          "output_type": "execute_result",
          "data": {
            "text/plain": [
              "'You Can Be Fined $1,500 If Your Passenger Is Using A Mobile Phone, Starting Next Week Distracted driving causes more deaths in Canada than impaired driving .It’s why every province and territory has laws against driving while operating a cell phone. “Tell your passengers to stay off their phones while you are driving. Such measures are more than necessary now, as distracted driving has claimed more lives than impaired driving in provinces like British Columbia, Ontario, Quebec, Alberta, Nova Scotia, Manitoba, Newfoundland and Labrador. “Mobile phones, even when held by a passenger, can be a dangerous distraction for the driver. Starting next week being distracted by a screen held by a passenger attracts a penalty of $1,500 and three demerit points. “Drivers and screens do not mix – it doesn’t matter who is holding the device. Using FaceTime, taking selfies with the driver or showing the driver a funny cat video is a no-no.” In most provinces a mobile phone is categorised as a “visual display unit”, meaning it is considered akin to a television screen. It’s important to practice safe driving for your own sake and that of your fellow drivers. Canada is cracking down on its distracted driving problem with the rollout of stricter laws that impose harsher penalties and heftier fines on guilty offenders. It’s taking effect as of next week , and it adds serious penalties to those convicted of distracted driving.'"
            ],
            "application/vnd.google.colaboratory.intrinsic+json": {
              "type": "string"
            }
          },
          "metadata": {},
          "execution_count": 22
        }
      ]
    },
    {
      "cell_type": "markdown",
      "source": [
        "## Feature Extraction"
      ],
      "metadata": {
        "id": "pCYEY5QTpCAx"
      }
    },
    {
      "cell_type": "code",
      "source": [
        "# The Total unique Words In The Dataset\n",
        "list_of_words = []\n",
        "for doc in df.title_text:\n",
        "  tokens = nltk.word_tokenize(doc)\n",
        "  for j in tokens:\n",
        "    list_of_words.append(j)\n",
        "\n",
        "# Obtaining The Total Number Of Unique Words\n",
        "total_words = len(list(set(list_of_words)))\n",
        "total_words"
      ],
      "metadata": {
        "colab": {
          "base_uri": "https://localhost:8080/"
        },
        "id": "P3V7f9XVJsXJ",
        "outputId": "f47f4fa3-b169-45f2-ca28-997d398534f2"
      },
      "execution_count": 23,
      "outputs": [
        {
          "output_type": "execute_result",
          "data": {
            "text/plain": [
              "24293"
            ]
          },
          "metadata": {},
          "execution_count": 23
        }
      ]
    },
    {
      "cell_type": "code",
      "source": [
        "maxlen = -1\n",
        "for doc in df.title_text:\n",
        "    tokens = nltk.word_tokenize(doc)\n",
        "    if(maxlen<len(tokens)):\n",
        "        maxlen = len(tokens)\n",
        "print(\"The maximum number of words in any document is =\", maxlen)"
      ],
      "metadata": {
        "colab": {
          "base_uri": "https://localhost:8080/"
        },
        "id": "nqFOS7pRI8ku",
        "outputId": "ca05e60e-1e93-4a53-9198-2ef1798f083f"
      },
      "execution_count": 24,
      "outputs": [
        {
          "output_type": "stream",
          "name": "stdout",
          "text": [
            "The maximum number of words in any document is = 3614\n"
          ]
        }
      ]
    },
    {
      "cell_type": "code",
      "source": [
        "df['word_count'] = df['title_text'].apply(lambda x: len(str(x).split()))\n",
        "plt.figure(figsize=(5,4))\n",
        "sns.histplot(data=df, x='word_count')\n",
        "plt.title('Word Count of Articles in Train Data after data cleaning')\n",
        "plt.xlabel('Word Count')\n",
        "plt.ylabel('Article Count')\n",
        "plt.show()"
      ],
      "metadata": {
        "id": "9_nEI5Vi3MNx",
        "colab": {
          "base_uri": "https://localhost:8080/",
          "height": 410
        },
        "outputId": "a7faa86f-2c30-44d3-f435-35a412b4daba"
      },
      "execution_count": 25,
      "outputs": [
        {
          "output_type": "display_data",
          "data": {
            "text/plain": [
              "<Figure size 500x400 with 1 Axes>"
            ],
            "image/png": "[encoded data removed]"
          },
          "metadata": {}
        }
      ]
    },
    {
      "cell_type": "code",
      "source": [
        "train_articles = (sum(df['word_count'] < 1250)/df.shape[0])*100\n",
        "print('Percentage of Training Articles having less than 1250 Words:{:.2f}%'.format(train_articles))"
      ],
      "metadata": {
        "colab": {
          "base_uri": "https://localhost:8080/"
        },
        "id": "qPqzEitg3Y7E",
        "outputId": "c2c0827f-71cf-4c91-cae9-b10387826224"
      },
      "execution_count": 26,
      "outputs": [
        {
          "output_type": "stream",
          "name": "stdout",
          "text": [
            "Percentage of Training Articles having less than 1250 Words:95.97%\n"
          ]
        }
      ]
    },
    {
      "cell_type": "code",
      "source": [
        "#Split dataset\n",
        "x_train,x_test,y_train,y_test = df.title_text, df_test.title_text, df.label, df_test.label"
      ],
      "metadata": {
        "id": "gtUKs399IASV"
      },
      "execution_count": 27,
      "outputs": []
    },
    {
      "cell_type": "code",
      "source": [
        "# Creating A Tokenizer To Tokenize The Words And Create Sequences Of Tokenized Words\n",
        "tokenizer = Tokenizer(num_words = total_words)\n",
        "tokenizer.fit_on_texts(x_train)\n",
        "\n",
        "train_sequences = tokenizer.texts_to_sequences(x_train)\n",
        "test_sequences = tokenizer.texts_to_sequences(x_test)\n",
        "\n",
        "vocab_size = len(tokenizer.word_index) + 1  \n",
        "print(\"Vocabulary Size:\",vocab_size)"
      ],
      "metadata": {
        "colab": {
          "base_uri": "https://localhost:8080/"
        },
        "id": "PFy3SLryJWoT",
        "outputId": "ea73f3f1-1756-4fe3-d375-4922406975b0"
      },
      "execution_count": 28,
      "outputs": [
        {
          "output_type": "stream",
          "name": "stdout",
          "text": [
            "Vocabulary Size: 24269\n"
          ]
        }
      ]
    },
    {
      "cell_type": "code",
      "source": [
        "maxlen=1250\n",
        "# Adding Padding\n",
        "padded_train = pad_sequences(train_sequences ,maxlen = maxlen, padding = 'post')\n",
        "padded_test = pad_sequences(test_sequences,   maxlen = maxlen, padding = 'post') "
      ],
      "metadata": {
        "id": "Eae8E2dlKqvU"
      },
      "execution_count": 29,
      "outputs": []
    },
    {
      "cell_type": "code",
      "source": [
        "# 1264 articke, 1250 token (we cut # of the token to 1250)\n",
        "print(padded_train.shape)"
      ],
      "metadata": {
        "id": "aZXQEpt9XNVM",
        "colab": {
          "base_uri": "https://localhost:8080/"
        },
        "outputId": "833524ae-bf29-46fe-d7a8-bf7be729a372"
      },
      "execution_count": 30,
      "outputs": [
        {
          "output_type": "stream",
          "name": "stdout",
          "text": [
            "(1264, 1250)\n"
          ]
        }
      ]
    },
    {
      "cell_type": "code",
      "source": [
        "#Turn Labels in to categorical \n",
        "encoder = LabelEncoder()\n",
        "encoder.fit(y_train)\n",
        "train_y = encoder.transform(y_train)\n",
        "test_y = encoder.transform(y_test)\n",
        "\n",
        "num_classes = np.max(train_y) + 1\n",
        "train_y = utils.to_categorical(train_y, num_classes)\n",
        "test_y = utils.to_categorical(test_y, num_classes)"
      ],
      "metadata": {
        "id": "af55QT_bOV24"
      },
      "execution_count": 31,
      "outputs": []
    },
    {
      "cell_type": "code",
      "source": [
        "train_y"
      ],
      "metadata": {
        "colab": {
          "base_uri": "https://localhost:8080/"
        },
        "id": "jvNVEjtOsrO-",
        "outputId": "d244c6f4-59ac-454b-bd21-d223e78f44e6"
      },
      "execution_count": 32,
      "outputs": [
        {
          "output_type": "execute_result",
          "data": {
            "text/plain": [
              "array([[1., 0., 0., 0.],\n",
              "       [0., 0., 1., 0.],\n",
              "       [0., 0., 1., 0.],\n",
              "       ...,\n",
              "       [1., 0., 0., 0.],\n",
              "       [0., 1., 0., 0.],\n",
              "       [0., 1., 0., 0.]], dtype=float32)"
            ]
          },
          "metadata": {},
          "execution_count": 32
        }
      ]
    },
    {
      "cell_type": "markdown",
      "source": [
        "## Utility Functions\n",
        "\n",
        "Some utiltiy functions such as \n",
        "- learning curve finder\n",
        "- plot the learning curve\n",
        "- print confusion matrix,"
      ],
      "metadata": {
        "id": "b1L6X8ULrbXJ"
      }
    },
    {
      "cell_type": "code",
      "source": [
        "import pandas as pd\n",
        "import numpy as np\n",
        "import matplotlib.pyplot as plt\n",
        "import os\n",
        "import itertools\n",
        "from PIL import Image\n",
        "import sklearn as sklearn\n",
        "from sklearn.metrics import confusion_matrix\n",
        "from keras.callbacks import Callback, EarlyStopping, ReduceLROnPlateau, ModelCheckpoint\n",
        "from sklearn import model_selection\n",
        "from sklearn.model_selection import train_test_split, learning_curve\n",
        "from sklearn.linear_model import LogisticRegression\n",
        "from sklearn.tree import DecisionTreeClassifier\n",
        "from sklearn.neighbors import KNeighborsClassifier\n",
        "from sklearn.naive_bayes import GaussianNB\n",
        "from sklearn.svm import SVC, LinearSVC\n",
        "from sklearn.ensemble import RandomForestClassifier, GradientBoostingClassifier\n",
        "from sklearn.neural_network import MLPClassifier as MLPC\n",
        "from sklearn import model_selection\n",
        "import tensorflow as tf\n",
        "import keras\n",
        "from keras import backend as K\n",
        "from keras.models import Sequential\n",
        "from keras.layers import Dense, Dropout, Activation, Flatten, Conv2D, MaxPooling2D\n",
        "from keras import initializers, layers, models\n",
        "from keras.utils import to_categorical\n",
        "from keras.preprocessing.image import ImageDataGenerator\n",
        "from keras import callbacks\n",
        "from keras.utils.vis_utils import plot_model\n",
        "\n",
        "\n",
        "def plot_graphs(history, string):\n",
        "    plt.plot(history.history[string])\n",
        "    plt.plot(history.history['val_'+string])\n",
        "    plt.xlabel(\"Epochs\")\n",
        "    plt.ylabel(string)\n",
        "    plt.legend([string, 'val_'+string])\n",
        "    plt.show()\n",
        "\n",
        "\n",
        "# Extracted from https://www.kaggle.com/danbrice/keras-plot-history-full-report-and-grid-search\n",
        "import matplotlib.pyplot as plt\n",
        "def plot_history(history):\n",
        "    loss_list = [s for s in history.history.keys() if 'loss' in s and 'val' not in s]\n",
        "    val_loss_list = [s for s in history.history.keys() if 'loss' in s and 'val' in s]\n",
        "    acc_list = [s for s in history.history.keys() if 'acc' in s and 'val' not in s]\n",
        "    val_acc_list = [s for s in history.history.keys() if 'acc' in s and 'val' in s]\n",
        "    \n",
        "    if len(loss_list) == 0:\n",
        "        print('Loss is missing in history')\n",
        "        return \n",
        "    \n",
        "    ## As loss always exists\n",
        "    epochs = range(1,len(history.history[loss_list[0]]) + 1)\n",
        "    \n",
        "    ## Loss\n",
        "    plt.figure(1)\n",
        "    for l in loss_list:\n",
        "        plt.plot(epochs, history.history[l], 'b', label='Training loss (' + str(str(format(history.history[l][-1],'.5f'))+')'))\n",
        "    for l in val_loss_list:\n",
        "        plt.plot(epochs, history.history[l], 'g', label='Validation loss (' + str(str(format(history.history[l][-1],'.5f'))+')'))\n",
        "    \n",
        "    plt.title('Loss')\n",
        "    plt.xlabel('Epochs')\n",
        "    plt.ylabel('Loss')\n",
        "    plt.legend()\n",
        "    \n",
        "    ## Accuracy\n",
        "    plt.figure(2)\n",
        "    for l in acc_list:\n",
        "        plt.plot(epochs, history.history[l], 'b', label='Training accuracy (' + str(format(history.history[l][-1],'.5f'))+')')\n",
        "    for l in val_acc_list:    \n",
        "        plt.plot(epochs, history.history[l], 'g', label='Validation accuracy (' + str(format(history.history[l][-1],'.5f'))+')')\n",
        "\n",
        "    plt.title('Accuracy')\n",
        "    plt.xlabel('Epochs')\n",
        "    plt.ylabel('Accuracy')\n",
        "    plt.legend()\n",
        "    plt.show()\n",
        "  \n",
        "\n",
        "class MetricsCheckpoint(Callback):\n",
        "    \"\"\"Callback that saves metrics after each epoch\"\"\"\n",
        "    def __init__(self, savepath):\n",
        "        super(MetricsCheckpoint, self).__init__()\n",
        "        self.savepath = savepath\n",
        "        self.history = {}\n",
        "    def on_epoch_end(self, epoch, logs=None):\n",
        "        for k, v in logs.items():\n",
        "            self.history.setdefault(k, []).append(v)\n",
        "        np.save(self.savepath, self.history)\n",
        "\n",
        "\n",
        "def plotKerasLearningCurve():\n",
        "    plt.figure(figsize=(10,5))\n",
        "    metrics = np.load('logs.npy')[()]\n",
        "    filt = ['acc'] # try to add 'loss' to see the loss learning curve\n",
        "    for k in filter(lambda x : np.any([kk in x for kk in filt]), metrics.keys()):\n",
        "        l = np.array(metrics[k])\n",
        "        plt.plot(l, c= 'r' if 'val' not in k else 'b', label='val' if 'val' in k else 'train')\n",
        "        x = np.argmin(l) if 'loss' in k else np.argmax(l)\n",
        "        y = l[x]\n",
        "        plt.scatter(x,y, lw=0, alpha=0.25, s=100, c='r' if 'val' not in k else 'b')\n",
        "        plt.text(x, y, '{} = {:.4f}'.format(x,y), size='15', color= 'r' if 'val' not in k else 'b')   \n",
        "    plt.legend(loc=4)\n",
        "    plt.axis([0, None, None, None]);\n",
        "    plt.grid()\n",
        "    plt.xlabel('Number of epochs')\n",
        "\n",
        "\n",
        "def plot_confusion_matrix(cm, classes,\n",
        "                          normalize=False,\n",
        "                          title='Confusion matrix',\n",
        "                          cmap=plt.cm.Blues):\n",
        "    \"\"\"\n",
        "    This function prints and plots the confusion matrix.\n",
        "    Normalization can be applied by setting `normalize=True`.\n",
        "    \"\"\"\n",
        "    plt.figure(figsize = (5,5))\n",
        "    plt.imshow(cm, interpolation='nearest', cmap=cmap)\n",
        "    plt.title(title)\n",
        "    plt.colorbar()\n",
        "    tick_marks = np.arange(len(classes))\n",
        "    plt.xticks(tick_marks, classes, rotation=90)\n",
        "    plt.yticks(tick_marks, classes)\n",
        "    if normalize:\n",
        "        cm = cm.astype('float') / cm.sum(axis=1)[:, np.newaxis]\n",
        "\n",
        "    thresh = cm.max() / 2.\n",
        "    for i, j in itertools.product(range(cm.shape[0]), range(cm.shape[1])):\n",
        "        plt.text(j, i, cm[i, j],\n",
        "                 horizontalalignment=\"center\",\n",
        "                 color=\"white\" if cm[i, j] > thresh else \"black\")\n",
        "    plt.tight_layout()\n",
        "    plt.ylabel('True label')\n",
        "    plt.xlabel('Predicted label')\n",
        "\n",
        "dict_characters = {0: '0', 1: '1', 2: '2', \n",
        "        3: '3', 4: '4', 5: '5', 6: '6', 7:'7',\n",
        "        8: '8', 9: '9'}\n",
        "\n",
        "from matplotlib import pyplot as plt\n",
        "import math\n",
        "from keras.callbacks import LambdaCallback\n",
        "import keras.backend as K\n",
        "\n",
        "\n",
        "class LRFinder:\n",
        "    \"\"\"\n",
        "    Plots the change of the loss function of a Keras model when the learning rate is exponentially increasing.\n",
        "    See for details:\n",
        "    https://towardsdatascience.com/estimating-optimal-learning-rate-for-a-deep-neural-network-ce32f2556ce0\n",
        "    \"\"\"\n",
        "    def __init__(self, model):\n",
        "        self.model = model\n",
        "        self.losses = []\n",
        "        self.lrs = []\n",
        "        self.best_loss = 1e9\n",
        "\n",
        "    def on_batch_end(self, batch, logs):\n",
        "        # Log the learning rate\n",
        "        lr = K.get_value(self.model.optimizer.lr)\n",
        "        self.lrs.append(lr)\n",
        "\n",
        "        # Log the loss\n",
        "        loss = logs['loss']\n",
        "        self.losses.append(loss)\n",
        "\n",
        "        # Check whether the loss got too large or NaN\n",
        "        if math.isnan(loss) or loss > self.best_loss * 4:\n",
        "            self.model.stop_training = True\n",
        "            return\n",
        "\n",
        "        if loss < self.best_loss:\n",
        "            self.best_loss = loss\n",
        "\n",
        "        # Increase the learning rate for the next batch\n",
        "        lr *= self.lr_mult\n",
        "        K.set_value(self.model.optimizer.lr, lr)\n",
        "\n",
        "    def find(self, x_train, y_train, start_lr, end_lr, batch_size=64, epochs=1):\n",
        "        num_batches = epochs * x_train.shape[0] / batch_size\n",
        "        self.lr_mult = (end_lr / start_lr) ** (1 / num_batches)\n",
        "\n",
        "        # Save weights into a file\n",
        "        self.model.save_weights('tmp.h5')\n",
        "\n",
        "        # Remember the original learning rate\n",
        "        original_lr = K.get_value(self.model.optimizer.lr)\n",
        "\n",
        "        # Set the initial learning rate\n",
        "        K.set_value(self.model.optimizer.lr, start_lr)\n",
        "\n",
        "        callback = LambdaCallback(on_batch_end=lambda batch, logs: self.on_batch_end(batch, logs))\n",
        "\n",
        "        self.model.fit(x_train, y_train,\n",
        "                        batch_size=batch_size, epochs=epochs,\n",
        "                        callbacks=[callback])\n",
        "\n",
        "        # Restore the weights to the state before model fitting\n",
        "        self.model.load_weights('tmp.h5')\n",
        "\n",
        "        # Restore the original learning rate\n",
        "        K.set_value(self.model.optimizer.lr, original_lr)\n",
        "\n",
        "    def plot_loss(self, n_skip_beginning=10, n_skip_end=5):\n",
        "        \"\"\"\n",
        "        Plots the loss.\n",
        "        Parameters:\n",
        "            n_skip_beginning - number of batches to skip on the left.\n",
        "            n_skip_end - number of batches to skip on the right.\n",
        "        \"\"\"\n",
        "        plt.ylabel(\"loss\")\n",
        "        plt.xlabel(\"learning rate (log scale)\")\n",
        "        plt.plot(self.lrs[n_skip_beginning:-n_skip_end], self.losses[n_skip_beginning:-n_skip_end])\n",
        "        plt.xscale('log')\n",
        "\n",
        "    def plot_loss_change(self, sma=1, n_skip_beginning=10, n_skip_end=5, y_lim=(-0.01, 0.01)):\n",
        "        \"\"\"\n",
        "        Plots rate of change of the loss function.\n",
        "        Parameters:\n",
        "            sma - number of batches for simple moving average to smooth out the curve.\n",
        "            n_skip_beginning - number of batches to skip on the left.\n",
        "            n_skip_end - number of batches to skip on the right.\n",
        "            y_lim - limits for the y axis.\n",
        "        \"\"\"\n",
        "        assert sma >= 1\n",
        "        derivatives = [0] * sma\n",
        "        for i in range(sma, len(self.lrs)):\n",
        "            derivative = (self.losses[i] - self.losses[i - sma]) / sma\n",
        "            derivatives.append(derivative)\n",
        "\n",
        "        plt.ylabel(\"rate of loss change\")\n",
        "        plt.xlabel(\"learning rate (log scale)\")\n",
        "        plt.plot(self.lrs[n_skip_beginning:-n_skip_end], derivatives[n_skip_beginning:-n_skip_end])\n",
        "        plt.xscale('log')\n",
        "        plt.ylim(y_lim)"
      ],
      "metadata": {
        "id": "Ll1h7mWpOfrC"
      },
      "execution_count": 44,
      "outputs": []
    },
    {
      "cell_type": "code",
      "source": [
        "import numpy as np\n",
        "import matplotlib.pyplot as plt\n",
        "import seaborn as sns\n",
        "\n",
        "def make_confusion_matrix(cf,\n",
        "                          group_names=None,\n",
        "                          categories='auto',\n",
        "                          count=True,\n",
        "                          percent=True,\n",
        "                          cbar=True,\n",
        "                          xyticks=True,\n",
        "                          xyplotlabels=True,\n",
        "                          sum_stats=True,\n",
        "                          figsize=None,\n",
        "                          cmap='Blues',\n",
        "                          title=None):\n",
        "    '''\n",
        "    This function will make a pretty plot of an sklearn Confusion Matrix cm using a Seaborn heatmap visualization.\n",
        "\n",
        "    Arguments\n",
        "    ---------\n",
        "    cf:            confusion matrix to be passed in\n",
        "\n",
        "    group_names:   List of strings that represent the labels row by row to be shown in each square.\n",
        "\n",
        "    categories:    List of strings containing the categories to be displayed on the x,y axis. Default is 'auto'\n",
        "\n",
        "    count:         If True, show the raw number in the confusion matrix. Default is True.\n",
        "\n",
        "    normalize:     If True, show the proportions for each category. Default is True.\n",
        "\n",
        "    cbar:          If True, show the color bar. The cbar values are based off the values in the confusion matrix.\n",
        "                   Default is True.\n",
        "\n",
        "    xyticks:       If True, show x and y ticks. Default is True.\n",
        "\n",
        "    xyplotlabels:  If True, show 'True Label' and 'Predicted Label' on the figure. Default is True.\n",
        "\n",
        "    sum_stats:     If True, display summary statistics below the figure. Default is True.\n",
        "\n",
        "    figsize:       Tuple representing the figure size. Default will be the matplotlib rcParams value.\n",
        "\n",
        "    cmap:          Colormap of the values displayed from matplotlib.pyplot.cm. Default is 'Blues'\n",
        "                   See http://matplotlib.org/examples/color/colormaps_reference.html\n",
        "                   \n",
        "    title:         Title for the heatmap. Default is None.\n",
        "\n",
        "    '''\n",
        "\n",
        "\n",
        "    # CODE TO GENERATE TEXT INSIDE EACH SQUARE\n",
        "    blanks = ['' for i in range(cf.size)]\n",
        "\n",
        "    if group_names and len(group_names)==cf.size:\n",
        "        group_labels = [\"{}\\n\".format(value) for value in group_names]\n",
        "    else:\n",
        "        group_labels = blanks\n",
        "\n",
        "    if count:\n",
        "        group_counts = [\"{0:0.0f}\\n\".format(value) for value in cf.flatten()]\n",
        "    else:\n",
        "        group_counts = blanks\n",
        "\n",
        "    if percent:\n",
        "        group_percentages = [\"{0:.2%}\".format(value) for value in cf.flatten()/np.sum(cf)]\n",
        "    else:\n",
        "        group_percentages = blanks\n",
        "\n",
        "    box_labels = [f\"{v1}{v2}{v3}\".strip() for v1, v2, v3 in zip(group_labels,group_counts,group_percentages)]\n",
        "    box_labels = np.asarray(box_labels).reshape(cf.shape[0],cf.shape[1])\n",
        "\n",
        "\n",
        "    # CODE TO GENERATE SUMMARY STATISTICS & TEXT FOR SUMMARY STATS\n",
        "    if sum_stats:\n",
        "        #Accuracy is sum of diagonal divided by total observations\n",
        "        accuracy  = np.trace(cf) / float(np.sum(cf))\n",
        "\n",
        "        #if it is a binary confusion matrix, show some more stats\n",
        "        if len(cf)==2:\n",
        "            #Metrics for Binary Confusion Matrices\n",
        "            precision = cf[1,1] / sum(cf[:,1])\n",
        "            recall    = cf[1,1] / sum(cf[1,:])\n",
        "            f1_score  = 2*precision*recall / (precision + recall)\n",
        "            stats_text = \"\\n\\nAccuracy={:0.3f}\\nPrecision={:0.3f}\\nRecall={:0.3f}\\nF1 Score={:0.3f}\".format(\n",
        "                accuracy,precision,recall,f1_score)\n",
        "        else:\n",
        "            stats_text = \"\\n\\nAccuracy={:0.3f}\".format(accuracy)\n",
        "    else:\n",
        "        stats_text = \"\"\n",
        "\n",
        "\n",
        "    # SET FIGURE PARAMETERS ACCORDING TO OTHER ARGUMENTS\n",
        "    if figsize==None:\n",
        "        #Get default figure size if not set\n",
        "        figsize = plt.rcParams.get('figure.figsize')\n",
        "\n",
        "    if xyticks==False:\n",
        "        #Do not show categories if xyticks is False\n",
        "        categories=False\n",
        "\n",
        "\n",
        "    # MAKE THE HEATMAP VISUALIZATION\n",
        "    plt.figure(figsize=figsize)\n",
        "    sns.heatmap(cf,annot=box_labels,fmt=\"\",cmap=cmap,cbar=cbar,xticklabels=categories,yticklabels=categories)\n",
        "\n",
        "    if xyplotlabels:\n",
        "        plt.ylabel('True label')\n",
        "        plt.xlabel('Predicted label' + stats_text)\n",
        "    else:\n",
        "        plt.xlabel(stats_text)\n",
        "    \n",
        "    if title:\n",
        "        plt.title(title)"
      ],
      "metadata": {
        "id": "Uoc7WlBv0HP9"
      },
      "execution_count": 45,
      "outputs": []
    },
    {
      "cell_type": "markdown",
      "source": [
        "## Building Model"
      ],
      "metadata": {
        "id": "ri_9F-Zlr6vI"
      }
    },
    {
      "cell_type": "markdown",
      "source": [
        "### CNN Model"
      ],
      "metadata": {
        "id": "XyXQ6uR1saLC"
      }
    },
    {
      "cell_type": "code",
      "source": [
        "embedding_dim = 100\n",
        "\n",
        "model = Sequential()\n",
        "model.add(Embedding(input_dim=vocab_size, output_dim=embedding_dim, input_length=maxlen))\n",
        "model.add(Conv1D(filters=128, kernel_size=5, activation='relu'))\n",
        "model.add(GlobalMaxPool1D())\n",
        "model.add(Dropout(0.2))\n",
        "model.add(Dense(64, activation='relu'))\n",
        "model.add(Dropout(0.2))\n",
        "model.add(Dense(4, activation='softmax'))\n",
        "\n",
        "model.compile(optimizer=Adam(learning_rate=0.01), loss='categorical_crossentropy', metrics=['accuracy'])\n",
        "model.summary()"
      ],
      "metadata": {
        "id": "QxE_4sqiK5L7",
        "colab": {
          "base_uri": "https://localhost:8080/"
        },
        "outputId": "ed9835d4-2fbe-4d0f-82cd-d4720228112e"
      },
      "execution_count": 46,
      "outputs": [
        {
          "output_type": "stream",
          "name": "stdout",
          "text": [
            "Model: \"sequential_1\"\n",
            "_________________________________________________________________\n",
            " Layer (type)                Output Shape              Param #   \n",
            "=================================================================\n",
            " embedding_1 (Embedding)     (None, 1250, 100)         2426900   \n",
            "                                                                 \n",
            " conv1d_1 (Conv1D)           (None, 1246, 128)         64128     \n",
            "                                                                 \n",
            " global_max_pooling1d_1 (Glo  (None, 128)              0         \n",
            " balMaxPooling1D)                                                \n",
            "                                                                 \n",
            " dropout_2 (Dropout)         (None, 128)               0         \n",
            "                                                                 \n",
            " dense_2 (Dense)             (None, 64)                8256      \n",
            "                                                                 \n",
            " dropout_3 (Dropout)         (None, 64)                0         \n",
            "                                                                 \n",
            " dense_3 (Dense)             (None, 4)                 260       \n",
            "                                                                 \n",
            "=================================================================\n",
            "Total params: 2,499,544\n",
            "Trainable params: 2,499,544\n",
            "Non-trainable params: 0\n",
            "_________________________________________________________________\n"
          ]
        }
      ]
    },
    {
      "cell_type": "code",
      "source": [
        "lr_finder = LRFinder(model)\n",
        "lr_finder.find(padded_train, train_y, start_lr=0.00001, end_lr=1, batch_size=128, epochs=20)\n",
        "lr_finder.plot_loss(n_skip_beginning=20, n_skip_end=5)\n",
        "plt.show()"
      ],
      "metadata": {
        "id": "iI1psW3w6jVC"
      },
      "execution_count": null,
      "outputs": []
    },
    {
      "cell_type": "code",
      "source": [
        "plot_model(model, to_file='model.png', show_shapes=True, show_layer_names=True)"
      ],
      "metadata": {
        "id": "T6_NV8k9OxPn"
      },
      "execution_count": null,
      "outputs": []
    },
    {
      "cell_type": "code",
      "source": [
        "history = model.fit(padded_train, train_y,\n",
        "                    batch_size=128,\n",
        "                    epochs=20,\n",
        "                    validation_data=(padded_test, test_y))"
      ],
      "metadata": {
        "colab": {
          "base_uri": "https://localhost:8080/"
        },
        "id": "9jWE2MWOO5QY",
        "outputId": "2ccc67a5-b0a8-45d6-cd97-2292853c5b0e"
      },
      "execution_count": 48,
      "outputs": [
        {
          "output_type": "stream",
          "name": "stdout",
          "text": [
            "Epoch 1/20\n",
            "10/10 [==============================] - 23s 2s/step - loss: 1.2779 - accuracy: 0.4130 - val_loss: 1.2318 - val_accuracy: 0.5147\n",
            "Epoch 2/20\n",
            "10/10 [==============================] - 25s 2s/step - loss: 1.1250 - accuracy: 0.4929 - val_loss: 1.3057 - val_accuracy: 0.4118\n",
            "Epoch 3/20\n",
            "10/10 [==============================] - 22s 2s/step - loss: 0.8858 - accuracy: 0.6543 - val_loss: 1.1875 - val_accuracy: 0.4902\n",
            "Epoch 4/20\n",
            "10/10 [==============================] - 21s 2s/step - loss: 0.7333 - accuracy: 0.7271 - val_loss: 1.3408 - val_accuracy: 0.4984\n",
            "Epoch 5/20\n",
            "10/10 [==============================] - 20s 2s/step - loss: 0.6460 - accuracy: 0.7231 - val_loss: 1.2463 - val_accuracy: 0.5016\n",
            "Epoch 6/20\n",
            "10/10 [==============================] - 20s 2s/step - loss: 0.5935 - accuracy: 0.7508 - val_loss: 1.4889 - val_accuracy: 0.4935\n",
            "Epoch 7/20\n",
            "10/10 [==============================] - 24s 2s/step - loss: 0.5376 - accuracy: 0.7603 - val_loss: 1.3370 - val_accuracy: 0.2958\n",
            "Epoch 8/20\n",
            "10/10 [==============================] - 20s 2s/step - loss: 0.4879 - accuracy: 0.7706 - val_loss: 1.2045 - val_accuracy: 0.4379\n",
            "Epoch 9/20\n",
            "10/10 [==============================] - 20s 2s/step - loss: 0.4869 - accuracy: 0.7571 - val_loss: 1.3632 - val_accuracy: 0.2745\n",
            "Epoch 10/20\n",
            "10/10 [==============================] - 21s 2s/step - loss: 0.4817 - accuracy: 0.7682 - val_loss: 1.4457 - val_accuracy: 0.3725\n",
            "Epoch 11/20\n",
            "10/10 [==============================] - 21s 2s/step - loss: 0.4597 - accuracy: 0.7666 - val_loss: 1.2413 - val_accuracy: 0.5082\n",
            "Epoch 12/20\n",
            "10/10 [==============================] - 23s 2s/step - loss: 0.4309 - accuracy: 0.7650 - val_loss: 1.2177 - val_accuracy: 0.4444\n",
            "Epoch 13/20\n",
            "10/10 [==============================] - 29s 3s/step - loss: 0.4153 - accuracy: 0.7793 - val_loss: 1.8575 - val_accuracy: 0.4951\n",
            "Epoch 14/20\n",
            "10/10 [==============================] - 20s 2s/step - loss: 0.3781 - accuracy: 0.7785 - val_loss: 1.2506 - val_accuracy: 0.4559\n",
            "Epoch 15/20\n",
            "10/10 [==============================] - 19s 2s/step - loss: 0.3879 - accuracy: 0.7809 - val_loss: 1.4196 - val_accuracy: 0.4493\n",
            "Epoch 16/20\n",
            "10/10 [==============================] - 23s 2s/step - loss: 0.3666 - accuracy: 0.7785 - val_loss: 1.6696 - val_accuracy: 0.4346\n",
            "Epoch 17/20\n",
            "10/10 [==============================] - 25s 3s/step - loss: 0.3675 - accuracy: 0.7824 - val_loss: 1.3142 - val_accuracy: 0.4412\n",
            "Epoch 18/20\n",
            "10/10 [==============================] - 19s 2s/step - loss: 0.3572 - accuracy: 0.7761 - val_loss: 1.7006 - val_accuracy: 0.2892\n",
            "Epoch 19/20\n",
            "10/10 [==============================] - 23s 2s/step - loss: 0.3722 - accuracy: 0.7840 - val_loss: 1.2898 - val_accuracy: 0.4853\n",
            "Epoch 20/20\n",
            "10/10 [==============================] - 20s 2s/step - loss: 0.3661 - accuracy: 0.7840 - val_loss: 2.0283 - val_accuracy: 0.2990\n"
          ]
        }
      ]
    },
    {
      "cell_type": "code",
      "source": [
        "loss, accuracy = model.evaluate(padded_train, train_y, verbose=False)\n",
        "print(\"Training Accuracy: {:.4f}\".format(accuracy))\n",
        "loss, accuracy = model.evaluate(padded_test, test_y, verbose=False)\n",
        "print(\"Testing Accuracy:  {:.4f}\".format(accuracy))"
      ],
      "metadata": {
        "colab": {
          "base_uri": "https://localhost:8080/"
        },
        "id": "BYqgF_SWPQ1J",
        "outputId": "c5acaf11-94f5-4016-8cdb-dec48f8e42b5"
      },
      "execution_count": 49,
      "outputs": [
        {
          "output_type": "stream",
          "name": "stdout",
          "text": [
            "Training Accuracy: 0.7959\n",
            "Testing Accuracy:  0.2990\n"
          ]
        }
      ]
    },
    {
      "cell_type": "code",
      "source": [
        "plot_history(history)"
      ],
      "metadata": {
        "colab": {
          "base_uri": "https://localhost:8080/",
          "height": 927
        },
        "id": "euZNEMr1PqQe",
        "outputId": "e9a2a59e-bd46-460f-9503-4bb951a502c8"
      },
      "execution_count": 50,
      "outputs": [
        {
          "output_type": "display_data",
          "data": {
            "text/plain": [
              "<Figure size 640x480 with 1 Axes>"
            ],
            "image/png": "[encoded data removed]"
          },
          "metadata": {}
        },
        {
          "output_type": "display_data",
          "data": {
            "text/plain": [
              "<Figure size 640x480 with 1 Axes>"
            ],
            "image/png": "[encoded data removed]"
          },
          "metadata": {}
        }
      ]
    },
    {
      "cell_type": "code",
      "source": [
        "#Evaluation\n",
        "y_prediction = model.predict(padded_test)\n",
        "y_prediction = np.argmax (y_prediction, axis = 1)\n",
        "result_ = confusion_matrix(y_test, y_prediction)"
      ],
      "metadata": {
        "colab": {
          "base_uri": "https://localhost:8080/"
        },
        "id": "xG1IItaMzONF",
        "outputId": "f7cc889d-1d54-473b-ea42-83dd07d228db"
      },
      "execution_count": 51,
      "outputs": [
        {
          "output_type": "stream",
          "name": "stdout",
          "text": [
            "20/20 [==============================] - 2s 114ms/step\n"
          ]
        }
      ]
    },
    {
      "cell_type": "code",
      "source": [
        "#Print Classification Report\n",
        "print(classification_report(y_test, y_prediction, zero_division=1))"
      ],
      "metadata": {
        "colab": {
          "base_uri": "https://localhost:8080/"
        },
        "id": "dbOqocrpzdlQ",
        "outputId": "c567cce2-2e65-40a5-a0a9-3398da357266"
      },
      "execution_count": 52,
      "outputs": [
        {
          "output_type": "stream",
          "name": "stdout",
          "text": [
            "              precision    recall  f1-score   support\n",
            "\n",
            "           0       0.67      0.44      0.53       315\n",
            "           1       0.50      0.00      0.01       210\n",
            "           2       0.11      0.70      0.19        56\n",
            "           3       0.06      0.10      0.07        31\n",
            "\n",
            "    accuracy                           0.30       612\n",
            "   macro avg       0.33      0.31      0.20       612\n",
            "weighted avg       0.53      0.30      0.30       612\n",
            "\n"
          ]
        }
      ]
    },
    {
      "cell_type": "code",
      "source": [
        "#Plot Confusion Matrix\n",
        "labels = ['True Neg','False Pos','False Neg','True Pos']\n",
        "categories = ['False', 'True', 'Partially False', 'Other']\n",
        "\n",
        "make_confusion_matrix(result,\n",
        "                      group_names=labels,\n",
        "                      categories=categories, \n",
        "                      cmap='Blues',\n",
        "                      figsize=(5,5),\n",
        "                      cbar=True, title='Confusion Matrix: CNN', sum_stats=True)"
      ],
      "metadata": {
        "colab": {
          "base_uri": "https://localhost:8080/",
          "height": 520
        },
        "id": "AzYAnh0Ez4xb",
        "outputId": "1773fd64-1c5b-4e02-c342-36bb9edae863"
      },
      "execution_count": 53,
      "outputs": [
        {
          "output_type": "display_data",
          "data": {
            "text/plain": [
              "<Figure size 500x500 with 2 Axes>"
            ],
            "image/png": "[encoded data removed]"
          },
          "metadata": {}
        }
      ]
    },
    {
      "cell_type": "markdown",
      "source": [
        "### LSTM"
      ],
      "metadata": {
        "id": "IFpFlpirw5NH"
      }
    },
    {
      "cell_type": "code",
      "source": [
        "embedding_dim = 100\n",
        "\n",
        "model1 = Sequential()\n",
        "model1.add(Embedding(input_dim=vocab_size, output_dim=embedding_dim, input_length=maxlen))\n",
        "model1.add(Bidirectional(LSTM(128, dropout=0.5)))\n",
        "model1.add(Dense(128, activation='relu'))\n",
        "model1.add(Dense(4, activation='softmax'))\n",
        "model1.compile(optimizer='adam', loss='categorical_crossentropy', metrics=['accuracy'])\n",
        "model1.summary()"
      ],
      "metadata": {
        "id": "8uNQX9PZavFP",
        "colab": {
          "base_uri": "https://localhost:8080/"
        },
        "outputId": "229016f1-8026-4103-9fda-3ab74e8ca0c2"
      },
      "execution_count": 54,
      "outputs": [
        {
          "output_type": "stream",
          "name": "stdout",
          "text": [
            "Model: \"sequential_2\"\n",
            "_________________________________________________________________\n",
            " Layer (type)                Output Shape              Param #   \n",
            "=================================================================\n",
            " embedding_2 (Embedding)     (None, 1250, 100)         2426900   \n",
            "                                                                 \n",
            " bidirectional (Bidirectiona  (None, 256)              234496    \n",
            " l)                                                              \n",
            "                                                                 \n",
            " dense_4 (Dense)             (None, 128)               32896     \n",
            "                                                                 \n",
            " dense_5 (Dense)             (None, 4)                 516       \n",
            "                                                                 \n",
            "=================================================================\n",
            "Total params: 2,694,808\n",
            "Trainable params: 2,694,808\n",
            "Non-trainable params: 0\n",
            "_________________________________________________________________\n"
          ]
        }
      ]
    },
    {
      "cell_type": "code",
      "source": [
        "plot_model(model1, to_file='model_lstm.png', show_shapes=True, show_layer_names=True)"
      ],
      "metadata": {
        "id": "xajpDFstGdA6",
        "outputId": "344bcfd6-1221-4983-b5c0-e689642e39f8",
        "colab": {
          "base_uri": "https://localhost:8080/",
          "height": 533
        }
      },
      "execution_count": 55,
      "outputs": [
        {
          "output_type": "execute_result",
          "data": {
            "image/png": "[encoded data removed]",
            "text/plain": [
              "<IPython.core.display.Image object>"
            ]
          },
          "metadata": {},
          "execution_count": 55
        }
      ]
    },
    {
      "cell_type": "code",
      "source": [
        "history_1 = model1.fit(padded_train, train_y,\n",
        "                    batch_size=128,\n",
        "                    epochs=20,\n",
        "                    validation_data=(padded_test, test_y))"
      ],
      "metadata": {
        "id": "rQ7Aff6aa9-S"
      },
      "execution_count": null,
      "outputs": []
    },
    {
      "cell_type": "code",
      "source": [
        "loss, accuracy = model1.evaluate(padded_train, train_y, verbose=False)\n",
        "print(\"Training Accuracy: {:.4f}\".format(accuracy))\n",
        "loss, accuracy = model1.evaluate(padded_test, test_y, verbose=False)\n",
        "print(\"Testing Accuracy:  {:.4f}\".format(accuracy))"
      ],
      "metadata": {
        "id": "H88dspLcbI4G"
      },
      "execution_count": null,
      "outputs": []
    },
    {
      "cell_type": "code",
      "source": [
        "plot_history(history_1)"
      ],
      "metadata": {
        "id": "FRnTBS2j1FF0"
      },
      "execution_count": null,
      "outputs": []
    },
    {
      "cell_type": "code",
      "source": [
        "#Evaluation\n",
        "y_prediction_1 = model.predict(padded_test)\n",
        "y_prediction_1 = np.argmax (y_prediction_1, axis = 1)\n",
        "result_1 = confusion_matrix(y_test, y_prediction_1)"
      ],
      "metadata": {
        "id": "kDMKfKCH1GuI"
      },
      "execution_count": null,
      "outputs": []
    },
    {
      "cell_type": "code",
      "source": [
        "#Print Classification Report\n",
        "print(classification_report(y_test, y_prediction_1, zero_division=1))"
      ],
      "metadata": {
        "id": "ge8YQ_KS1ISn"
      },
      "execution_count": null,
      "outputs": []
    },
    {
      "cell_type": "code",
      "source": [
        "#Plot Confusion Matrix\n",
        "labels = ['True Neg','False Pos','False Neg','True Pos']\n",
        "categories = ['False', 'True', 'Partially False', 'Other']\n",
        "\n",
        "make_confusion_matrix(result_1, \n",
        "                      group_names=labels,\n",
        "                      categories=categories, \n",
        "                      cmap='Blues',\n",
        "                      figsize=(5,5),\n",
        "                      cbar=True, title='Confusion Matrix: LSTM', sum_stats=True)"
      ],
      "metadata": {
        "id": "7Va__V601KBj"
      },
      "execution_count": null,
      "outputs": []
    }
  ]
}